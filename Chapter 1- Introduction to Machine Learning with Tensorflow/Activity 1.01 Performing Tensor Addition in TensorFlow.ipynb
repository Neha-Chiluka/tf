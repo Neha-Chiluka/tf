{
 "cells": [
  {
   "cell_type": "code",
   "execution_count": 1,
   "id": "4c82c473",
   "metadata": {},
   "outputs": [],
   "source": [
    "import tensorflow as tf"
   ]
  },
  {
   "cell_type": "code",
   "execution_count": 2,
   "id": "301a6394",
   "metadata": {},
   "outputs": [],
   "source": [
    "var1 = tf.Variable(70, tf.int32)\n",
    "var2 = tf.Variable(38, tf.int32)"
   ]
  },
  {
   "cell_type": "code",
   "execution_count": 3,
   "id": "e5bb1e34",
   "metadata": {},
   "outputs": [
    {
     "data": {
      "text/plain": [
       "108"
      ]
     },
     "execution_count": 3,
     "metadata": {},
     "output_type": "execute_result"
    }
   ],
   "source": [
    "var_sum = var1 + var2\n",
    "var_sum.numpy()"
   ]
  },
  {
   "cell_type": "code",
   "execution_count": 5,
   "id": "31dbd022",
   "metadata": {},
   "outputs": [],
   "source": [
    "scalar1 = tf.Variable(95, tf.int32)\n",
    "vector1 = tf.Variable([70, 79, 51] , \\\n",
    "                          tf.int32)"
   ]
  },
  {
   "cell_type": "code",
   "execution_count": 6,
   "id": "fbd9f86b",
   "metadata": {},
   "outputs": [
    {
     "data": {
      "text/plain": [
       "array([165, 174, 146])"
      ]
     },
     "execution_count": 6,
     "metadata": {},
     "output_type": "execute_result"
    }
   ],
   "source": [
    "vector_scalar_sum = scalar1 + vector1\n",
    "vector_scalar_sum.numpy()"
   ]
  },
  {
   "cell_type": "code",
   "execution_count": 8,
   "id": "e9448c34",
   "metadata": {},
   "outputs": [],
   "source": [
    "matrix1 = tf.Variable([[70, 79, 51], \\\n",
    "                           [38, 40, 59]], tf.int32)\n",
    "matrix2 = tf.Variable([[90, 28, 64], \\\n",
    "                           [62, 98, 48]], tf.int32)\n",
    "matrix3 = tf.Variable([[39, 33, 55], \\\n",
    "                           [45, 97, 47]], tf.int32)"
   ]
  },
  {
   "cell_type": "code",
   "execution_count": 9,
   "id": "7a11abe8",
   "metadata": {},
   "outputs": [
    {
     "data": {
      "text/plain": [
       "array([[199, 140, 170],\n",
       "       [145, 235, 154]])"
      ]
     },
     "execution_count": 9,
     "metadata": {},
     "output_type": "execute_result"
    }
   ],
   "source": [
    "matrix_sum = matrix1 + matrix2 + matrix3\n",
    "matrix_sum.numpy()"
   ]
  }
 ],
 "metadata": {
  "kernelspec": {
   "display_name": "Python 3",
   "language": "python",
   "name": "python3"
  },
  "language_info": {
   "codemirror_mode": {
    "name": "ipython",
    "version": 3
   },
   "file_extension": ".py",
   "mimetype": "text/x-python",
   "name": "python",
   "nbconvert_exporter": "python",
   "pygments_lexer": "ipython3",
   "version": "3.9.6"
  }
 },
 "nbformat": 4,
 "nbformat_minor": 5
}
