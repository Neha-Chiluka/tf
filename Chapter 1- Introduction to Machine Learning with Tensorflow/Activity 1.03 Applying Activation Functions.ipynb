{
 "cells": [
  {
   "cell_type": "code",
   "execution_count": 1,
   "id": "2bcbc73b",
   "metadata": {},
   "outputs": [],
   "source": [
    "import tensorflow as tf"
   ]
  },
  {
   "cell_type": "code",
   "execution_count": 3,
   "id": "72ec2163",
   "metadata": {},
   "outputs": [],
   "source": [
    "input1 = tf.Variable([[-0.013, 0.024, 0.06, 0.022], \\\n",
    "                          [0.001, -0.047, 0.039, 0.016], \\\n",
    "                          [0.018, 0.030, -0.021, -0.028]], \\\n",
    "                         tf.float32)"
   ]
  },
  {
   "cell_type": "code",
   "execution_count": 4,
   "id": "8a9290f0",
   "metadata": {},
   "outputs": [],
   "source": [
    "weights = tf.Variable([[19995.95], [24995.50], \\\n",
    "                           [36745.50], [29995.95]], \\\n",
    "                          tf.float32)"
   ]
  },
  {
   "cell_type": "code",
   "execution_count": 5,
   "id": "6a29c36d",
   "metadata": {},
   "outputs": [],
   "source": [
    "bias = tf.Variable([[-2500.0],[-2500.0],[-2500.0]], \\\n",
    "                       tf.float32)"
   ]
  },
  {
   "cell_type": "code",
   "execution_count": 6,
   "id": "4bb62c1e",
   "metadata": {},
   "outputs": [
    {
     "data": {
      "text/plain": [
       "<tf.Tensor: shape=(3, 1), dtype=float32, numpy=\n",
       "array([[  704.58545],\n",
       "       [-1741.7827 ],\n",
       "       [-3001.75   ]], dtype=float32)>"
      ]
     },
     "execution_count": 6,
     "metadata": {},
     "output_type": "execute_result"
    }
   ],
   "source": [
    "output = tf.matmul(input1,weights) + bias\n",
    "output"
   ]
  },
  {
   "cell_type": "code",
   "execution_count": 7,
   "id": "7f1ec70f",
   "metadata": {},
   "outputs": [
    {
     "data": {
      "text/plain": [
       "<tf.Tensor: shape=(3, 1), dtype=float32, numpy=\n",
       "array([[704.58545],\n",
       "       [  0.     ],\n",
       "       [  0.     ]], dtype=float32)>"
      ]
     },
     "execution_count": 7,
     "metadata": {},
     "output_type": "execute_result"
    }
   ],
   "source": [
    "output = tf.keras.activations.relu(output)\n",
    "output "
   ]
  }
 ],
 "metadata": {
  "kernelspec": {
   "display_name": "Python 3",
   "language": "python",
   "name": "python3"
  },
  "language_info": {
   "codemirror_mode": {
    "name": "ipython",
    "version": 3
   },
   "file_extension": ".py",
   "mimetype": "text/x-python",
   "name": "python",
   "nbconvert_exporter": "python",
   "pygments_lexer": "ipython3",
   "version": "3.9.6"
  }
 },
 "nbformat": 4,
 "nbformat_minor": 5
}
