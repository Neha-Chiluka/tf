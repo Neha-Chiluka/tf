{
 "cells": [
  {
   "cell_type": "code",
   "execution_count": 1,
   "id": "e5408111",
   "metadata": {},
   "outputs": [],
   "source": [
    "import tensorflow as tf"
   ]
  },
  {
   "cell_type": "code",
   "execution_count": 2,
   "id": "e17f1811",
   "metadata": {},
   "outputs": [],
   "source": [
    "int1 = tf.Variable(41, tf.int32)\n",
    "int2 = tf.Variable(38, tf.int32)\n",
    "int3 = tf.Variable(51, tf.int32)"
   ]
  },
  {
   "cell_type": "code",
   "execution_count": 3,
   "id": "d3526278",
   "metadata": {},
   "outputs": [],
   "source": [
    "int_sum = int1+int2+int3"
   ]
  },
  {
   "cell_type": "code",
   "execution_count": 4,
   "id": "fa1dbec1",
   "metadata": {},
   "outputs": [
    {
     "data": {
      "text/plain": [
       "130"
      ]
     },
     "execution_count": 4,
     "metadata": {},
     "output_type": "execute_result"
    }
   ],
   "source": [
    "int_sum.numpy()"
   ]
  },
  {
   "cell_type": "code",
   "execution_count": 5,
   "id": "4e3d959b",
   "metadata": {},
   "outputs": [],
   "source": [
    "vec1 = tf.Variable([41, 38, 51], tf.int32)\n",
    "vec2 = tf.Variable([75, 67, 70], tf.int32)\n",
    "vec3 = tf.Variable([62, 69, 65], tf.int32)"
   ]
  },
  {
   "cell_type": "code",
   "execution_count": 6,
   "id": "4d7576e6",
   "metadata": {},
   "outputs": [],
   "source": [
    "vec_sum = vec1 + vec2 + vec3"
   ]
  },
  {
   "cell_type": "code",
   "execution_count": 7,
   "id": "ff2e8f72",
   "metadata": {},
   "outputs": [
    {
     "data": {
      "text/plain": [
       "array([178, 174, 186])"
      ]
     },
     "execution_count": 7,
     "metadata": {},
     "output_type": "execute_result"
    }
   ],
   "source": [
    "vec_sum.numpy()"
   ]
  },
  {
   "cell_type": "code",
   "execution_count": 8,
   "id": "3b0959b9",
   "metadata": {},
   "outputs": [
    {
     "name": "stdout",
     "output_type": "stream",
     "text": [
      "178\n",
      "174\n",
      "186\n"
     ]
    }
   ],
   "source": [
    "print((vec1[0] + vec2[0] + vec3[0]).numpy())\n",
    "print((vec1[1] + vec2[1] + vec3[1]).numpy())\n",
    "print((vec1[2] + vec2[2] + vec3[2]).numpy())"
   ]
  },
  {
   "cell_type": "code",
   "execution_count": 11,
   "id": "ea1e4e3b",
   "metadata": {},
   "outputs": [],
   "source": [
    "matrix1 = tf.Variable([[41, 38, 51], \\\n",
    "                           [36, 95, 80]], tf.int32)\n",
    "matrix2 = tf.Variable([[75, 67, 70], \\\n",
    "                           [59, 78, 45]], tf.int32)\n",
    "matrix3 = tf.Variable([[62, 69, 65], \\\n",
    "                           [62, 98, 48]], tf.int32)"
   ]
  },
  {
   "cell_type": "code",
   "execution_count": 12,
   "id": "de59110a",
   "metadata": {},
   "outputs": [
    {
     "data": {
      "text/plain": [
       "True"
      ]
     },
     "execution_count": 12,
     "metadata": {},
     "output_type": "execute_result"
    }
   ],
   "source": [
    "matrix1.shape == matrix2.shape == matrix3.shape"
   ]
  },
  {
   "cell_type": "code",
   "execution_count": 13,
   "id": "be6af3c4",
   "metadata": {},
   "outputs": [],
   "source": [
    "matrix_sum = matrix1 + matrix2 + matrix3"
   ]
  },
  {
   "cell_type": "code",
   "execution_count": 14,
   "id": "dfd8821c",
   "metadata": {},
   "outputs": [
    {
     "data": {
      "text/plain": [
       "array([[178, 174, 186],\n",
       "       [157, 271, 173]])"
      ]
     },
     "execution_count": 14,
     "metadata": {},
     "output_type": "execute_result"
    }
   ],
   "source": [
    "matrix_sum.numpy()"
   ]
  },
  {
   "cell_type": "code",
   "execution_count": 15,
   "id": "0b92a0c7",
   "metadata": {},
   "outputs": [
    {
     "name": "stdout",
     "output_type": "stream",
     "text": [
      "178\n",
      "174\n",
      "186\n",
      "157\n",
      "271\n",
      "173\n"
     ]
    }
   ],
   "source": [
    "print((matrix1[0][0] + matrix2[0][0] + matrix3[0][0]).numpy())\n",
    "print((matrix1[0][1] + matrix2[0][1] + matrix3[0][1]).numpy())\n",
    "print((matrix1[0][2] + matrix2[0][2] + matrix3[0][2]).numpy())\n",
    "print((matrix1[1][0] + matrix2[1][0] + matrix3[1][0]).numpy())\n",
    "print((matrix1[1][1] + matrix2[1][1] + matrix3[1][1]).numpy())\n",
    "print((matrix1[1][2] + matrix2[1][2] + matrix3[1][2]).numpy())"
   ]
  },
  {
   "cell_type": "code",
   "execution_count": null,
   "id": "12b5dde2",
   "metadata": {},
   "outputs": [],
   "source": []
  }
 ],
 "metadata": {
  "kernelspec": {
   "display_name": "Python 3",
   "language": "python",
   "name": "python3"
  },
  "language_info": {
   "codemirror_mode": {
    "name": "ipython",
    "version": 3
   },
   "file_extension": ".py",
   "mimetype": "text/x-python",
   "name": "python",
   "nbconvert_exporter": "python",
   "pygments_lexer": "ipython3",
   "version": "3.9.6"
  }
 },
 "nbformat": 4,
 "nbformat_minor": 5
}
