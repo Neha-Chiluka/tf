{
 "cells": [
  {
   "cell_type": "code",
   "execution_count": 1,
   "id": "532a1295",
   "metadata": {},
   "outputs": [],
   "source": [
    "import tensorflow as tf"
   ]
  },
  {
   "cell_type": "code",
   "execution_count": 4,
   "id": "002e0d66",
   "metadata": {},
   "outputs": [
    {
     "data": {
      "text/plain": [
       "<tf.Variable 'Variable:0' shape=(3, 5) dtype=float32, numpy=\n",
       "array([[1., 0., 3., 1., 2.],\n",
       "       [0., 1., 1., 1., 1.],\n",
       "       [2., 1., 0., 2., 0.]], dtype=float32)>"
      ]
     },
     "execution_count": 4,
     "metadata": {},
     "output_type": "execute_result"
    }
   ],
   "source": [
    "matrix1 = tf.Variable([[1.0,0.0,3.0,1.0,2.0], \\\n",
    "                           [0.0,1.0,1.0,1.0,1.0], \\\n",
    "                           [2.0,1.0,0.0,2.0,0.0]], \\\n",
    "                          tf.float32)\n",
    "matrix1"
   ]
  },
  {
   "cell_type": "code",
   "execution_count": 5,
   "id": "4eb04cdb",
   "metadata": {},
   "outputs": [
    {
     "data": {
      "text/plain": [
       "[3, 5]"
      ]
     },
     "execution_count": 5,
     "metadata": {},
     "output_type": "execute_result"
    }
   ],
   "source": [
    "matrix1.shape.as_list()"
   ]
  },
  {
   "cell_type": "code",
   "execution_count": 7,
   "id": "d035c608",
   "metadata": {},
   "outputs": [
    {
     "data": {
      "text/plain": [
       "<tf.Variable 'Variable:0' shape=(5, 2) dtype=float32, numpy=\n",
       "array([[  0.49, 103.  ],\n",
       "       [  0.18,  38.  ],\n",
       "       [  0.24,  69.  ],\n",
       "       [  1.02,  75.  ],\n",
       "       [  0.68,  78.  ]], dtype=float32)>"
      ]
     },
     "execution_count": 7,
     "metadata": {},
     "output_type": "execute_result"
    }
   ],
   "source": [
    "matrix2 = tf.Variable([[0.49, 103], \\\n",
    "                           [0.18, 38], \\\n",
    "                           [0.24, 69], \\\n",
    "                           [1.02, 75], \\\n",
    "                           [0.68, 78]])\n",
    "matrix2"
   ]
  },
  {
   "cell_type": "code",
   "execution_count": 8,
   "id": "a75f8479",
   "metadata": {},
   "outputs": [
    {
     "data": {
      "text/plain": [
       "<tf.Tensor: shape=(3, 2), dtype=float32, numpy=\n",
       "array([[  3.5898438, 541.       ],\n",
       "       [  2.119751 , 260.       ],\n",
       "       [  3.1990967, 394.       ]], dtype=float32)>"
      ]
     },
     "execution_count": 8,
     "metadata": {},
     "output_type": "execute_result"
    }
   ],
   "source": [
    "matmul1 = tf.matmul(matrix1, matrix2)\n",
    "matmul1"
   ]
  },
  {
   "cell_type": "code",
   "execution_count": 9,
   "id": "9c8f4187",
   "metadata": {},
   "outputs": [],
   "source": [
    "matrix3 = tf.Variable([[120.0, 100.0, 90.0], \\\n",
    "                           [30.0, 15.0, 20.0], \\\n",
    "                           [220.0, 240.0, 185.0], \\\n",
    "                            [145.0, 160.0, 155.0], \\\n",
    "                           [330.0, 295.0, 290.0]])"
   ]
  },
  {
   "cell_type": "code",
   "execution_count": 10,
   "id": "0c05c380",
   "metadata": {},
   "outputs": [
    {
     "data": {
      "text/plain": [
       "<tf.Tensor: shape=(5, 2), dtype=float32, numpy=\n",
       "array([[9.3067505e+02, 1.2638000e+05],\n",
       "       [2.0347351e+02, 2.8010000e+04],\n",
       "       [1.8903387e+03, 2.5431000e+05],\n",
       "       [1.3555475e+03, 1.8111500e+05],\n",
       "       [2.7377129e+03, 3.6949000e+05]], dtype=float32)>"
      ]
     },
     "execution_count": 10,
     "metadata": {},
     "output_type": "execute_result"
    }
   ],
   "source": [
    "matmul3 = matrix3 @ matmul1\n",
    "matmul3"
   ]
  },
  {
   "cell_type": "code",
   "execution_count": null,
   "id": "f1f1953d",
   "metadata": {},
   "outputs": [],
   "source": []
  },
  {
   "cell_type": "code",
   "execution_count": null,
   "id": "dc86e232",
   "metadata": {},
   "outputs": [],
   "source": []
  },
  {
   "cell_type": "code",
   "execution_count": null,
   "id": "b370d650",
   "metadata": {},
   "outputs": [],
   "source": []
  },
  {
   "cell_type": "code",
   "execution_count": null,
   "id": "16b1de80",
   "metadata": {},
   "outputs": [],
   "source": []
  },
  {
   "cell_type": "code",
   "execution_count": null,
   "id": "9ff9de0c",
   "metadata": {},
   "outputs": [],
   "source": []
  },
  {
   "cell_type": "code",
   "execution_count": null,
   "id": "15c6cd0c",
   "metadata": {},
   "outputs": [],
   "source": []
  }
 ],
 "metadata": {
  "kernelspec": {
   "display_name": "Python 3",
   "language": "python",
   "name": "python3"
  },
  "language_info": {
   "codemirror_mode": {
    "name": "ipython",
    "version": 3
   },
   "file_extension": ".py",
   "mimetype": "text/x-python",
   "name": "python",
   "nbconvert_exporter": "python",
   "pygments_lexer": "ipython3",
   "version": "3.9.6"
  }
 },
 "nbformat": 4,
 "nbformat_minor": 5
}
