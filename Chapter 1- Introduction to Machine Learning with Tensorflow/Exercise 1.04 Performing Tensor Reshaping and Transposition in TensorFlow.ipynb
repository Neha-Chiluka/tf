{
 "cells": [
  {
   "cell_type": "code",
   "execution_count": 1,
   "id": "73cd4ade",
   "metadata": {},
   "outputs": [],
   "source": [
    "import tensorflow as tf\n",
    "matrix1 = tf.Variable([[11,12,13,14], [15,16,17,18]])"
   ]
  },
  {
   "cell_type": "code",
   "execution_count": 2,
   "id": "81a21525",
   "metadata": {},
   "outputs": [
    {
     "data": {
      "text/plain": [
       "[2, 4]"
      ]
     },
     "execution_count": 2,
     "metadata": {},
     "output_type": "execute_result"
    }
   ],
   "source": [
    "matrix1.shape.as_list()"
   ]
  },
  {
   "cell_type": "code",
   "execution_count": 3,
   "id": "10f65c1a",
   "metadata": {},
   "outputs": [
    {
     "data": {
      "text/plain": [
       "<tf.Tensor: shape=(4, 2), dtype=int32, numpy=\n",
       "array([[11, 12],\n",
       "       [13, 14],\n",
       "       [15, 16],\n",
       "       [17, 18]])>"
      ]
     },
     "execution_count": 3,
     "metadata": {},
     "output_type": "execute_result"
    }
   ],
   "source": [
    "reshape1 = tf.reshape(matrix1, shape=[4, 2])\n",
    "reshape1"
   ]
  },
  {
   "cell_type": "code",
   "execution_count": 4,
   "id": "a130ba2e",
   "metadata": {},
   "outputs": [
    {
     "data": {
      "text/plain": [
       "[4, 2]"
      ]
     },
     "execution_count": 4,
     "metadata": {},
     "output_type": "execute_result"
    }
   ],
   "source": [
    "reshape1.shape.as_list()"
   ]
  },
  {
   "cell_type": "code",
   "execution_count": 5,
   "id": "5627b4bb",
   "metadata": {},
   "outputs": [
    {
     "data": {
      "text/plain": [
       "<tf.Tensor: shape=(1, 8), dtype=int32, numpy=array([[11, 12, 13, 14, 15, 16, 17, 18]])>"
      ]
     },
     "execution_count": 5,
     "metadata": {},
     "output_type": "execute_result"
    }
   ],
   "source": [
    "reshape2 = tf.reshape(matrix1, shape=[1, 8])\n",
    "reshape2"
   ]
  },
  {
   "cell_type": "code",
   "execution_count": 6,
   "id": "d6fef003",
   "metadata": {},
   "outputs": [
    {
     "data": {
      "text/plain": [
       "[1, 8]"
      ]
     },
     "execution_count": 6,
     "metadata": {},
     "output_type": "execute_result"
    }
   ],
   "source": [
    "reshape2.shape.as_list()"
   ]
  },
  {
   "cell_type": "code",
   "execution_count": 7,
   "id": "e4e27986",
   "metadata": {},
   "outputs": [
    {
     "data": {
      "text/plain": [
       "<tf.Tensor: shape=(8, 1), dtype=int32, numpy=\n",
       "array([[11],\n",
       "       [12],\n",
       "       [13],\n",
       "       [14],\n",
       "       [15],\n",
       "       [16],\n",
       "       [17],\n",
       "       [18]])>"
      ]
     },
     "execution_count": 7,
     "metadata": {},
     "output_type": "execute_result"
    }
   ],
   "source": [
    "reshape3 = tf.reshape(matrix1, shape=[8, 1])\n",
    "reshape3"
   ]
  },
  {
   "cell_type": "code",
   "execution_count": 8,
   "id": "5a5bcdea",
   "metadata": {},
   "outputs": [
    {
     "data": {
      "text/plain": [
       "[8, 1]"
      ]
     },
     "execution_count": 8,
     "metadata": {},
     "output_type": "execute_result"
    }
   ],
   "source": [
    "reshape3.shape.as_list()"
   ]
  },
  {
   "cell_type": "code",
   "execution_count": 9,
   "id": "6f72473c",
   "metadata": {},
   "outputs": [
    {
     "data": {
      "text/plain": [
       "<tf.Tensor: shape=(2, 2, 2), dtype=int32, numpy=\n",
       "array([[[11, 12],\n",
       "        [13, 14]],\n",
       "\n",
       "       [[15, 16],\n",
       "        [17, 18]]])>"
      ]
     },
     "execution_count": 9,
     "metadata": {},
     "output_type": "execute_result"
    }
   ],
   "source": [
    "reshape4 = tf.reshape(matrix1, shape=[2, 2, 2])\n",
    "reshape4"
   ]
  },
  {
   "cell_type": "code",
   "execution_count": 10,
   "id": "394cecc5",
   "metadata": {},
   "outputs": [
    {
     "data": {
      "text/plain": [
       "[2, 2, 2]"
      ]
     },
     "execution_count": 10,
     "metadata": {},
     "output_type": "execute_result"
    }
   ],
   "source": [
    "reshape4.shape.as_list()"
   ]
  },
  {
   "cell_type": "code",
   "execution_count": 11,
   "id": "a16c191b",
   "metadata": {},
   "outputs": [
    {
     "data": {
      "text/plain": [
       "3"
      ]
     },
     "execution_count": 11,
     "metadata": {},
     "output_type": "execute_result"
    }
   ],
   "source": [
    "tf.rank(reshape4).numpy()"
   ]
  },
  {
   "cell_type": "code",
   "execution_count": 12,
   "id": "e9971f26",
   "metadata": {},
   "outputs": [
    {
     "data": {
      "text/plain": [
       "<tf.Tensor: shape=(4, 2), dtype=int32, numpy=\n",
       "array([[11, 15],\n",
       "       [12, 16],\n",
       "       [13, 17],\n",
       "       [14, 18]])>"
      ]
     },
     "execution_count": 12,
     "metadata": {},
     "output_type": "execute_result"
    }
   ],
   "source": [
    "transpose1 = tf.transpose(matrix1)\n",
    "transpose1"
   ]
  },
  {
   "cell_type": "code",
   "execution_count": 13,
   "id": "dc63e699",
   "metadata": {},
   "outputs": [
    {
     "data": {
      "text/plain": [
       "<tf.Tensor: shape=(4, 2), dtype=bool, numpy=\n",
       "array([[ True, False],\n",
       "       [False, False],\n",
       "       [False, False],\n",
       "       [False,  True]])>"
      ]
     },
     "execution_count": 13,
     "metadata": {},
     "output_type": "execute_result"
    }
   ],
   "source": [
    "transpose1 == reshape1"
   ]
  },
  {
   "cell_type": "code",
   "execution_count": 14,
   "id": "3a9600b5",
   "metadata": {},
   "outputs": [
    {
     "data": {
      "text/plain": [
       "<tf.Tensor: shape=(2, 2, 2), dtype=int32, numpy=\n",
       "array([[[11, 15],\n",
       "        [13, 17]],\n",
       "\n",
       "       [[12, 16],\n",
       "        [14, 18]]])>"
      ]
     },
     "execution_count": 14,
     "metadata": {},
     "output_type": "execute_result"
    }
   ],
   "source": [
    "transpose2 = tf.transpose(reshape4)\n",
    "transpose2"
   ]
  },
  {
   "cell_type": "code",
   "execution_count": null,
   "id": "286c994b",
   "metadata": {},
   "outputs": [],
   "source": []
  }
 ],
 "metadata": {
  "kernelspec": {
   "display_name": "Python 3",
   "language": "python",
   "name": "python3"
  },
  "language_info": {
   "codemirror_mode": {
    "name": "ipython",
    "version": 3
   },
   "file_extension": ".py",
   "mimetype": "text/x-python",
   "name": "python",
   "nbconvert_exporter": "python",
   "pygments_lexer": "ipython3",
   "version": "3.9.6"
  }
 },
 "nbformat": 4,
 "nbformat_minor": 5
}
