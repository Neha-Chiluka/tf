{
 "cells": [
  {
   "cell_type": "code",
   "execution_count": 2,
   "id": "0ca49e39",
   "metadata": {},
   "outputs": [],
   "source": [
    "import tensorflow as tf"
   ]
  },
  {
   "cell_type": "code",
   "execution_count": 4,
   "id": "add81c20",
   "metadata": {},
   "outputs": [],
   "source": [
    "tensor1 = tf.Variable([2,5,7], dtype=tf.int32, \\\n",
    "                      name='my_tensor', trainable=True)"
   ]
  },
  {
   "cell_type": "code",
   "execution_count": 5,
   "id": "7bd51919",
   "metadata": {},
   "outputs": [
    {
     "data": {
      "text/plain": [
       "TensorShape([3])"
      ]
     },
     "execution_count": 5,
     "metadata": {},
     "output_type": "execute_result"
    }
   ],
   "source": [
    "tensor1.shape"
   ]
  },
  {
   "cell_type": "code",
   "execution_count": 6,
   "id": "7fbfc94c",
   "metadata": {},
   "outputs": [
    {
     "data": {
      "text/plain": [
       "<tf.Tensor: shape=(), dtype=int32, numpy=1>"
      ]
     },
     "execution_count": 6,
     "metadata": {},
     "output_type": "execute_result"
    }
   ],
   "source": [
    "tf.rank(tensor1)"
   ]
  },
  {
   "cell_type": "code",
   "execution_count": 2,
   "id": "df8b75a1",
   "metadata": {},
   "outputs": [],
   "source": [
    "tensor1 = tf.Variable([11,12,13])\n",
    "tensor2 = tf.Variable([14,15,16])\n",
    "tensor_add1 = tf.add(tensor1, tensor2)\n",
    "tensor_add2 = tensor1 + tensor2"
   ]
  },
  {
   "cell_type": "code",
   "execution_count": 3,
   "id": "77e37716",
   "metadata": {},
   "outputs": [],
   "source": [
    "tensor1 = tf.Variable([1,2,3,4,5,6])\n",
    "tensor_reshape = tf.reshape(tensor1, shape=[3,2])"
   ]
  },
  {
   "cell_type": "code",
   "execution_count": 4,
   "id": "e8479912",
   "metadata": {},
   "outputs": [],
   "source": [
    "tensor1 = tf.Variable([1,2,3,4,5,6])\n",
    "tensor_transpose = tf.transpose(tensor1)"
   ]
  },
  {
   "cell_type": "code",
   "execution_count": 5,
   "id": "38e454e2",
   "metadata": {},
   "outputs": [],
   "source": [
    "tensor1 = tf.Variable([[1,2,3]])\n",
    "tensor2 = tf.Variable([[1],[2],[3]])\n",
    "tensor_mult = tf.matmul(tensor1, tensor2)"
   ]
  },
  {
   "cell_type": "code",
   "execution_count": 6,
   "id": "a7067abe",
   "metadata": {},
   "outputs": [],
   "source": [
    "tensor_mult = tensor1 @ tensor2"
   ]
  },
  {
   "cell_type": "code",
   "execution_count": 7,
   "id": "a307c8ab",
   "metadata": {},
   "outputs": [],
   "source": [
    "tensor1 = tf.Variable([[1,2,3]])\n",
    "scalar_mult = 5 * tensor1"
   ]
  }
 ],
 "metadata": {
  "kernelspec": {
   "display_name": "Python 3",
   "language": "python",
   "name": "python3"
  },
  "language_info": {
   "codemirror_mode": {
    "name": "ipython",
    "version": 3
   },
   "file_extension": ".py",
   "mimetype": "text/x-python",
   "name": "python",
   "nbconvert_exporter": "python",
   "pygments_lexer": "ipython3",
   "version": "3.9.6"
  }
 },
 "nbformat": 4,
 "nbformat_minor": 5
}
