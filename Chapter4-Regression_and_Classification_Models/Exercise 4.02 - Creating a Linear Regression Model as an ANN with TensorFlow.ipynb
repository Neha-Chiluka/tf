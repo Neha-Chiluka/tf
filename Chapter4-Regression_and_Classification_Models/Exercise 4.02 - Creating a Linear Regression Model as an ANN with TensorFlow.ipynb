{
 "cells": [
  {
   "cell_type": "code",
   "execution_count": 1,
   "id": "3d788a02",
   "metadata": {},
   "outputs": [],
   "source": [
    "import tensorflow as tf\n",
    "import pandas as pd"
   ]
  },
  {
   "cell_type": "code",
   "execution_count": 2,
   "id": "896de3d4",
   "metadata": {},
   "outputs": [],
   "source": [
    "url = \"https://raw.githubusercontent.com/fenago/tf/main/Chapter4-Regression_and_Classification_Models/dataset/Summary_of_Weather.csv\"\n",
    "\n",
    "\n",
    "df = pd.read_csv(url, low_memory=False)"
   ]
  },
  {
   "cell_type": "code",
   "execution_count": 3,
   "id": "98421d99",
   "metadata": {},
   "outputs": [],
   "source": [
    "df.drop(['STA','Date'], inplace=True, axis=1)\n",
    "df.dropna(inplace=True)"
   ]
  },
  {
   "cell_type": "code",
   "execution_count": 4,
   "id": "10d3cd47",
   "metadata": {},
   "outputs": [],
   "source": [
    "target = df[['MaxTemp', 'MinTemp']]\n",
    "features = df.drop(['MaxTemp', 'MinTemp'], axis=1)"
   ]
  },
  {
   "cell_type": "code",
   "execution_count": 5,
   "id": "e8062704",
   "metadata": {},
   "outputs": [],
   "source": [
    "from sklearn.preprocessing import MinMaxScaler\n",
    "scaler = MinMaxScaler()\n",
    "feature_array = scaler.fit_transform(features)\n",
    "features = pd.DataFrame(feature_array, columns=features.columns)"
   ]
  },
  {
   "cell_type": "code",
   "execution_count": 6,
   "id": "82379f9d",
   "metadata": {},
   "outputs": [],
   "source": [
    "model = tf.keras.Sequential()"
   ]
  },
  {
   "cell_type": "code",
   "execution_count": 7,
   "id": "289d116b",
   "metadata": {},
   "outputs": [],
   "source": [
    "model.add(tf.keras.layers.InputLayer\\\n",
    "             (input_shape=(features.shape[1],), \\\n",
    "                           name='Input_layer'))"
   ]
  },
  {
   "cell_type": "code",
   "execution_count": 8,
   "id": "808fd379",
   "metadata": {},
   "outputs": [],
   "source": [
    "model.add(tf.keras.layers.Dense(2, name='Output_layer'))"
   ]
  },
  {
   "cell_type": "code",
   "execution_count": 9,
   "id": "d0dacbd0",
   "metadata": {},
   "outputs": [],
   "source": [
    "model.compile(tf.optimizers.RMSprop(0.001), loss='mse')"
   ]
  },
  {
   "cell_type": "code",
   "execution_count": 10,
   "id": "d42d78e5",
   "metadata": {},
   "outputs": [],
   "source": [
    "tensorboard_callback = tf.keras.callbacks\\\n",
    "                             .TensorBoard(log_dir=\"./logs\")"
   ]
  },
  {
   "cell_type": "code",
   "execution_count": 11,
   "id": "9ddb9736",
   "metadata": {},
   "outputs": [
    {
     "name": "stdout",
     "output_type": "stream",
     "text": [
      "Epoch 1/50\n",
      "3669/3669 [==============================] - 5s 1ms/step - loss: 230.4319\n",
      "Epoch 2/50\n",
      "3669/3669 [==============================] - 4s 1ms/step - loss: 40.6864\n",
      "Epoch 3/50\n",
      "3669/3669 [==============================] - 4s 1ms/step - loss: 32.0742\n",
      "Epoch 4/50\n",
      "3669/3669 [==============================] - 4s 1ms/step - loss: 26.6990\n",
      "Epoch 5/50\n",
      "3669/3669 [==============================] - 4s 1ms/step - loss: 22.8162\n",
      "Epoch 6/50\n",
      "3669/3669 [==============================] - 4s 1ms/step - loss: 19.9296\n",
      "Epoch 7/50\n",
      "3669/3669 [==============================] - 4s 1ms/step - loss: 17.6948\n",
      "Epoch 8/50\n",
      "3669/3669 [==============================] - 4s 1ms/step - loss: 15.8761\n",
      "Epoch 9/50\n",
      "3669/3669 [==============================] - 4s 1ms/step - loss: 14.3676\n",
      "Epoch 10/50\n",
      "3669/3669 [==============================] - 4s 1ms/step - loss: 13.0744\n",
      "Epoch 11/50\n",
      "3669/3669 [==============================] - 4s 1ms/step - loss: 11.9164\n",
      "Epoch 12/50\n",
      "3669/3669 [==============================] - 4s 1ms/step - loss: 10.8760\n",
      "Epoch 13/50\n",
      "3669/3669 [==============================] - 4s 1ms/step - loss: 9.9423\n",
      "Epoch 14/50\n",
      "3669/3669 [==============================] - 5s 1ms/step - loss: 9.0946\n",
      "Epoch 15/50\n",
      "3669/3669 [==============================] - 4s 1ms/step - loss: 8.3185\n",
      "Epoch 16/50\n",
      "3669/3669 [==============================] - 4s 1ms/step - loss: 7.6182\n",
      "Epoch 17/50\n",
      "3669/3669 [==============================] - 4s 1ms/step - loss: 6.9857\n",
      "Epoch 18/50\n",
      "3669/3669 [==============================] - 5s 1ms/step - loss: 6.4087\n",
      "Epoch 19/50\n",
      "3669/3669 [==============================] - 5s 1ms/step - loss: 5.8837\n",
      "Epoch 20/50\n",
      "3669/3669 [==============================] - 4s 1ms/step - loss: 5.3988\n",
      "Epoch 21/50\n",
      "3669/3669 [==============================] - 5s 1ms/step - loss: 4.9651\n",
      "Epoch 22/50\n",
      "3669/3669 [==============================] - 4s 1ms/step - loss: 4.5772\n",
      "Epoch 23/50\n",
      "3669/3669 [==============================] - 4s 1ms/step - loss: 4.2245\n",
      "Epoch 24/50\n",
      "3669/3669 [==============================] - 4s 1ms/step - loss: 3.9038\n",
      "Epoch 25/50\n",
      "3669/3669 [==============================] - 4s 1ms/step - loss: 3.6148\n",
      "Epoch 26/50\n",
      "3669/3669 [==============================] - 5s 1ms/step - loss: 3.3537\n",
      "Epoch 27/50\n",
      "3669/3669 [==============================] - 5s 1ms/step - loss: 3.1181\n",
      "Epoch 28/50\n",
      "3669/3669 [==============================] - 4s 1ms/step - loss: 2.9038\n",
      "Epoch 29/50\n",
      "3669/3669 [==============================] - 4s 1ms/step - loss: 2.7077\n",
      "Epoch 30/50\n",
      "3669/3669 [==============================] - 4s 1ms/step - loss: 2.5271\n",
      "Epoch 31/50\n",
      "3669/3669 [==============================] - 5s 1ms/step - loss: 2.3583\n",
      "Epoch 32/50\n",
      "3669/3669 [==============================] - 4s 1ms/step - loss: 2.2000\n",
      "Epoch 33/50\n",
      "3669/3669 [==============================] - 4s 1ms/step - loss: 2.0561\n",
      "Epoch 34/50\n",
      "3669/3669 [==============================] - 4s 1ms/step - loss: 1.9238\n",
      "Epoch 35/50\n",
      "3669/3669 [==============================] - 5s 1ms/step - loss: 1.7981\n",
      "Epoch 36/50\n",
      "3669/3669 [==============================] - 5s 1ms/step - loss: 1.6798\n",
      "Epoch 37/50\n",
      "3669/3669 [==============================] - 5s 1ms/step - loss: 1.5695\n",
      "Epoch 38/50\n",
      "3669/3669 [==============================] - 5s 1ms/step - loss: 1.4655\n",
      "Epoch 39/50\n",
      "3669/3669 [==============================] - 5s 1ms/step - loss: 1.3665\n",
      "Epoch 40/50\n",
      "3669/3669 [==============================] - 4s 1ms/step - loss: 1.2710\n",
      "Epoch 41/50\n",
      "3669/3669 [==============================] - 5s 1ms/step - loss: 1.1818\n",
      "Epoch 42/50\n",
      "3669/3669 [==============================] - 5s 1ms/step - loss: 1.0966\n",
      "Epoch 43/50\n",
      "3669/3669 [==============================] - 5s 1ms/step - loss: 1.0145\n",
      "Epoch 44/50\n",
      "3669/3669 [==============================] - 4s 1ms/step - loss: 0.9357\n",
      "Epoch 45/50\n",
      "3669/3669 [==============================] - 4s 1ms/step - loss: 0.8604\n",
      "Epoch 46/50\n",
      "3669/3669 [==============================] - 5s 1ms/step - loss: 0.7900\n",
      "Epoch 47/50\n",
      "3669/3669 [==============================] - 5s 1ms/step - loss: 0.7228\n",
      "Epoch 48/50\n",
      "3669/3669 [==============================] - 5s 1ms/step - loss: 0.6590\n",
      "Epoch 49/50\n",
      "3669/3669 [==============================] - 4s 1ms/step - loss: 0.5996\n",
      "Epoch 50/50\n",
      "3669/3669 [==============================] - 4s 1ms/step - loss: 0.5433\n"
     ]
    },
    {
     "data": {
      "text/plain": [
       "<keras.callbacks.History at 0x2011442d3a0>"
      ]
     },
     "execution_count": 11,
     "metadata": {},
     "output_type": "execute_result"
    }
   ],
   "source": [
    "model.fit(x=features.to_numpy(), y=target.to_numpy(),\\\n",
    "              epochs=50, callbacks=[tensorboard_callback])"
   ]
  },
  {
   "cell_type": "code",
   "execution_count": 12,
   "id": "82117ee6",
   "metadata": {},
   "outputs": [
    {
     "name": "stdout",
     "output_type": "stream",
     "text": [
      "3669/3669 [==============================] - 3s 682us/step - loss: 0.5161\n",
      "loss: 0.51609206199646\n"
     ]
    }
   ],
   "source": [
    "loss = model.evaluate(features.to_numpy(), target.to_numpy())\n",
    "print('loss:', loss)"
   ]
  },
  {
   "cell_type": "code",
   "execution_count": 13,
   "id": "26ea01d1",
   "metadata": {
    "scrolled": true
   },
   "outputs": [
    {
     "data": {
      "text/plain": [
       "Reusing TensorBoard on port 6006 (pid 9704), started 0:55:03 ago. (Use '!kill 9704' to kill it.)"
      ]
     },
     "metadata": {},
     "output_type": "display_data"
    },
    {
     "data": {
      "text/html": [
       "\n",
       "      <iframe id=\"tensorboard-frame-b287f42560f3f8f9\" width=\"100%\" height=\"800\" frameborder=\"0\">\n",
       "      </iframe>\n",
       "      <script>\n",
       "        (function() {\n",
       "          const frame = document.getElementById(\"tensorboard-frame-b287f42560f3f8f9\");\n",
       "          const url = new URL(\"/\", window.location);\n",
       "          const port = 6006;\n",
       "          if (port) {\n",
       "            url.port = port;\n",
       "          }\n",
       "          frame.src = url;\n",
       "        })();\n",
       "      </script>\n",
       "    "
      ],
      "text/plain": [
       "<IPython.core.display.HTML object>"
      ]
     },
     "metadata": {},
     "output_type": "display_data"
    }
   ],
   "source": [
    "%load_ext tensorboard\n",
    "%tensorboard --logdir=\"logs\""
   ]
  }
 ],
 "metadata": {
  "kernelspec": {
   "display_name": "Python 3",
   "language": "python",
   "name": "python3"
  },
  "language_info": {
   "codemirror_mode": {
    "name": "ipython",
    "version": 3
   },
   "file_extension": ".py",
   "mimetype": "text/x-python",
   "name": "python",
   "nbconvert_exporter": "python",
   "pygments_lexer": "ipython3",
   "version": "3.9.6"
  }
 },
 "nbformat": 4,
 "nbformat_minor": 5
}
