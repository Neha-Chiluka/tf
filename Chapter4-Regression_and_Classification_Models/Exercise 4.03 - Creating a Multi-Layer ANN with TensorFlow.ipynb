{
 "cells": [
  {
   "cell_type": "code",
   "execution_count": 1,
   "id": "3d788a02",
   "metadata": {},
   "outputs": [],
   "source": [
    "import tensorflow as tf\n",
    "import pandas as pd"
   ]
  },
  {
   "cell_type": "code",
   "execution_count": 2,
   "id": "a6fa07c8",
   "metadata": {},
   "outputs": [],
   "source": [
    "df = pd.read_csv(\"dataset/Summary of Weather.csv\", low_memory=False)"
   ]
  },
  {
   "cell_type": "code",
   "execution_count": 3,
   "id": "98421d99",
   "metadata": {},
   "outputs": [],
   "source": [
    "df.drop(['STA','Date'], inplace=True, axis=1)\n",
    "df.dropna(inplace=True)"
   ]
  },
  {
   "cell_type": "code",
   "execution_count": 4,
   "id": "10d3cd47",
   "metadata": {},
   "outputs": [],
   "source": [
    "target = df[['MaxTemp', 'MinTemp']]\n",
    "features = df.drop(['MaxTemp', 'MinTemp'], axis=1)"
   ]
  },
  {
   "cell_type": "code",
   "execution_count": 5,
   "id": "e8062704",
   "metadata": {},
   "outputs": [],
   "source": [
    "from sklearn.preprocessing import MinMaxScaler\n",
    "scaler = MinMaxScaler()\n",
    "feature_array = scaler.fit_transform(features)\n",
    "features = pd.DataFrame(feature_array, columns=features.columns)"
   ]
  },
  {
   "cell_type": "code",
   "execution_count": 6,
   "id": "82379f9d",
   "metadata": {},
   "outputs": [],
   "source": [
    "model = tf.keras.Sequential()"
   ]
  },
  {
   "cell_type": "code",
   "execution_count": 7,
   "id": "289d116b",
   "metadata": {},
   "outputs": [],
   "source": [
    "model.add(tf.keras.layers.InputLayer\\\n",
    "             (input_shape=(features.shape[1],), \\\n",
    "                           name='Input_layer'))"
   ]
  },
  {
   "cell_type": "code",
   "execution_count": 8,
   "id": "808fd379",
   "metadata": {},
   "outputs": [],
   "source": [
    "model.add(tf.keras.layers.Dense(16, name='Dense_layer_1'))\n",
    "model.add(tf.keras.layers.Dense(8, name='Dense_layer_2'))\n",
    "model.add(tf.keras.layers.Dense(4, name='Dense_layer_3'))\n",
    "model.add(tf.keras.layers.Dense(2, name='Output_layer'))"
   ]
  },
  {
   "cell_type": "code",
   "execution_count": 9,
   "id": "d0dacbd0",
   "metadata": {},
   "outputs": [],
   "source": [
    "model.compile(tf.optimizers.RMSprop(0.001), loss='mse')"
   ]
  },
  {
   "cell_type": "code",
   "execution_count": 10,
   "id": "d42d78e5",
   "metadata": {},
   "outputs": [],
   "source": [
    "tensorboard_callback = tf.keras.callbacks\\\n",
    "                             .TensorBoard(log_dir=\"./logs1\")"
   ]
  },
  {
   "cell_type": "code",
   "execution_count": 11,
   "id": "9ddb9736",
   "metadata": {},
   "outputs": [
    {
     "name": "stdout",
     "output_type": "stream",
     "text": [
      "Epoch 1/50\n",
      "3669/3669 [==============================] - 8s 2ms/step - loss: 26.0495\n",
      "Epoch 2/50\n",
      "3669/3669 [==============================] - 7s 2ms/step - loss: 1.0225\n",
      "Epoch 3/50\n",
      "3669/3669 [==============================] - 8s 2ms/step - loss: 0.1289\n",
      "Epoch 4/50\n",
      "3669/3669 [==============================] - 7s 2ms/step - loss: 0.1238\n",
      "Epoch 5/50\n",
      "3669/3669 [==============================] - 8s 2ms/step - loss: 0.1192\n",
      "Epoch 6/50\n",
      "3669/3669 [==============================] - 8s 2ms/step - loss: 0.1151\n",
      "Epoch 7/50\n",
      "3669/3669 [==============================] - 7s 2ms/step - loss: 0.1117\n",
      "Epoch 8/50\n",
      "3669/3669 [==============================] - 8s 2ms/step - loss: 0.1080\n",
      "Epoch 9/50\n",
      "3669/3669 [==============================] - 8s 2ms/step - loss: 0.1053\n",
      "Epoch 10/50\n",
      "3669/3669 [==============================] - 7s 2ms/step - loss: 0.1023\n",
      "Epoch 11/50\n",
      "3669/3669 [==============================] - 8s 2ms/step - loss: 0.0997\n",
      "Epoch 12/50\n",
      "3669/3669 [==============================] - 8s 2ms/step - loss: 0.0974\n",
      "Epoch 13/50\n",
      "3669/3669 [==============================] - 8s 2ms/step - loss: 0.0950\n",
      "Epoch 14/50\n",
      "3669/3669 [==============================] - 7s 2ms/step - loss: 0.0926\n",
      "Epoch 15/50\n",
      "3669/3669 [==============================] - 8s 2ms/step - loss: 0.0905\n",
      "Epoch 16/50\n",
      "3669/3669 [==============================] - 7s 2ms/step - loss: 0.0886\n",
      "Epoch 17/50\n",
      "3669/3669 [==============================] - 8s 2ms/step - loss: 0.0867\n",
      "Epoch 18/50\n",
      "3669/3669 [==============================] - 7s 2ms/step - loss: 0.0850\n",
      "Epoch 19/50\n",
      "3669/3669 [==============================] - 7s 2ms/step - loss: 0.0834\n",
      "Epoch 20/50\n",
      "3669/3669 [==============================] - 7s 2ms/step - loss: 0.0818\n",
      "Epoch 21/50\n",
      "3669/3669 [==============================] - 7s 2ms/step - loss: 0.0803\n",
      "Epoch 22/50\n",
      "3669/3669 [==============================] - 7s 2ms/step - loss: 0.0788\n",
      "Epoch 23/50\n",
      "3669/3669 [==============================] - 8s 2ms/step - loss: 0.0776\n",
      "Epoch 24/50\n",
      "3669/3669 [==============================] - 7s 2ms/step - loss: 0.0759\n",
      "Epoch 25/50\n",
      "3669/3669 [==============================] - 7s 2ms/step - loss: 0.0750\n",
      "Epoch 26/50\n",
      "3669/3669 [==============================] - 8s 2ms/step - loss: 0.0736\n",
      "Epoch 27/50\n",
      "3669/3669 [==============================] - 8s 2ms/step - loss: 0.0726\n",
      "Epoch 28/50\n",
      "3669/3669 [==============================] - 7s 2ms/step - loss: 0.0716\n",
      "Epoch 29/50\n",
      "3669/3669 [==============================] - 7s 2ms/step - loss: 0.0708\n",
      "Epoch 30/50\n",
      "3669/3669 [==============================] - 8s 2ms/step - loss: 0.0698\n",
      "Epoch 31/50\n",
      "3669/3669 [==============================] - 7s 2ms/step - loss: 0.0689\n",
      "Epoch 32/50\n",
      "3669/3669 [==============================] - 7s 2ms/step - loss: 0.0680\n",
      "Epoch 33/50\n",
      "3669/3669 [==============================] - 8s 2ms/step - loss: 0.0671\n",
      "Epoch 34/50\n",
      "3669/3669 [==============================] - 7s 2ms/step - loss: 0.0665\n",
      "Epoch 35/50\n",
      "3669/3669 [==============================] - 7s 2ms/step - loss: 0.0655\n",
      "Epoch 36/50\n",
      "3669/3669 [==============================] - 7s 2ms/step - loss: 0.0646A: 0s - los\n",
      "Epoch 37/50\n",
      "3669/3669 [==============================] - 7s 2ms/step - loss: 0.0639\n",
      "Epoch 38/50\n",
      "3669/3669 [==============================] - 7s 2ms/step - loss: 0.0633\n",
      "Epoch 39/50\n",
      "3669/3669 [==============================] - 8s 2ms/step - loss: 0.0626\n",
      "Epoch 40/50\n",
      "3669/3669 [==============================] - 7s 2ms/step - loss: 0.0617\n",
      "Epoch 41/50\n",
      "3669/3669 [==============================] - 7s 2ms/step - loss: 0.0608\n",
      "Epoch 42/50\n",
      "3669/3669 [==============================] - 7s 2ms/step - loss: 0.0605\n",
      "Epoch 43/50\n",
      "3669/3669 [==============================] - 7s 2ms/step - loss: 0.0598\n",
      "Epoch 44/50\n",
      "3669/3669 [==============================] - 8s 2ms/step - loss: 0.0589\n",
      "Epoch 45/50\n",
      "3669/3669 [==============================] - 8s 2ms/step - loss: 0.0581\n",
      "Epoch 46/50\n",
      "3669/3669 [==============================] - 8s 2ms/step - loss: 0.0573\n",
      "Epoch 47/50\n",
      "3669/3669 [==============================] - 8s 2ms/step - loss: 0.0567\n",
      "Epoch 48/50\n",
      "3669/3669 [==============================] - 7s 2ms/step - loss: 0.0562\n",
      "Epoch 49/50\n",
      "3669/3669 [==============================] - 8s 2ms/step - loss: 0.0555\n",
      "Epoch 50/50\n",
      "3669/3669 [==============================] - 7s 2ms/step - loss: 0.0550\n"
     ]
    },
    {
     "data": {
      "text/plain": [
       "<keras.callbacks.History at 0x28611a727f0>"
      ]
     },
     "execution_count": 11,
     "metadata": {},
     "output_type": "execute_result"
    }
   ],
   "source": [
    "model.fit(x=features.to_numpy(), y=target.to_numpy(),\\\n",
    "              epochs=50, callbacks=[tensorboard_callback])"
   ]
  },
  {
   "cell_type": "code",
   "execution_count": 12,
   "id": "82117ee6",
   "metadata": {},
   "outputs": [
    {
     "name": "stdout",
     "output_type": "stream",
     "text": [
      "3669/3669 [==============================] - 3s 774us/step - loss: 0.0408\n",
      "loss: 0.04075157269835472\n"
     ]
    }
   ],
   "source": [
    "loss = model.evaluate(features.to_numpy(), target.to_numpy())\n",
    "print('loss:', loss)"
   ]
  },
  {
   "cell_type": "code",
   "execution_count": 13,
   "id": "26ea01d1",
   "metadata": {
    "scrolled": true
   },
   "outputs": [
    {
     "data": {
      "text/html": [
       "\n",
       "      <iframe id=\"tensorboard-frame-6b669531bb646f2b\" width=\"100%\" height=\"800\" frameborder=\"0\">\n",
       "      </iframe>\n",
       "      <script>\n",
       "        (function() {\n",
       "          const frame = document.getElementById(\"tensorboard-frame-6b669531bb646f2b\");\n",
       "          const url = new URL(\"/\", window.location);\n",
       "          const port = 6006;\n",
       "          if (port) {\n",
       "            url.port = port;\n",
       "          }\n",
       "          frame.src = url;\n",
       "        })();\n",
       "      </script>\n",
       "    "
      ],
      "text/plain": [
       "<IPython.core.display.HTML object>"
      ]
     },
     "metadata": {},
     "output_type": "display_data"
    }
   ],
   "source": [
    "%load_ext tensorboard\n",
    "%tensorboard --logdir=\"logs1\""
   ]
  }
 ],
 "metadata": {
  "kernelspec": {
   "display_name": "Python 3",
   "language": "python",
   "name": "python3"
  },
  "language_info": {
   "codemirror_mode": {
    "name": "ipython",
    "version": 3
   },
   "file_extension": ".py",
   "mimetype": "text/x-python",
   "name": "python",
   "nbconvert_exporter": "python",
   "pygments_lexer": "ipython3",
   "version": "3.9.6"
  }
 },
 "nbformat": 4,
 "nbformat_minor": 5
}
