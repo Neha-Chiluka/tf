{
 "cells": [
  {
   "cell_type": "code",
   "execution_count": 1,
   "id": "3d788a02",
   "metadata": {},
   "outputs": [],
   "source": [
    "import tensorflow as tf\n",
    "import pandas as pd"
   ]
  },
  {
   "cell_type": "code",
   "execution_count": 2,
   "id": "a6fa07c8",
   "metadata": {},
   "outputs": [],
   "source": [
    "url = \"https://raw.githubusercontent.com/fenago/tf/main/Chapter4-Regression_and_Classification_Models/dataset/accelerometer.csv\"\n",
    "\n",
    "df = pd.read_csv(url, low_memory=False)"
   ]
  },
  {
   "cell_type": "code",
   "execution_count": 3,
   "id": "98421d99",
   "metadata": {},
   "outputs": [],
   "source": [
    "df.dropna(inplace=True)"
   ]
  },
  {
   "cell_type": "code",
   "execution_count": 4,
   "id": "10d3cd47",
   "metadata": {},
   "outputs": [],
   "source": [
    "target = df['wconfid']\n",
    "features = df.drop('wconfid', axis=1)"
   ]
  },
  {
   "cell_type": "code",
   "execution_count": 5,
   "id": "82379f9d",
   "metadata": {},
   "outputs": [],
   "source": [
    "model = tf.keras.Sequential()"
   ]
  },
  {
   "cell_type": "code",
   "execution_count": 6,
   "id": "289d116b",
   "metadata": {},
   "outputs": [],
   "source": [
    "model.add(tf.keras.layers.InputLayer\\\n",
    "             (input_shape=(features.shape[1],), \\\n",
    "                           name='Input_layer'))\n",
    "\n",
    "\n",
    "model.add(tf.keras.layers.Dense(32, name='Dense_layer_2'))\n",
    "model.add(tf.keras.layers.Dense(16, name='Dense_layer_3'))\n",
    "model.add(tf.keras.layers.Dense(8, name='Dense_layer_4'))\n",
    "model.add(tf.keras.layers.Dense(1, name='Output_layer'))"
   ]
  },
  {
   "cell_type": "code",
   "execution_count": 7,
   "id": "d0dacbd0",
   "metadata": {},
   "outputs": [],
   "source": [
    "model.compile(tf.optimizers.RMSprop(0.0001), \\\n",
    "                  loss='binary_crossentropy', metrics=['accuracy'])"
   ]
  },
  {
   "cell_type": "code",
   "execution_count": 9,
   "id": "d42d78e5",
   "metadata": {},
   "outputs": [],
   "source": [
    "tensorboard_callback = tf.keras.callbacks\\\n",
    "                             .TensorBoard(log_dir=\"./logs5\")"
   ]
  },
  {
   "cell_type": "code",
   "execution_count": 10,
   "id": "9ddb9736",
   "metadata": {},
   "outputs": [
    {
     "name": "stdout",
     "output_type": "stream",
     "text": [
      "Epoch 1/50\n",
      "2550/2550 [==============================] - 8s 3ms/step - loss: 5.7186 - accuracy: 0.6250 - val_loss: 15.2491 - val_accuracy: 0.0000e+00\n",
      "Epoch 2/50\n",
      "2550/2550 [==============================] - 6s 2ms/step - loss: 5.7186 - accuracy: 0.6250 - val_loss: 15.2491 - val_accuracy: 0.0000e+00\n",
      "Epoch 3/50\n",
      "2550/2550 [==============================] - 6s 2ms/step - loss: 5.7186 - accuracy: 0.6250 - val_loss: 15.2491 - val_accuracy: 0.0000e+00\n",
      "Epoch 4/50\n",
      "2550/2550 [==============================] - 6s 2ms/step - loss: 5.7186 - accuracy: 0.6250 - val_loss: 15.2491 - val_accuracy: 0.0000e+00\n",
      "Epoch 5/50\n",
      "2550/2550 [==============================] - 6s 2ms/step - loss: 5.7186 - accuracy: 0.6250 - val_loss: 15.2491 - val_accuracy: 0.0000e+00\n",
      "Epoch 6/50\n",
      "2550/2550 [==============================] - 6s 2ms/step - loss: 5.7186 - accuracy: 0.6250 - val_loss: 15.2491 - val_accuracy: 0.0000e+00\n",
      "Epoch 7/50\n",
      "2550/2550 [==============================] - 6s 2ms/step - loss: 5.7186 - accuracy: 0.6250 - val_loss: 15.2491 - val_accuracy: 0.0000e+00\n",
      "Epoch 8/50\n",
      "2550/2550 [==============================] - 6s 2ms/step - loss: 5.7186 - accuracy: 0.6250 - val_loss: 15.2491 - val_accuracy: 0.0000e+00\n",
      "Epoch 9/50\n",
      "2550/2550 [==============================] - 6s 3ms/step - loss: 5.7186 - accuracy: 0.6250 - val_loss: 15.2491 - val_accuracy: 0.0000e+00\n",
      "Epoch 10/50\n",
      "2550/2550 [==============================] - 6s 2ms/step - loss: 5.7186 - accuracy: 0.6250 - val_loss: 15.2491 - val_accuracy: 0.0000e+00\n",
      "Epoch 11/50\n",
      "2550/2550 [==============================] - 6s 2ms/step - loss: 5.7186 - accuracy: 0.6250 - val_loss: 15.2491 - val_accuracy: 0.0000e+00\n",
      "Epoch 12/50\n",
      "2550/2550 [==============================] - 6s 2ms/step - loss: 5.7186 - accuracy: 0.6250 - val_loss: 15.2491 - val_accuracy: 0.0000e+00\n",
      "Epoch 13/50\n",
      "2550/2550 [==============================] - 6s 2ms/step - loss: 5.7186 - accuracy: 0.6250 - val_loss: 15.2491 - val_accuracy: 0.0000e+00\n",
      "Epoch 14/50\n",
      "2550/2550 [==============================] - 6s 2ms/step - loss: 5.7186 - accuracy: 0.6250 - val_loss: 15.2491 - val_accuracy: 0.0000e+00\n",
      "Epoch 15/50\n",
      "2550/2550 [==============================] - 6s 2ms/step - loss: 5.7186 - accuracy: 0.6250 - val_loss: 15.2491 - val_accuracy: 0.0000e+00\n",
      "Epoch 16/50\n",
      "2550/2550 [==============================] - 6s 2ms/step - loss: 5.7186 - accuracy: 0.6250 - val_loss: 15.2491 - val_accuracy: 0.0000e+00\n",
      "Epoch 17/50\n",
      "2550/2550 [==============================] - 6s 2ms/step - loss: 5.7186 - accuracy: 0.6250 - val_loss: 15.2491 - val_accuracy: 0.0000e+00\n",
      "Epoch 18/50\n",
      "2550/2550 [==============================] - 6s 2ms/step - loss: 5.7186 - accuracy: 0.6250 - val_loss: 15.2491 - val_accuracy: 0.0000e+00\n",
      "Epoch 19/50\n",
      "2550/2550 [==============================] - 6s 2ms/step - loss: 5.7186 - accuracy: 0.6250 - val_loss: 15.2491 - val_accuracy: 0.0000e+00\n",
      "Epoch 20/50\n",
      "2550/2550 [==============================] - 6s 2ms/step - loss: 5.7186 - accuracy: 0.6250 - val_loss: 15.2491 - val_accuracy: 0.0000e+00\n",
      "Epoch 21/50\n",
      "2550/2550 [==============================] - 6s 2ms/step - loss: 5.7186 - accuracy: 0.6250 - val_loss: 15.2491 - val_accuracy: 0.0000e+00\n",
      "Epoch 22/50\n",
      "2550/2550 [==============================] - 6s 2ms/step - loss: 5.7186 - accuracy: 0.6250 - val_loss: 15.2491 - val_accuracy: 0.0000e+00\n",
      "Epoch 23/50\n",
      "2550/2550 [==============================] - 6s 2ms/step - loss: 5.7186 - accuracy: 0.6250 - val_loss: 15.2491 - val_accuracy: 0.0000e+00\n",
      "Epoch 24/50\n",
      "2550/2550 [==============================] - 6s 3ms/step - loss: 5.7186 - accuracy: 0.6250 - val_loss: 15.2491 - val_accuracy: 0.0000e+00\n",
      "Epoch 25/50\n",
      "2550/2550 [==============================] - 6s 2ms/step - loss: 5.7186 - accuracy: 0.6250 - val_loss: 15.2491 - val_accuracy: 0.0000e+00\n",
      "Epoch 26/50\n",
      "2550/2550 [==============================] - 6s 2ms/step - loss: 5.7186 - accuracy: 0.6250 - val_loss: 15.2491 - val_accuracy: 0.0000e+00\n",
      "Epoch 27/50\n",
      "2550/2550 [==============================] - 6s 2ms/step - loss: 5.7186 - accuracy: 0.6250 - val_loss: 15.2491 - val_accuracy: 0.0000e+00\n",
      "Epoch 28/50\n",
      "2550/2550 [==============================] - 6s 2ms/step - loss: 5.7186 - accuracy: 0.6250 - val_loss: 15.2491 - val_accuracy: 0.0000e+00\n",
      "Epoch 29/50\n",
      "2550/2550 [==============================] - 6s 3ms/step - loss: 5.7186 - accuracy: 0.6250 - val_loss: 15.2491 - val_accuracy: 0.0000e+00\n",
      "Epoch 30/50\n",
      "2550/2550 [==============================] - 6s 2ms/step - loss: 5.7186 - accuracy: 0.6250 - val_loss: 15.2491 - val_accuracy: 0.0000e+00\n",
      "Epoch 31/50\n",
      "2550/2550 [==============================] - 6s 2ms/step - loss: 5.7186 - accuracy: 0.6250 - val_loss: 15.2491 - val_accuracy: 0.0000e+00\n",
      "Epoch 32/50\n",
      "2550/2550 [==============================] - 6s 2ms/step - loss: 5.7186 - accuracy: 0.6250 - val_loss: 15.2491 - val_accuracy: 0.0000e+00\n",
      "Epoch 33/50\n",
      "2550/2550 [==============================] - 6s 2ms/step - loss: 5.7186 - accuracy: 0.6250 - val_loss: 15.2491 - val_accuracy: 0.0000e+00\n",
      "Epoch 34/50\n",
      "2550/2550 [==============================] - 6s 2ms/step - loss: 5.7186 - accuracy: 0.6250 - val_loss: 15.2491 - val_accuracy: 0.0000e+00\n",
      "Epoch 35/50\n",
      "2550/2550 [==============================] - 6s 2ms/step - loss: 5.7186 - accuracy: 0.6250 - val_loss: 15.2491 - val_accuracy: 0.0000e+00\n",
      "Epoch 36/50\n",
      "2550/2550 [==============================] - 6s 2ms/step - loss: 5.7186 - accuracy: 0.6250 - val_loss: 15.2491 - val_accuracy: 0.0000e+00\n",
      "Epoch 37/50\n",
      "2550/2550 [==============================] - 6s 2ms/step - loss: 5.7186 - accuracy: 0.6250 - val_loss: 15.2491 - val_accuracy: 0.0000e+00\n",
      "Epoch 38/50\n",
      "2550/2550 [==============================] - 6s 2ms/step - loss: 5.7186 - accuracy: 0.6250 - val_loss: 15.2491 - val_accuracy: 0.0000e+00\n",
      "Epoch 39/50\n",
      "2550/2550 [==============================] - 6s 2ms/step - loss: 5.7186 - accuracy: 0.6250 - val_loss: 15.2491 - val_accuracy: 0.0000e+00\n",
      "Epoch 40/50\n",
      "2550/2550 [==============================] - 6s 2ms/step - loss: 5.7186 - accuracy: 0.6250 - val_loss: 15.2491 - val_accuracy: 0.0000e+00\n",
      "Epoch 41/50\n",
      "2550/2550 [==============================] - 6s 2ms/step - loss: 5.7186 - accuracy: 0.6250 - val_loss: 15.2491 - val_accuracy: 0.0000e+00\n",
      "Epoch 42/50\n",
      "2550/2550 [==============================] - 6s 2ms/step - loss: 5.7186 - accuracy: 0.6250 - val_loss: 15.2491 - val_accuracy: 0.0000e+00\n",
      "Epoch 43/50\n",
      "2550/2550 [==============================] - 6s 2ms/step - loss: 5.7186 - accuracy: 0.6250 - val_loss: 15.2491 - val_accuracy: 0.0000e+00\n",
      "Epoch 44/50\n",
      "2550/2550 [==============================] - 6s 3ms/step - loss: 5.7186 - accuracy: 0.6250 - val_loss: 15.2491 - val_accuracy: 0.0000e+00\n",
      "Epoch 45/50\n",
      "2550/2550 [==============================] - 6s 2ms/step - loss: 5.7186 - accuracy: 0.6250 - val_loss: 15.2491 - val_accuracy: 0.0000e+00\n",
      "Epoch 46/50\n",
      "2550/2550 [==============================] - 6s 2ms/step - loss: 5.7186 - accuracy: 0.6250 - val_loss: 15.2491 - val_accuracy: 0.0000e+00\n",
      "Epoch 47/50\n",
      "2550/2550 [==============================] - 6s 2ms/step - loss: 5.7186 - accuracy: 0.6250 - val_loss: 15.2491 - val_accuracy: 0.0000e+00\n",
      "Epoch 48/50\n",
      "2550/2550 [==============================] - 6s 2ms/step - loss: 5.7186 - accuracy: 0.6250 - val_loss: 15.2491 - val_accuracy: 0.0000e+00\n",
      "Epoch 49/50\n",
      "2550/2550 [==============================] - 6s 2ms/step - loss: 5.7186 - accuracy: 0.6250 - val_loss: 15.2491 - val_accuracy: 0.0000e+00\n",
      "Epoch 50/50\n",
      "2550/2550 [==============================] - 6s 2ms/step - loss: 5.7186 - accuracy: 0.6250 - val_loss: 15.2491 - val_accuracy: 0.0000e+00\n"
     ]
    },
    {
     "data": {
      "text/plain": [
       "<keras.callbacks.History at 0x22dba215b20>"
      ]
     },
     "execution_count": 10,
     "metadata": {},
     "output_type": "execute_result"
    }
   ],
   "source": [
    "model.fit(x=features.to_numpy(), y=target.to_numpy(), \\\n",
    "             epochs=50, callbacks=[tensorboard_callback] , \\\n",
    "             validation_split=0.2)"
   ]
  },
  {
   "cell_type": "code",
   "execution_count": 11,
   "id": "82117ee6",
   "metadata": {
    "scrolled": true
   },
   "outputs": [
    {
     "name": "stdout",
     "output_type": "stream",
     "text": [
      "3188/3188 [==============================] - 4s 1ms/step - loss: 7.6247 - accuracy: 0.5000\n",
      "loss: [7.624691009521484, 0.5]\n"
     ]
    }
   ],
   "source": [
    "loss = model.evaluate(features.to_numpy(), target.to_numpy())\n",
    "print('loss:', loss)"
   ]
  },
  {
   "cell_type": "code",
   "execution_count": 12,
   "id": "26ea01d1",
   "metadata": {
    "scrolled": true
   },
   "outputs": [
    {
     "data": {
      "text/html": [
       "\n",
       "      <iframe id=\"tensorboard-frame-e86524efe9b325b4\" width=\"100%\" height=\"800\" frameborder=\"0\">\n",
       "      </iframe>\n",
       "      <script>\n",
       "        (function() {\n",
       "          const frame = document.getElementById(\"tensorboard-frame-e86524efe9b325b4\");\n",
       "          const url = new URL(\"/\", window.location);\n",
       "          const port = 6006;\n",
       "          if (port) {\n",
       "            url.port = port;\n",
       "          }\n",
       "          frame.src = url;\n",
       "        })();\n",
       "      </script>\n",
       "    "
      ],
      "text/plain": [
       "<IPython.core.display.HTML object>"
      ]
     },
     "metadata": {},
     "output_type": "display_data"
    }
   ],
   "source": [
    "%load_ext tensorboard\n",
    "%tensorboard --logdir=\"logs5\""
   ]
  },
  {
   "cell_type": "code",
   "execution_count": null,
   "id": "ab1824ac",
   "metadata": {},
   "outputs": [],
   "source": []
  }
 ],
 "metadata": {
  "kernelspec": {
   "display_name": "Python 3",
   "language": "python",
   "name": "python3"
  },
  "language_info": {
   "codemirror_mode": {
    "name": "ipython",
    "version": 3
   },
   "file_extension": ".py",
   "mimetype": "text/x-python",
   "name": "python",
   "nbconvert_exporter": "python",
   "pygments_lexer": "ipython3",
   "version": "3.9.6"
  }
 },
 "nbformat": 4,
 "nbformat_minor": 5
}
