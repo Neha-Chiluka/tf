{
 "cells": [
  {
   "cell_type": "code",
   "execution_count": 1,
   "id": "56bdb135",
   "metadata": {},
   "outputs": [],
   "source": [
    "import tensorflow as tf\n",
    "import pandas as pd"
   ]
  },
  {
   "cell_type": "code",
   "execution_count": 3,
   "id": "765991a2",
   "metadata": {},
   "outputs": [],
   "source": [
    "url = \"https://raw.githubusercontent.com/fenago/tf/main/Chapter4-Regression_and_Classification_Models/dataset/Real_estate_valuation_dataset.csv\"\n",
    "\n",
    "\n",
    "df = pd.read_csv(url, low_memory=False)"
   ]
  },
  {
   "cell_type": "code",
   "execution_count": 3,
   "id": "3ba2a704",
   "metadata": {},
   "outputs": [],
   "source": [
    "df.drop('transaction date', inplace=True, axis=1)\n",
    "df.dropna(inplace=True)"
   ]
  },
  {
   "cell_type": "code",
   "execution_count": 4,
   "id": "28d94816",
   "metadata": {},
   "outputs": [],
   "source": [
    "target = df['house price of unit area']\n",
    "features = df.drop('house price of unit area', axis=1)"
   ]
  },
  {
   "cell_type": "code",
   "execution_count": 5,
   "id": "b3a8a583",
   "metadata": {},
   "outputs": [],
   "source": [
    "from sklearn.preprocessing import StandardScaler\n",
    "scaler = StandardScaler()\n",
    "feature_array = scaler.fit_transform(features)\n",
    "features = pd.DataFrame(feature_array, columns=features.columns)"
   ]
  },
  {
   "cell_type": "code",
   "execution_count": 6,
   "id": "794c7893",
   "metadata": {},
   "outputs": [],
   "source": [
    "model = tf.keras.Sequential()"
   ]
  },
  {
   "cell_type": "code",
   "execution_count": 7,
   "id": "45018b33",
   "metadata": {},
   "outputs": [],
   "source": [
    "model.add(tf.keras.layers.InputLayer\\\n",
    "             (input_shape=(features.shape[1],), \\\n",
    "                           name='Input_layer'))\n",
    "\n",
    "model.add(tf.keras.layers.Dense(64, activation='relu', \\\n",
    "                                name='Dense_layer_1'))\n",
    "\n",
    "model.add(tf.keras.layers.Dense(32, name='Dense_layer_2'))\n",
    "model.add(tf.keras.layers.Dense(16, name='Dense_layer_3'))\n",
    "model.add(tf.keras.layers.Dense(8, name='Dense_layer_4'))\n",
    "model.add(tf.keras.layers.Dense(1, name='Output_layer'))"
   ]
  },
  {
   "cell_type": "code",
   "execution_count": 8,
   "id": "22ca1586",
   "metadata": {},
   "outputs": [],
   "source": [
    "model.compile(tf.optimizers.RMSprop(0.001), loss='mse')"
   ]
  },
  {
   "cell_type": "code",
   "execution_count": 9,
   "id": "631a0561",
   "metadata": {},
   "outputs": [],
   "source": [
    "tensorboard_callback = tf.keras.callbacks.TensorBoard(log_dir=\"./logs3\")"
   ]
  },
  {
   "cell_type": "code",
   "execution_count": 10,
   "id": "f6329d27",
   "metadata": {},
   "outputs": [
    {
     "name": "stdout",
     "output_type": "stream",
     "text": [
      "Epoch 1/100\n",
      "11/11 [==============================] - 1s 20ms/step - loss: 1509.7579 - val_loss: 1326.1855\n",
      "Epoch 2/100\n",
      "11/11 [==============================] - 0s 5ms/step - loss: 1219.1547 - val_loss: 982.5892\n",
      "Epoch 3/100\n",
      "11/11 [==============================] - 0s 5ms/step - loss: 860.0674 - val_loss: 588.4534\n",
      "Epoch 4/100\n",
      "11/11 [==============================] - 0s 5ms/step - loss: 489.4063 - val_loss: 265.0416\n",
      "Epoch 5/100\n",
      "11/11 [==============================] - 0s 4ms/step - loss: 236.8158 - val_loss: 144.8233\n",
      "Epoch 6/100\n",
      "11/11 [==============================] - 0s 4ms/step - loss: 146.7799 - val_loss: 117.5510\n",
      "Epoch 7/100\n",
      "11/11 [==============================] - 0s 4ms/step - loss: 118.8143 - val_loss: 97.2974\n",
      "Epoch 8/100\n",
      "11/11 [==============================] - 0s 4ms/step - loss: 103.8074 - val_loss: 90.0772\n",
      "Epoch 9/100\n",
      "11/11 [==============================] - 0s 4ms/step - loss: 95.3806 - val_loss: 89.0081\n",
      "Epoch 10/100\n",
      "11/11 [==============================] - 0s 4ms/step - loss: 91.0008 - val_loss: 72.6347\n",
      "Epoch 11/100\n",
      "11/11 [==============================] - 0s 4ms/step - loss: 84.5766 - val_loss: 77.6362\n",
      "Epoch 12/100\n",
      "11/11 [==============================] - 0s 4ms/step - loss: 83.0028 - val_loss: 65.2867\n",
      "Epoch 13/100\n",
      "11/11 [==============================] - 0s 4ms/step - loss: 77.2432 - val_loss: 73.9523\n",
      "Epoch 14/100\n",
      "11/11 [==============================] - 0s 4ms/step - loss: 76.8695 - val_loss: 58.6390\n",
      "Epoch 15/100\n",
      "11/11 [==============================] - 0s 4ms/step - loss: 73.1784 - val_loss: 57.8318\n",
      "Epoch 16/100\n",
      "11/11 [==============================] - 0s 5ms/step - loss: 72.9359 - val_loss: 59.3671\n",
      "Epoch 17/100\n",
      "11/11 [==============================] - 0s 4ms/step - loss: 71.4649 - val_loss: 56.1466\n",
      "Epoch 18/100\n",
      "11/11 [==============================] - 0s 4ms/step - loss: 71.8607 - val_loss: 54.8515\n",
      "Epoch 19/100\n",
      "11/11 [==============================] - 0s 4ms/step - loss: 70.0396 - val_loss: 57.4828\n",
      "Epoch 20/100\n",
      "11/11 [==============================] - 0s 4ms/step - loss: 68.1929 - val_loss: 59.8416\n",
      "Epoch 21/100\n",
      "11/11 [==============================] - 0s 4ms/step - loss: 68.2661 - val_loss: 56.4799\n",
      "Epoch 22/100\n",
      "11/11 [==============================] - 0s 4ms/step - loss: 67.4226 - val_loss: 49.9698\n",
      "Epoch 23/100\n",
      "11/11 [==============================] - 0s 4ms/step - loss: 66.5820 - val_loss: 56.0051\n",
      "Epoch 24/100\n",
      "11/11 [==============================] - 0s 4ms/step - loss: 67.0948 - val_loss: 68.2328\n",
      "Epoch 25/100\n",
      "11/11 [==============================] - 0s 5ms/step - loss: 66.9433 - val_loss: 49.1751\n",
      "Epoch 26/100\n",
      "11/11 [==============================] - 0s 4ms/step - loss: 64.5658 - val_loss: 56.8452\n",
      "Epoch 27/100\n",
      "11/11 [==============================] - 0s 4ms/step - loss: 65.2070 - val_loss: 49.2051\n",
      "Epoch 28/100\n",
      "11/11 [==============================] - 0s 4ms/step - loss: 63.8560 - val_loss: 56.0565\n",
      "Epoch 29/100\n",
      "11/11 [==============================] - 0s 4ms/step - loss: 65.5906 - val_loss: 54.5122\n",
      "Epoch 30/100\n",
      "11/11 [==============================] - 0s 4ms/step - loss: 64.3981 - val_loss: 50.6425\n",
      "Epoch 31/100\n",
      "11/11 [==============================] - 0s 4ms/step - loss: 64.4198 - val_loss: 48.1254\n",
      "Epoch 32/100\n",
      "11/11 [==============================] - 0s 4ms/step - loss: 63.9914 - val_loss: 46.8786\n",
      "Epoch 33/100\n",
      "11/11 [==============================] - 0s 4ms/step - loss: 63.9894 - val_loss: 47.4781\n",
      "Epoch 34/100\n",
      "11/11 [==============================] - 0s 4ms/step - loss: 63.2362 - val_loss: 47.0169\n",
      "Epoch 35/100\n",
      "11/11 [==============================] - 0s 4ms/step - loss: 64.1072 - val_loss: 46.6319\n",
      "Epoch 36/100\n",
      "11/11 [==============================] - 0s 4ms/step - loss: 64.1359 - val_loss: 47.7817\n",
      "Epoch 37/100\n",
      "11/11 [==============================] - 0s 4ms/step - loss: 64.6633 - val_loss: 52.3406\n",
      "Epoch 38/100\n",
      "11/11 [==============================] - 0s 4ms/step - loss: 63.0504 - val_loss: 45.4971\n",
      "Epoch 39/100\n",
      "11/11 [==============================] - 0s 4ms/step - loss: 63.5141 - val_loss: 48.2384\n",
      "Epoch 40/100\n",
      "11/11 [==============================] - 0s 4ms/step - loss: 62.7095 - val_loss: 48.4374\n",
      "Epoch 41/100\n",
      "11/11 [==============================] - 0s 4ms/step - loss: 62.5321 - val_loss: 51.1335\n",
      "Epoch 42/100\n",
      "11/11 [==============================] - 0s 4ms/step - loss: 63.8433 - val_loss: 46.5769\n",
      "Epoch 43/100\n",
      "11/11 [==============================] - 0s 4ms/step - loss: 61.4200 - val_loss: 44.6936\n",
      "Epoch 44/100\n",
      "11/11 [==============================] - 0s 4ms/step - loss: 62.6022 - val_loss: 46.2394\n",
      "Epoch 45/100\n",
      "11/11 [==============================] - 0s 4ms/step - loss: 62.5042 - val_loss: 45.1785\n",
      "Epoch 46/100\n",
      "11/11 [==============================] - 0s 4ms/step - loss: 61.1187 - val_loss: 45.2290\n",
      "Epoch 47/100\n",
      "11/11 [==============================] - 0s 4ms/step - loss: 62.1430 - val_loss: 44.2678\n",
      "Epoch 48/100\n",
      "11/11 [==============================] - 0s 4ms/step - loss: 62.1274 - val_loss: 46.0739\n",
      "Epoch 49/100\n",
      "11/11 [==============================] - 0s 4ms/step - loss: 60.8503 - val_loss: 44.4599\n",
      "Epoch 50/100\n",
      "11/11 [==============================] - 0s 4ms/step - loss: 61.8318 - val_loss: 49.5074\n",
      "Epoch 51/100\n",
      "11/11 [==============================] - 0s 4ms/step - loss: 61.7774 - val_loss: 43.9994\n",
      "Epoch 52/100\n",
      "11/11 [==============================] - 0s 4ms/step - loss: 61.4292 - val_loss: 44.6670\n",
      "Epoch 53/100\n",
      "11/11 [==============================] - 0s 4ms/step - loss: 61.0102 - val_loss: 44.7362\n",
      "Epoch 54/100\n",
      "11/11 [==============================] - 0s 4ms/step - loss: 61.8849 - val_loss: 43.3703\n",
      "Epoch 55/100\n",
      "11/11 [==============================] - 0s 4ms/step - loss: 61.1687 - val_loss: 43.2813\n",
      "Epoch 56/100\n",
      "11/11 [==============================] - 0s 3ms/step - loss: 60.6786 - val_loss: 49.7898\n",
      "Epoch 57/100\n",
      "11/11 [==============================] - 0s 4ms/step - loss: 62.0962 - val_loss: 47.1001\n",
      "Epoch 58/100\n",
      "11/11 [==============================] - 0s 3ms/step - loss: 60.3748 - val_loss: 43.6040\n",
      "Epoch 59/100\n",
      "11/11 [==============================] - 0s 4ms/step - loss: 61.5158 - val_loss: 43.6465\n",
      "Epoch 60/100\n",
      "11/11 [==============================] - 0s 4ms/step - loss: 61.1676 - val_loss: 43.2454\n",
      "Epoch 61/100\n",
      "11/11 [==============================] - 0s 3ms/step - loss: 61.2927 - val_loss: 49.7011\n",
      "Epoch 62/100\n",
      "11/11 [==============================] - 0s 5ms/step - loss: 59.1992 - val_loss: 45.4472\n",
      "Epoch 63/100\n",
      "11/11 [==============================] - 0s 4ms/step - loss: 60.2607 - val_loss: 44.3704\n",
      "Epoch 64/100\n",
      "11/11 [==============================] - 0s 4ms/step - loss: 60.2539 - val_loss: 47.8591\n",
      "Epoch 65/100\n",
      "11/11 [==============================] - 0s 4ms/step - loss: 60.2747 - val_loss: 49.1548\n",
      "Epoch 66/100\n",
      "11/11 [==============================] - 0s 4ms/step - loss: 60.8803 - val_loss: 48.5040\n",
      "Epoch 67/100\n",
      "11/11 [==============================] - 0s 4ms/step - loss: 60.4290 - val_loss: 44.2267\n",
      "Epoch 68/100\n",
      "11/11 [==============================] - 0s 4ms/step - loss: 59.3893 - val_loss: 45.4489\n",
      "Epoch 69/100\n",
      "11/11 [==============================] - 0s 4ms/step - loss: 58.5503 - val_loss: 57.8910\n",
      "Epoch 70/100\n",
      "11/11 [==============================] - 0s 4ms/step - loss: 62.0921 - val_loss: 43.8300\n",
      "Epoch 71/100\n",
      "11/11 [==============================] - 0s 4ms/step - loss: 60.0402 - val_loss: 43.2218\n",
      "Epoch 72/100\n",
      "11/11 [==============================] - 0s 4ms/step - loss: 59.7972 - val_loss: 44.4004\n",
      "Epoch 73/100\n",
      "11/11 [==============================] - 0s 4ms/step - loss: 60.0506 - val_loss: 45.0036\n",
      "Epoch 74/100\n",
      "11/11 [==============================] - 0s 4ms/step - loss: 59.4467 - val_loss: 42.8616\n",
      "Epoch 75/100\n",
      "11/11 [==============================] - 0s 4ms/step - loss: 59.3163 - val_loss: 55.4629\n",
      "Epoch 76/100\n",
      "11/11 [==============================] - 0s 4ms/step - loss: 60.8735 - val_loss: 42.9452\n",
      "Epoch 77/100\n",
      "11/11 [==============================] - 0s 4ms/step - loss: 58.8807 - val_loss: 42.1310\n",
      "Epoch 78/100\n",
      "11/11 [==============================] - 0s 4ms/step - loss: 59.7971 - val_loss: 42.3339\n",
      "Epoch 79/100\n",
      "11/11 [==============================] - 0s 4ms/step - loss: 61.3769 - val_loss: 43.2921\n",
      "Epoch 80/100\n",
      "11/11 [==============================] - 0s 5ms/step - loss: 59.0093 - val_loss: 43.9399\n",
      "Epoch 81/100\n",
      "11/11 [==============================] - 0s 4ms/step - loss: 59.1377 - val_loss: 42.7364\n",
      "Epoch 82/100\n",
      "11/11 [==============================] - 0s 4ms/step - loss: 59.8227 - val_loss: 41.8810\n",
      "Epoch 83/100\n",
      "11/11 [==============================] - 0s 4ms/step - loss: 58.5491 - val_loss: 50.2821\n",
      "Epoch 84/100\n",
      "11/11 [==============================] - 0s 3ms/step - loss: 60.5674 - val_loss: 42.8521\n",
      "Epoch 85/100\n",
      "11/11 [==============================] - 0s 4ms/step - loss: 58.8689 - val_loss: 47.7710\n",
      "Epoch 86/100\n",
      "11/11 [==============================] - 0s 4ms/step - loss: 59.9098 - val_loss: 44.7036\n",
      "Epoch 87/100\n",
      "11/11 [==============================] - 0s 4ms/step - loss: 58.7581 - val_loss: 49.7770\n",
      "Epoch 88/100\n",
      "11/11 [==============================] - 0s 4ms/step - loss: 59.5765 - val_loss: 42.5059\n",
      "Epoch 89/100\n",
      "11/11 [==============================] - 0s 4ms/step - loss: 59.0035 - val_loss: 41.9931\n",
      "Epoch 90/100\n",
      "11/11 [==============================] - 0s 4ms/step - loss: 58.2764 - val_loss: 43.3433\n",
      "Epoch 91/100\n",
      "11/11 [==============================] - 0s 5ms/step - loss: 59.3001 - val_loss: 42.3949\n",
      "Epoch 92/100\n",
      "11/11 [==============================] - 0s 6ms/step - loss: 58.5381 - val_loss: 42.2372\n",
      "Epoch 93/100\n",
      "11/11 [==============================] - 0s 6ms/step - loss: 59.5055 - val_loss: 43.4928\n",
      "Epoch 94/100\n",
      "11/11 [==============================] - 0s 5ms/step - loss: 58.2899 - val_loss: 42.3316\n",
      "Epoch 95/100\n",
      "11/11 [==============================] - 0s 5ms/step - loss: 58.2361 - val_loss: 44.3422\n",
      "Epoch 96/100\n",
      "11/11 [==============================] - 0s 5ms/step - loss: 58.5161 - val_loss: 44.8639\n",
      "Epoch 97/100\n",
      "11/11 [==============================] - 0s 4ms/step - loss: 58.9738 - val_loss: 46.0466\n",
      "Epoch 98/100\n",
      "11/11 [==============================] - 0s 4ms/step - loss: 58.7782 - val_loss: 51.7870\n",
      "Epoch 99/100\n",
      "11/11 [==============================] - 0s 4ms/step - loss: 58.1334 - val_loss: 47.4833\n",
      "Epoch 100/100\n",
      "11/11 [==============================] - 0s 4ms/step - loss: 57.8788 - val_loss: 51.1267\n"
     ]
    },
    {
     "data": {
      "text/plain": [
       "<keras.callbacks.History at 0x1400bb1e790>"
      ]
     },
     "execution_count": 10,
     "metadata": {},
     "output_type": "execute_result"
    }
   ],
   "source": [
    "model.fit(x=features.to_numpy(), y=target.to_numpy(), epochs=100, callbacks=[tensorboard_callback], \\\n",
    "              batch_size=32, validation_split=0.2)"
   ]
  },
  {
   "cell_type": "code",
   "execution_count": 11,
   "id": "6b112d24",
   "metadata": {},
   "outputs": [
    {
     "name": "stdout",
     "output_type": "stream",
     "text": [
      "13/13 [==============================] - 0s 2ms/step - loss: 58.7038\n",
      "loss: 58.703819274902344\n"
     ]
    }
   ],
   "source": [
    "loss = model.evaluate(features.to_numpy(), target.to_numpy())\n",
    "print('loss:', loss)"
   ]
  },
  {
   "cell_type": "code",
   "execution_count": 12,
   "id": "9d1ea82a",
   "metadata": {},
   "outputs": [
    {
     "data": {
      "text/html": [
       "\n",
       "      <iframe id=\"tensorboard-frame-52160566983d7818\" width=\"100%\" height=\"800\" frameborder=\"0\">\n",
       "      </iframe>\n",
       "      <script>\n",
       "        (function() {\n",
       "          const frame = document.getElementById(\"tensorboard-frame-52160566983d7818\");\n",
       "          const url = new URL(\"/\", window.location);\n",
       "          const port = 6006;\n",
       "          if (port) {\n",
       "            url.port = port;\n",
       "          }\n",
       "          frame.src = url;\n",
       "        })();\n",
       "      </script>\n",
       "    "
      ],
      "text/plain": [
       "<IPython.core.display.HTML object>"
      ]
     },
     "metadata": {},
     "output_type": "display_data"
    }
   ],
   "source": [
    "%load_ext tensorboard\n",
    "%tensorboard --host 0.0.0.0 --logdir=\"logs3\""
   ]
  }
 ],
 "metadata": {
  "kernelspec": {
   "display_name": "Python 3",
   "language": "python",
   "name": "python3"
  },
  "language_info": {
   "codemirror_mode": {
    "name": "ipython",
    "version": 3
   },
   "file_extension": ".py",
   "mimetype": "text/x-python",
   "name": "python",
   "nbconvert_exporter": "python",
   "pygments_lexer": "ipython3",
   "version": "3.9.6"
  }
 },
 "nbformat": 4,
 "nbformat_minor": 5
}
