{
 "cells": [
  {
   "cell_type": "code",
   "execution_count": 1,
   "id": "3d788a02",
   "metadata": {},
   "outputs": [],
   "source": [
    "import tensorflow as tf\n",
    "import pandas as pd"
   ]
  },
  {
   "cell_type": "code",
   "execution_count": 2,
   "id": "a6fa07c8",
   "metadata": {},
   "outputs": [],
   "source": [
    "df = pd.read_csv(\"dataset/accelerometer.csv\", low_memory=False)"
   ]
  },
  {
   "cell_type": "code",
   "execution_count": 3,
   "id": "98421d99",
   "metadata": {},
   "outputs": [],
   "source": [
    "df.dropna(inplace=True)"
   ]
  },
  {
   "cell_type": "code",
   "execution_count": 4,
   "id": "10d3cd47",
   "metadata": {},
   "outputs": [],
   "source": [
    "target = df['wconfid']\n",
    "features = df.drop('wconfid', axis=1)"
   ]
  },
  {
   "cell_type": "code",
   "execution_count": 5,
   "id": "82379f9d",
   "metadata": {},
   "outputs": [],
   "source": [
    "model = tf.keras.Sequential()"
   ]
  },
  {
   "cell_type": "code",
   "execution_count": 6,
   "id": "289d116b",
   "metadata": {},
   "outputs": [],
   "source": [
    "model.add(tf.keras.layers.InputLayer\\\n",
    "             (input_shape=(features.shape[1],), \\\n",
    "                           name='Input_layer'))"
   ]
  },
  {
   "cell_type": "code",
   "execution_count": 7,
   "id": "808fd379",
   "metadata": {},
   "outputs": [],
   "source": [
    "model.add(tf.keras.layers.Dense(1, name='Output_layer', activation='sigmoid'))"
   ]
  },
  {
   "cell_type": "code",
   "execution_count": 8,
   "id": "d0dacbd0",
   "metadata": {},
   "outputs": [],
   "source": [
    "model.compile(tf.optimizers.RMSprop(0.0001), \\\n",
    "                  loss='binary_crossentropy', metrics=['accuracy'])"
   ]
  },
  {
   "cell_type": "code",
   "execution_count": 9,
   "id": "d42d78e5",
   "metadata": {},
   "outputs": [],
   "source": [
    "tensorboard_callback = tf.keras.callbacks\\\n",
    "                             .TensorBoard(log_dir=\"./logs4\")"
   ]
  },
  {
   "cell_type": "code",
   "execution_count": 10,
   "id": "9ddb9736",
   "metadata": {},
   "outputs": [
    {
     "name": "stdout",
     "output_type": "stream",
     "text": [
      "Epoch 1/50\n",
      "2550/2550 [==============================] - 4s 1ms/step - loss: 2.8754 - accuracy: 0.6250 - val_loss: 5.0122 - val_accuracy: 0.0000e+00\n",
      "Epoch 2/50\n",
      "2550/2550 [==============================] - 3s 1ms/step - loss: 0.6449 - accuracy: 0.6059 - val_loss: 1.9734 - val_accuracy: 0.0000e+00\n",
      "Epoch 3/50\n",
      "2550/2550 [==============================] - 4s 1ms/step - loss: 0.6210 - accuracy: 0.6081 - val_loss: 1.8695 - val_accuracy: 0.0000e+00\n",
      "Epoch 4/50\n",
      "2550/2550 [==============================] - 4s 1ms/step - loss: 0.6144 - accuracy: 0.6131 - val_loss: 1.8384 - val_accuracy: 0.0000e+00\n",
      "Epoch 5/50\n",
      "2550/2550 [==============================] - 4s 2ms/step - loss: 0.6093 - accuracy: 0.6181 - val_loss: 1.8554 - val_accuracy: 0.0000e+00\n",
      "Epoch 6/50\n",
      "2550/2550 [==============================] - 5s 2ms/step - loss: 0.6054 - accuracy: 0.6213 - val_loss: 1.8911 - val_accuracy: 0.0000e+00\n",
      "Epoch 7/50\n",
      "2550/2550 [==============================] - 7s 3ms/step - loss: 0.6025 - accuracy: 0.6232 - val_loss: 1.8006 - val_accuracy: 0.0000e+00 0.6034 - accura - ETA: 1s - l\n",
      "Epoch 8/50\n",
      "2550/2550 [==============================] - 3s 1ms/step - loss: 0.6005 - accuracy: 0.6245 - val_loss: 1.8469 - val_accuracy: 0.0000e+00\n",
      "Epoch 9/50\n",
      "2550/2550 [==============================] - 3s 1ms/step - loss: 0.5990 - accuracy: 0.6248 - val_loss: 1.7996 - val_accuracy: 0.0000e+00\n",
      "Epoch 10/50\n",
      "2550/2550 [==============================] - 3s 1ms/step - loss: 0.5979 - accuracy: 0.6250 - val_loss: 1.7691 - val_accuracy: 0.0000e+00\n",
      "Epoch 11/50\n",
      "2550/2550 [==============================] - 3s 1ms/step - loss: 0.5971 - accuracy: 0.6250 - val_loss: 1.7880 - val_accuracy: 0.0000e+00\n",
      "Epoch 12/50\n",
      "2550/2550 [==============================] - 3s 1ms/step - loss: 0.5964 - accuracy: 0.6250 - val_loss: 1.7764 - val_accuracy: 0.0000e+00\n",
      "Epoch 13/50\n",
      "2550/2550 [==============================] - 3s 1ms/step - loss: 0.5959 - accuracy: 0.6250 - val_loss: 1.8404 - val_accuracy: 0.0000e+00\n",
      "Epoch 14/50\n",
      "2550/2550 [==============================] - 3s 1ms/step - loss: 0.5954 - accuracy: 0.6249 - val_loss: 1.8150 - val_accuracy: 0.0000e+00\n",
      "Epoch 15/50\n",
      "2550/2550 [==============================] - 3s 1ms/step - loss: 0.5950 - accuracy: 0.6249 - val_loss: 1.8126 - val_accuracy: 0.0000e+00\n",
      "Epoch 16/50\n",
      "2550/2550 [==============================] - 3s 1ms/step - loss: 0.5946 - accuracy: 0.6251 - val_loss: 1.8022 - val_accuracy: 0.0000e+00\n",
      "Epoch 17/50\n",
      "2550/2550 [==============================] - 4s 1ms/step - loss: 0.5943 - accuracy: 0.6253 - val_loss: 1.8339 - val_accuracy: 0.0000e+00\n",
      "Epoch 18/50\n",
      "2550/2550 [==============================] - 3s 1ms/step - loss: 0.5940 - accuracy: 0.6252 - val_loss: 1.8066 - val_accuracy: 0.0000e+00\n",
      "Epoch 19/50\n",
      "2550/2550 [==============================] - 3s 1ms/step - loss: 0.5937 - accuracy: 0.6251 - val_loss: 1.8621 - val_accuracy: 0.0000e+00\n",
      "Epoch 20/50\n",
      "2550/2550 [==============================] - 3s 1ms/step - loss: 0.5936 - accuracy: 0.6245 - val_loss: 1.9120 - val_accuracy: 0.0000e+00\n",
      "Epoch 21/50\n",
      "2550/2550 [==============================] - 3s 1ms/step - loss: 0.5934 - accuracy: 0.6242 - val_loss: 1.9165 - val_accuracy: 0.0000e+00\n",
      "Epoch 22/50\n",
      "2550/2550 [==============================] - 3s 1ms/step - loss: 0.5932 - accuracy: 0.6251 - val_loss: 1.8925 - val_accuracy: 0.0000e+00\n",
      "Epoch 23/50\n",
      "2550/2550 [==============================] - 3s 1ms/step - loss: 0.5931 - accuracy: 0.6248 - val_loss: 1.8788 - val_accuracy: 0.0000e+00\n",
      "Epoch 24/50\n",
      "2550/2550 [==============================] - 3s 1ms/step - loss: 0.5930 - accuracy: 0.6247 - val_loss: 1.8609 - val_accuracy: 0.0000e+00\n",
      "Epoch 25/50\n",
      "2550/2550 [==============================] - 3s 1ms/step - loss: 0.5929 - accuracy: 0.6249 - val_loss: 1.9400 - val_accuracy: 0.0000e+00\n",
      "Epoch 26/50\n",
      "2550/2550 [==============================] - 3s 1ms/step - loss: 0.5927 - accuracy: 0.6252 - val_loss: 1.8213 - val_accuracy: 0.0000e+00\n",
      "Epoch 27/50\n",
      "2550/2550 [==============================] - 3s 1ms/step - loss: 0.5927 - accuracy: 0.6248 - val_loss: 1.9405 - val_accuracy: 0.0000e+00\n",
      "Epoch 28/50\n",
      "2550/2550 [==============================] - 3s 1ms/step - loss: 0.5926 - accuracy: 0.6253 - val_loss: 1.8629 - val_accuracy: 0.0000e+00\n",
      "Epoch 29/50\n",
      "2550/2550 [==============================] - 3s 1ms/step - loss: 0.5925 - accuracy: 0.6250 - val_loss: 1.9349 - val_accuracy: 0.0000e+00\n",
      "Epoch 30/50\n",
      "2550/2550 [==============================] - 3s 1ms/step - loss: 0.5924 - accuracy: 0.6254 - val_loss: 1.9357 - val_accuracy: 0.0000e+00\n",
      "Epoch 31/50\n",
      "2550/2550 [==============================] - 4s 1ms/step - loss: 0.5925 - accuracy: 0.6250 - val_loss: 1.8570 - val_accuracy: 0.0000e+00\n",
      "Epoch 32/50\n",
      "2550/2550 [==============================] - 3s 1ms/step - loss: 0.5923 - accuracy: 0.6251 - val_loss: 2.0493 - val_accuracy: 0.0000e+00\n",
      "Epoch 33/50\n",
      "2550/2550 [==============================] - 3s 1ms/step - loss: 0.5923 - accuracy: 0.6249 - val_loss: 1.9349 - val_accuracy: 0.0000e+00\n",
      "Epoch 34/50\n",
      "2550/2550 [==============================] - 3s 1ms/step - loss: 0.5923 - accuracy: 0.6250 - val_loss: 1.9485 - val_accuracy: 0.0000e+00\n",
      "Epoch 35/50\n",
      "2550/2550 [==============================] - 3s 1ms/step - loss: 0.5923 - accuracy: 0.6250 - val_loss: 1.9298 - val_accuracy: 0.0000e+00\n",
      "Epoch 36/50\n",
      "2550/2550 [==============================] - 3s 1ms/step - loss: 0.5922 - accuracy: 0.6250 - val_loss: 1.8986 - val_accuracy: 0.0000e+00\n",
      "Epoch 37/50\n",
      "2550/2550 [==============================] - 3s 1ms/step - loss: 0.5922 - accuracy: 0.6250 - val_loss: 1.9564 - val_accuracy: 0.0000e+00\n",
      "Epoch 38/50\n",
      "2550/2550 [==============================] - 3s 1ms/step - loss: 0.5922 - accuracy: 0.6250 - val_loss: 1.9237 - val_accuracy: 0.0000e+00\n",
      "Epoch 39/50\n",
      "2550/2550 [==============================] - 3s 1ms/step - loss: 0.5922 - accuracy: 0.6250 - val_loss: 1.9453 - val_accuracy: 0.0000e+00\n",
      "Epoch 40/50\n",
      "2550/2550 [==============================] - 3s 1ms/step - loss: 0.5922 - accuracy: 0.6250 - val_loss: 1.9563 - val_accuracy: 0.0000e+00\n",
      "Epoch 41/50\n",
      "2550/2550 [==============================] - 4s 1ms/step - loss: 0.5921 - accuracy: 0.6250 - val_loss: 1.9687 - val_accuracy: 0.0000e+00\n",
      "Epoch 42/50\n",
      "2550/2550 [==============================] - 4s 1ms/step - loss: 0.5921 - accuracy: 0.6250 - val_loss: 1.9654 - val_accuracy: 0.0000e+00\n",
      "Epoch 43/50\n",
      "2550/2550 [==============================] - 4s 1ms/step - loss: 0.5921 - accuracy: 0.6250 - val_loss: 1.9214 - val_accuracy: 0.0000e+00\n",
      "Epoch 44/50\n",
      "2550/2550 [==============================] - 4s 1ms/step - loss: 0.5921 - accuracy: 0.6250 - val_loss: 1.9565 - val_accuracy: 0.0000e+00\n",
      "Epoch 45/50\n",
      "2550/2550 [==============================] - 3s 1ms/step - loss: 0.5921 - accuracy: 0.6250 - val_loss: 1.9895 - val_accuracy: 0.0000e+00\n",
      "Epoch 46/50\n",
      "2550/2550 [==============================] - 3s 1ms/step - loss: 0.5921 - accuracy: 0.6250 - val_loss: 1.9450 - val_accuracy: 0.0000e+00\n",
      "Epoch 47/50\n",
      "2550/2550 [==============================] - 3s 1ms/step - loss: 0.5921 - accuracy: 0.6250 - val_loss: 1.9381 - val_accuracy: 0.0000e+00\n",
      "Epoch 48/50\n",
      "2550/2550 [==============================] - 4s 1ms/step - loss: 0.5921 - accuracy: 0.6250 - val_loss: 1.9632 - val_accuracy: 0.0000e+00\n",
      "Epoch 49/50\n",
      "2550/2550 [==============================] - 3s 1ms/step - loss: 0.5921 - accuracy: 0.6250 - val_loss: 1.9609 - val_accuracy: 0.0000e+00\n",
      "Epoch 50/50\n",
      "2550/2550 [==============================] - 3s 1ms/step - loss: 0.5921 - accuracy: 0.6250 - val_loss: 1.9924 - val_accuracy: 0.0000e+00\n"
     ]
    },
    {
     "data": {
      "text/plain": [
       "<keras.callbacks.History at 0x1798abc5190>"
      ]
     },
     "execution_count": 10,
     "metadata": {},
     "output_type": "execute_result"
    }
   ],
   "source": [
    "model.fit(x=features.to_numpy(), y=target.to_numpy(), \\\n",
    "             epochs=50, callbacks=[tensorboard_callback] , \\\n",
    "             validation_split=0.2)"
   ]
  },
  {
   "cell_type": "code",
   "execution_count": 11,
   "id": "82117ee6",
   "metadata": {
    "scrolled": true
   },
   "outputs": [
    {
     "name": "stdout",
     "output_type": "stream",
     "text": [
      "3188/3188 [==============================] - 3s 988us/step - loss: 0.8721 - accuracy: 0.5000\n",
      "loss: [0.872117280960083, 0.5]\n"
     ]
    }
   ],
   "source": [
    "loss = model.evaluate(features.to_numpy(), target.to_numpy())\n",
    "print('loss:', loss)"
   ]
  },
  {
   "cell_type": "code",
   "execution_count": 16,
   "id": "26ea01d1",
   "metadata": {
    "scrolled": true
   },
   "outputs": [
    {
     "data": {
      "text/plain": [
       "Reusing TensorBoard on port 6006 (pid 10948), started 0:16:44 ago. (Use '!kill 10948' to kill it.)"
      ]
     },
     "metadata": {},
     "output_type": "display_data"
    },
    {
     "data": {
      "text/html": [
       "\n",
       "      <iframe id=\"tensorboard-frame-8220196a17ac848b\" width=\"100%\" height=\"800\" frameborder=\"0\">\n",
       "      </iframe>\n",
       "      <script>\n",
       "        (function() {\n",
       "          const frame = document.getElementById(\"tensorboard-frame-8220196a17ac848b\");\n",
       "          const url = new URL(\"/\", window.location);\n",
       "          const port = 6006;\n",
       "          if (port) {\n",
       "            url.port = port;\n",
       "          }\n",
       "          frame.src = url;\n",
       "        })();\n",
       "      </script>\n",
       "    "
      ],
      "text/plain": [
       "<IPython.core.display.HTML object>"
      ]
     },
     "metadata": {},
     "output_type": "display_data"
    }
   ],
   "source": [
    "%load_ext tensorboard\n",
    "%tensorboard --logdir=\"logs4\""
   ]
  }
 ],
 "metadata": {
  "kernelspec": {
   "display_name": "Python 3",
   "language": "python",
   "name": "python3"
  },
  "language_info": {
   "codemirror_mode": {
    "name": "ipython",
    "version": 3
   },
   "file_extension": ".py",
   "mimetype": "text/x-python",
   "name": "python",
   "nbconvert_exporter": "python",
   "pygments_lexer": "ipython3",
   "version": "3.9.6"
  }
 },
 "nbformat": 4,
 "nbformat_minor": 5
}
