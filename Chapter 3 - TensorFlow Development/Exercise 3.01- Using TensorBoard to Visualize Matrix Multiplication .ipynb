{
 "cells": [
  {
   "cell_type": "code",
   "execution_count": 1,
   "id": "372402ca",
   "metadata": {},
   "outputs": [],
   "source": [
    "import tensorflow as tf\n",
    "tf.random.set_seed(11)"
   ]
  },
  {
   "cell_type": "code",
   "execution_count": 2,
   "id": "4261e2b7",
   "metadata": {},
   "outputs": [],
   "source": [
    "logdir = 'logs/'\n",
    "writer = tf.summary.create_file_writer(logdir)"
   ]
  },
  {
   "cell_type": "code",
   "execution_count": 3,
   "id": "a00a6e22",
   "metadata": {},
   "outputs": [],
   "source": [
    "@tf.function\n",
    "def my_matmult(x, y):\n",
    "        result = tf.matmul(x, y)\n",
    "        return result"
   ]
  },
  {
   "cell_type": "code",
   "execution_count": 4,
   "id": "305cae0d",
   "metadata": {},
   "outputs": [],
   "source": [
    "x = tf.random.uniform((5, 5))\n",
    "y = tf.random.uniform((5, 5))"
   ]
  },
  {
   "cell_type": "code",
   "execution_count": 5,
   "id": "6210e79d",
   "metadata": {},
   "outputs": [
    {
     "name": "stdout",
     "output_type": "stream",
     "text": [
      "WARNING:tensorflow:From C:\\Users\\Bhara\\anaconda3\\envs\\tf_ws\\lib\\site-packages\\tensorflow\\python\\ops\\summary_ops_v2.py:1305: start (from tensorflow.python.eager.profiler) is deprecated and will be removed after 2020-07-01.\n",
      "Instructions for updating:\n",
      "use `tf.profiler.experimental.start` instead.\n"
     ]
    }
   ],
   "source": [
    "tf.summary.trace_on(graph=True, profiler=True)"
   ]
  },
  {
   "cell_type": "code",
   "execution_count": 6,
   "id": "168a3c9b",
   "metadata": {},
   "outputs": [
    {
     "name": "stdout",
     "output_type": "stream",
     "text": [
      "WARNING:tensorflow:From C:\\Users\\Bhara\\anaconda3\\envs\\tf_ws\\lib\\site-packages\\tensorflow\\python\\ops\\summary_ops_v2.py:1355: stop (from tensorflow.python.eager.profiler) is deprecated and will be removed after 2020-07-01.\n",
      "Instructions for updating:\n",
      "use `tf.profiler.experimental.stop` instead.\n",
      "WARNING:tensorflow:From C:\\Users\\Bhara\\anaconda3\\envs\\tf_ws\\lib\\site-packages\\tensorflow\\python\\ops\\summary_ops_v2.py:1355: save (from tensorflow.python.eager.profiler) is deprecated and will be removed after 2020-07-01.\n",
      "Instructions for updating:\n",
      "`tf.python.eager.profiler` has deprecated, use `tf.profiler` instead.\n",
      "WARNING:tensorflow:From C:\\Users\\Bhara\\anaconda3\\envs\\tf_ws\\lib\\site-packages\\tensorflow\\python\\eager\\profiler.py:151: maybe_create_event_file (from tensorflow.python.eager.profiler) is deprecated and will be removed after 2020-07-01.\n",
      "Instructions for updating:\n",
      "`tf.python.eager.profiler` has deprecated, use `tf.profiler` instead.\n"
     ]
    }
   ],
   "source": [
    "z = my_matmult(x, y)\n",
    "with writer.as_default():\n",
    "        tf.summary.trace_export(name=\"my_trace\",\\\n",
    "                                step=0,\\\n",
    "                                profiler_outdir=logdir)"
   ]
  },
  {
   "cell_type": "code",
   "execution_count": 7,
   "id": "645aca5d",
   "metadata": {},
   "outputs": [
    {
     "data": {
      "text/plain": [
       "Reusing TensorBoard on port 6006 (pid 5776), started 0:12:25 ago. (Use '!kill 5776' to kill it.)"
      ]
     },
     "metadata": {},
     "output_type": "display_data"
    },
    {
     "data": {
      "text/html": [
       "\n",
       "      <iframe id=\"tensorboard-frame-4d64ed6c34ce6725\" width=\"100%\" height=\"800\" frameborder=\"0\">\n",
       "      </iframe>\n",
       "      <script>\n",
       "        (function() {\n",
       "          const frame = document.getElementById(\"tensorboard-frame-4d64ed6c34ce6725\");\n",
       "          const url = new URL(\"/\", window.location);\n",
       "          const port = 6006;\n",
       "          if (port) {\n",
       "            url.port = port;\n",
       "          }\n",
       "          frame.src = url;\n",
       "        })();\n",
       "      </script>\n",
       "    "
      ],
      "text/plain": [
       "<IPython.core.display.HTML object>"
      ]
     },
     "metadata": {},
     "output_type": "display_data"
    }
   ],
   "source": [
    "%load_ext tensorboard\n",
    "%tensorboard --logdir=\"logs\""
   ]
  }
 ],
 "metadata": {
  "kernelspec": {
   "display_name": "Python 3",
   "language": "python",
   "name": "python3"
  },
  "language_info": {
   "codemirror_mode": {
    "name": "ipython",
    "version": 3
   },
   "file_extension": ".py",
   "mimetype": "text/x-python",
   "name": "python",
   "nbconvert_exporter": "python",
   "pygments_lexer": "ipython3",
   "version": "3.9.6"
  }
 },
 "nbformat": 4,
 "nbformat_minor": 5
}
