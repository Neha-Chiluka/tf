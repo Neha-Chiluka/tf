{
 "cells": [
  {
   "cell_type": "code",
   "execution_count": 1,
   "id": "9551735b",
   "metadata": {},
   "outputs": [],
   "source": [
    "import tensorflow as tf"
   ]
  },
  {
   "cell_type": "code",
   "execution_count": 6,
   "id": "c14d7d63",
   "metadata": {},
   "outputs": [],
   "source": [
    "df = tf.data.experimental.make_csv_dataset(r'dataset/drugLibTrain_raw.tsv',\n",
    "                                           batch_size=1, field_delim='\\t')"
   ]
  },
  {
   "cell_type": "code",
   "execution_count": 10,
   "id": "54f3c277",
   "metadata": {},
   "outputs": [],
   "source": [
    "def prep_ds(ds, shuffle_buffer_size=1024, \\\n",
    "                batch_size=32):\n",
    "        # Shuffle the dataset\n",
    "        ds = ds.shuffle(buffer_size=shuffle_buffer_size)\n",
    "        # Repeat the dataset\n",
    "        ds = ds.repeat()\n",
    "        # Batch the dataset\n",
    "        ds = ds.batch(batch_size)\n",
    "        return ds"
   ]
  },
  {
   "cell_type": "code",
   "execution_count": 11,
   "id": "faf176f2",
   "metadata": {},
   "outputs": [],
   "source": [
    "ds = prep_ds(df, batch_size=5)"
   ]
  },
  {
   "cell_type": "code",
   "execution_count": 13,
   "id": "6b63ff31",
   "metadata": {},
   "outputs": [
    {
     "name": "stdout",
     "output_type": "stream",
     "text": [
      "OrderedDict([('', <tf.Tensor: shape=(5, 1), dtype=int32, numpy=\n",
      "array([[3223],\n",
      "       [ 404],\n",
      "       [ 279],\n",
      "       [1523],\n",
      "       [ 949]])>), ('urlDrugName', <tf.Tensor: shape=(5, 1), dtype=string, numpy=\n",
      "array([[b'nuvaring'],\n",
      "       [b'restasis'],\n",
      "       [b'xyrem'],\n",
      "       [b'glucophage'],\n",
      "       [b'betamethasone']], dtype=object)>), ('rating', <tf.Tensor: shape=(5, 1), dtype=int32, numpy=\n",
      "array([[ 8],\n",
      "       [ 1],\n",
      "       [ 9],\n",
      "       [ 8],\n",
      "       [10]])>), ('effectiveness', <tf.Tensor: shape=(5, 1), dtype=string, numpy=\n",
      "array([[b'Highly Effective'],\n",
      "       [b'Ineffective'],\n",
      "       [b'Highly Effective'],\n",
      "       [b'Considerably Effective'],\n",
      "       [b'Highly Effective']], dtype=object)>), ('sideEffects', <tf.Tensor: shape=(5, 1), dtype=string, numpy=\n",
      "array([[b'No Side Effects'],\n",
      "       [b'Moderate Side Effects'],\n",
      "       [b'Moderate Side Effects'],\n",
      "       [b'No Side Effects'],\n",
      "       [b'No Side Effects']], dtype=object)>), ('condition', <tf.Tensor: shape=(5, 1), dtype=string, numpy=\n",
      "array([[b'contraception'],\n",
      "       [b'dry eye'],\n",
      "       [b'narcolepsy'],\n",
      "       [b'diabetes'],\n",
      "       [b'itchy, red, irritated skin']], dtype=object)>), ('benefitsReview', <tf.Tensor: shape=(5, 1), dtype=string, numpy=\n",
      "array([[b'Required only one application per month, rather than having to take a pill everyday. Was also a lower dosage than the pill, which seems better. Because it is not ingested there was no nausea.'],\n",
      "       [b'This did nothing for my dry eyes, which cause me to have blurry vision at times.'],\n",
      "       [b'Xyrem has been life-changing for me and more than I could have ever hoped for.  I spent most of my life completely exhausted and desperately tired.  The worst part was, I always just thought I was lazy.  Even after I was diagnosed, and was on Provigil (I was taking Provigil only for years before Xyrem)I still questioned if I really had a sleep disorder and thought that perhaps I was just lazier than everyone else.  Now that I take Xyrem, I know that I really do have a sleep disorder because Xyrem has changed my life so much.  I could have never imagined how much better and easier life is with a good nights sleep.  Without Xyrem, I spend most too much time in REM sleep.  I would dream constantly, beginning almost immediately after I would fall asleep.  Almost every morning I would wake up and still be in a dream.  Xyrem forces me into NREM sleep and it has made all the difference for me.'],\n",
      "       [b'the benefits of the treatment were that the blood sugar level that were very high in the beginning of the treatment went to controlled level. (it is controlled with the use of the medicine. I do not know what happens if I stop taking the medicine.)taking the medicine also helps in controlling hunger and so it help in having three meals, on regular times.'],\n",
      "       [b'Immediate relief and full recovery within 1 week.']],\n",
      "      dtype=object)>), ('sideEffectsReview', <tf.Tensor: shape=(5, 1), dtype=string, numpy=\n",
      "array([[b'Lower doses can lead to a slight increase in PMS symptoms such as cramping, but these can be combated with mild pain relievers. Sometimes can be felt during intercourse.'],\n",
      "       [b'Stinging when first applied, lasting approximately 15 minutes, and some redness.'],\n",
      "       [b\"Im sure it causes night sweats and significant weight loss.  Other side effects that may or may not be related that I experience (although I also started taking it after the birth of my first child and may be related to that rather than the Xyrem)were receeding hairline, short term memory impact, some decrease in cognitive function such as difficulty with word recall, following a more complex line of reasoning, etc.., and increased anxiety.  Even given the side effects, my life is so much better now that I am not so exhausted and I can't imagine going back to life before Xyrem.\"],\n",
      "       [b'no side effect that I have experienced or can tell about.\\r\\r\\nI was told that the medicine may damage my kidneys and I am taking regular check ups to test kidney function, however after over 5 years of taking the medicine every day (three times a day) there are no side effect and no problems to the kidneys.'],\n",
      "       [b'None']], dtype=object)>), ('commentsReview', <tf.Tensor: shape=(5, 1), dtype=string, numpy=\n",
      "array([[b'A plastic ring which releases hormones over a period of three weeks to provide contraceptive benefits. It is inserted into the vagina after your period, left for three weeks and then removed to allow for the next period.'],\n",
      "       [b\"This medication is very expensive.  Without insurance expect to pay between $270 - $300 for a month supply, depending on which pharmacy you use.  Even with insurance it costs me $68 a month.  If you read the insert that comes with the drops it states that clinical trials show only 15% of patients show improvement.  Had I read that BEFORE I wasted the money on 3 montjs worth of this stuff I wouldn't have even bothered.  Waste of money!\"],\n",
      "       [b'1 dose right before bed and another 3-4 hours later.'],\n",
      "       [b'the treatment is taking the medicine every day, three times a day for the first three years the dosage I got was of 850 mg twice a day one pill after breakfast and one pill after supper. after three years the dosage was changed a bit and I have received 500 mg three times a day, one pill after each meal. recently (round six months ago) since the blood sugar leveled were under control, the dosage was reduced to 500 mg twice a day after breakfast and after supper'],\n",
      "       [b\"I had been suffering from repeated yeast infections that I hadn't been able to cure on my own with traditional store-bought treatments. After over 2 months of chronic scratching, the skin of my outer vulva was red, sore and still outrageously itchy. My gynaecologist prescribed Betaderm to be applied twice daily for 2 weeks, and it worked amazingly well with no side effects.\"]],\n",
      "      dtype=object)>)])\n"
     ]
    }
   ],
   "source": [
    "for x in ds.take(1):\\\n",
    "        print(x)"
   ]
  },
  {
   "cell_type": "code",
   "execution_count": 17,
   "id": "c404968d",
   "metadata": {},
   "outputs": [],
   "source": [
    "import tensorflow_hub as hub\n",
    "embedding = \"https://tfhub.dev/google/tf2-preview\"\\\n",
    "                \"/gnews-swivel-20dim/1\"\n",
    "hub_layer = hub.KerasLayer(embedding, input_shape=[], \\\n",
    "                               dtype=tf.string, \\\n",
    "                               trainable=True)"
   ]
  },
  {
   "cell_type": "code",
   "execution_count": 23,
   "id": "282e95da",
   "metadata": {
    "scrolled": true
   },
   "outputs": [
    {
     "data": {
      "text/plain": [
       "[<tf.Variable 'Variable:0' shape=(20001, 20) dtype=float32, numpy=\n",
       " array([[-0.60565156, -0.01413231,  0.79470503, ...,  0.7346931 ,\n",
       "         -0.341707  , -0.43011868],\n",
       "        [-1.2047577 ,  0.21791467,  1.1384295 , ...,  0.74889004,\n",
       "         -0.41222748,  0.11590002],\n",
       "        [-1.3130792 , -0.20165846, -1.7422897 , ..., -1.0302742 ,\n",
       "          1.1531584 ,  0.03316951],\n",
       "        ...,\n",
       "        [ 0.13454673, -0.15173355,  0.5368477 , ...,  0.8319293 ,\n",
       "         -0.61366147, -1.0842572 ],\n",
       "        [ 0.20673902, -0.1418509 , -0.5856179 , ..., -0.02331898,\n",
       "          1.6080966 , -0.6525672 ],\n",
       "        [ 0.        ,  0.        ,  0.        , ...,  0.        ,\n",
       "          0.        ,  0.        ]], dtype=float32)>]"
      ]
     },
     "execution_count": 23,
     "metadata": {},
     "output_type": "execute_result"
    }
   ],
   "source": [
    "hub_layer"
   ]
  },
  {
   "cell_type": "code",
   "execution_count": 28,
   "id": "b1cbc994",
   "metadata": {},
   "outputs": [
    {
     "name": "stdout",
     "output_type": "stream",
     "text": [
      "tf.Tensor(\n",
      "[[ 1.3361044  -2.8993206   1.1688447   0.6744903  -2.5855703  -3.8141246\n",
      "  -1.2645893   1.8495587   1.6932734   1.4106091  -1.5566933   1.3347845\n",
      "  -0.24358633  0.59959763 -4.6750765   1.656392    4.5005417  -2.0818686\n",
      "  -1.7888577  -0.5935504 ]\n",
      " [ 0.47295803 -0.38856292  0.5133032   0.6471264  -1.3724495  -0.20445769\n",
      "  -0.8241067  -0.8209772  -0.45733562 -0.42146617 -0.15656942 -0.10436714\n",
      "   0.68209666 -0.2974076   1.5757813  -0.43703195 -1.2269309   0.08063598\n",
      "  -0.23382118 -0.42479706]\n",
      " [ 0.7247994  -3.325074    1.458296    1.6536409  -1.7424784  -3.0557165\n",
      "  -2.2355232   2.5066369   2.812075    1.1135345  -1.6780323   2.2412956\n",
      "  -0.21595728  0.5376175  -4.4306483   2.8813512   4.044093   -2.8532202\n",
      "  -1.233832   -0.9980966 ]\n",
      " [-0.03737091 -0.25487113  0.11871236 -0.10855141 -0.4640345  -0.15187873\n",
      "  -0.14669526  0.26890415  0.24121     0.25251237 -0.072613    0.35720235\n",
      "  -0.26417413 -0.14989133 -0.19025597  0.43411335  0.16987789 -0.23216881\n",
      "  -0.16986977  0.23363844]\n",
      " [ 1.5505407  -0.08748233  0.99211496  0.6828213   2.6067948  -2.1369038\n",
      "   0.21777937  1.1238499   0.48682734 -2.3378294   0.8822606   2.0404186\n",
      "  -0.9476035   0.42695326 -2.3991072   0.6738501   1.604632   -2.186929\n",
      "  -0.43429917 -1.4940169 ]], shape=(5, 20), dtype=float32)\n"
     ]
    }
   ],
   "source": [
    "for x in ds.take(1):\\\n",
    "        print(hub_layer(tf.reshape(x['commentsReview'],[-1])))"
   ]
  }
 ],
 "metadata": {
  "kernelspec": {
   "display_name": "Python 3",
   "language": "python",
   "name": "python3"
  },
  "language_info": {
   "codemirror_mode": {
    "name": "ipython",
    "version": 3
   },
   "file_extension": ".py",
   "mimetype": "text/x-python",
   "name": "python",
   "nbconvert_exporter": "python",
   "pygments_lexer": "ipython3",
   "version": "3.9.6"
  }
 },
 "nbformat": 4,
 "nbformat_minor": 5
}
