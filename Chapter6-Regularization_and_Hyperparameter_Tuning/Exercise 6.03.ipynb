{
 "cells": [
  {
   "cell_type": "code",
   "execution_count": 1,
   "id": "755288fb",
   "metadata": {},
   "outputs": [],
   "source": [
    "import pandas as pd"
   ]
  },
  {
   "cell_type": "code",
   "execution_count": 2,
   "id": "6622f531",
   "metadata": {},
   "outputs": [
    {
     "data": {
      "text/html": [
       "<div>\n",
       "<style scoped>\n",
       "    .dataframe tbody tr th:only-of-type {\n",
       "        vertical-align: middle;\n",
       "    }\n",
       "\n",
       "    .dataframe tbody tr th {\n",
       "        vertical-align: top;\n",
       "    }\n",
       "\n",
       "    .dataframe thead th {\n",
       "        text-align: right;\n",
       "    }\n",
       "</style>\n",
       "<table border=\"1\" class=\"dataframe\">\n",
       "  <thead>\n",
       "    <tr style=\"text-align: right;\">\n",
       "      <th></th>\n",
       "      <th>0</th>\n",
       "      <th>1</th>\n",
       "      <th>2</th>\n",
       "      <th>3</th>\n",
       "      <th>4</th>\n",
       "      <th>5</th>\n",
       "      <th>6</th>\n",
       "      <th>7</th>\n",
       "      <th>8</th>\n",
       "      <th>9</th>\n",
       "    </tr>\n",
       "  </thead>\n",
       "  <tbody>\n",
       "    <tr>\n",
       "      <th>0</th>\n",
       "      <td>50</td>\n",
       "      <td>21</td>\n",
       "      <td>77</td>\n",
       "      <td>0</td>\n",
       "      <td>28</td>\n",
       "      <td>0</td>\n",
       "      <td>27</td>\n",
       "      <td>48</td>\n",
       "      <td>22</td>\n",
       "      <td>2</td>\n",
       "    </tr>\n",
       "    <tr>\n",
       "      <th>1</th>\n",
       "      <td>55</td>\n",
       "      <td>0</td>\n",
       "      <td>92</td>\n",
       "      <td>0</td>\n",
       "      <td>0</td>\n",
       "      <td>26</td>\n",
       "      <td>36</td>\n",
       "      <td>92</td>\n",
       "      <td>56</td>\n",
       "      <td>4</td>\n",
       "    </tr>\n",
       "    <tr>\n",
       "      <th>2</th>\n",
       "      <td>53</td>\n",
       "      <td>0</td>\n",
       "      <td>82</td>\n",
       "      <td>0</td>\n",
       "      <td>52</td>\n",
       "      <td>-5</td>\n",
       "      <td>29</td>\n",
       "      <td>30</td>\n",
       "      <td>2</td>\n",
       "      <td>1</td>\n",
       "    </tr>\n",
       "    <tr>\n",
       "      <th>3</th>\n",
       "      <td>37</td>\n",
       "      <td>0</td>\n",
       "      <td>76</td>\n",
       "      <td>0</td>\n",
       "      <td>28</td>\n",
       "      <td>18</td>\n",
       "      <td>40</td>\n",
       "      <td>48</td>\n",
       "      <td>8</td>\n",
       "      <td>1</td>\n",
       "    </tr>\n",
       "    <tr>\n",
       "      <th>4</th>\n",
       "      <td>37</td>\n",
       "      <td>0</td>\n",
       "      <td>79</td>\n",
       "      <td>0</td>\n",
       "      <td>34</td>\n",
       "      <td>-26</td>\n",
       "      <td>43</td>\n",
       "      <td>46</td>\n",
       "      <td>2</td>\n",
       "      <td>1</td>\n",
       "    </tr>\n",
       "  </tbody>\n",
       "</table>\n",
       "</div>"
      ],
      "text/plain": [
       "    0   1   2  3   4   5   6   7   8  9\n",
       "0  50  21  77  0  28   0  27  48  22  2\n",
       "1  55   0  92  0   0  26  36  92  56  4\n",
       "2  53   0  82  0  52  -5  29  30   2  1\n",
       "3  37   0  76  0  28  18  40  48   8  1\n",
       "4  37   0  79  0  34 -26  43  46   2  1"
      ]
     },
     "execution_count": 2,
     "metadata": {},
     "output_type": "execute_result"
    }
   ],
   "source": [
    "data_url = \"https://raw.githubusercontent.com/fenago/tf/main/Chapter6-Regularization_and_Hyperparameter_Tuning/dataset/shuttle.trn\"\n",
    "\n",
    "data = pd.read_table(data_url, header=None, sep=' ')\n",
    "data.head()"
   ]
  },
  {
   "cell_type": "code",
   "execution_count": 3,
   "id": "7bc9dc64",
   "metadata": {},
   "outputs": [],
   "source": [
    "y = data.pop(9)\n",
    "X = data.copy()"
   ]
  },
  {
   "cell_type": "code",
   "execution_count": 4,
   "id": "6e86106e",
   "metadata": {},
   "outputs": [],
   "source": [
    "from sklearn.model_selection import train_test_split"
   ]
  },
  {
   "cell_type": "code",
   "execution_count": 5,
   "id": "7da1b657",
   "metadata": {},
   "outputs": [],
   "source": [
    "X_train, X_test, y_train, y_test = train_test_split(X, y, test_size=0.30, stratify=y)"
   ]
  },
  {
   "cell_type": "code",
   "execution_count": 8,
   "id": "12c487a8",
   "metadata": {},
   "outputs": [],
   "source": [
    "!pip install keras-tuner\n",
    "import keras_tuner as kt"
   ]
  },
  {
   "cell_type": "code",
   "execution_count": 9,
   "id": "e951e3fb",
   "metadata": {},
   "outputs": [],
   "source": [
    "import tensorflow as tf\n",
    "from tensorflow.keras.layers import Dense"
   ]
  },
  {
   "cell_type": "code",
   "execution_count": 10,
   "id": "6b2a3606",
   "metadata": {},
   "outputs": [],
   "source": [
    "tf.random.set_seed(8)"
   ]
  },
  {
   "cell_type": "code",
   "execution_count": 22,
   "id": "415f020f",
   "metadata": {},
   "outputs": [],
   "source": [
    "def model_builder(hp):\n",
    "        model = tf.keras.Sequential()\n",
    "        hp_l2 = hp.Choice('l2', values = [0.1, 0.01, 0.001, 0.0001])\n",
    "        reg_fc1 = Dense(512, input_shape=(9,), activation='relu', \\\n",
    "                        kernel_regularizer=tf.keras.regularizers\\\n",
    "                                             .l2(l=hp_l2))\n",
    "        reg_fc2 = Dense(512, activation='relu', \\\n",
    "                        kernel_regularizer=tf.keras.regularizers\\\n",
    "                                             .l2(l=hp_l2))\n",
    "        reg_fc3 = Dense(128, activation='relu', \\\n",
    "                        kernel_regularizer=tf.keras.regularizers\\\n",
    "                                             .l2(l=hp_l2))\n",
    "        reg_fc4 = Dense(128, activation='relu', \\\n",
    "                        kernel_regularizer=tf.keras.regularizers\\\n",
    "                                             .l2(l=hp_l2))\n",
    "        reg_fc5 = Dense(8, activation='softmax')\n",
    "\n",
    "        model.add(reg_fc1)\n",
    "        model.add(reg_fc2)\n",
    "        model.add(reg_fc3)\n",
    "        model.add(reg_fc4)\n",
    "        model.add(reg_fc5)\n",
    "        loss = tf.keras.losses.SparseCategoricalCrossentropy()\n",
    "        optimizer = tf.keras.optimizers.Adam(0.001)\n",
    "        model.compile(optimizer = optimizer, loss = loss, \\\n",
    "                      metrics = ['accuracy'])\n",
    "        return model"
   ]
  },
  {
   "cell_type": "code",
   "execution_count": 23,
   "id": "add8a0fe",
   "metadata": {},
   "outputs": [],
   "source": [
    "tuner = kt.RandomSearch(model_builder, objective='val_accuracy', \\\n",
    "                            max_trials=10)"
   ]
  },
  {
   "cell_type": "code",
   "execution_count": 24,
   "id": "a9ccda8b",
   "metadata": {},
   "outputs": [
    {
     "name": "stdout",
     "output_type": "stream",
     "text": [
      "Trial 4 Complete [00h 00m 03s]\n",
      "val_accuracy: 0.9576244950294495\n",
      "\n",
      "Best val_accuracy So Far: 0.9956321716308594\n",
      "Total elapsed time: 00h 00m 15s\n",
      "INFO:tensorflow:Oracle triggered exit\n"
     ]
    }
   ],
   "source": [
    "tuner.search(X_train, y_train, validation_data=(X_test, y_test))"
   ]
  },
  {
   "cell_type": "code",
   "execution_count": 25,
   "id": "5e7ebb33",
   "metadata": {},
   "outputs": [],
   "source": [
    "best_hps = tuner.get_best_hyperparameters()[0]"
   ]
  },
  {
   "cell_type": "code",
   "execution_count": 26,
   "id": "8595d3b1",
   "metadata": {},
   "outputs": [
    {
     "data": {
      "text/plain": [
       "0.0001"
      ]
     },
     "execution_count": 26,
     "metadata": {},
     "output_type": "execute_result"
    }
   ],
   "source": [
    "best_l2 = best_hps.get('l2')\n",
    "best_l2"
   ]
  },
  {
   "cell_type": "code",
   "execution_count": 27,
   "id": "325d5874",
   "metadata": {},
   "outputs": [
    {
     "name": "stdout",
     "output_type": "stream",
     "text": [
      "Epoch 1/5\n",
      "952/952 [==============================] - 3s 3ms/step - loss: 0.4201 - accuracy: 0.9711 - val_loss: 0.2969 - val_accuracy: 0.9810\n",
      "Epoch 2/5\n",
      "952/952 [==============================] - 3s 3ms/step - loss: 0.1842 - accuracy: 0.9926 - val_loss: 0.1526 - val_accuracy: 0.9965\n",
      "Epoch 3/5\n",
      "952/952 [==============================] - 3s 3ms/step - loss: 0.1360 - accuracy: 0.9947 - val_loss: 0.2095 - val_accuracy: 0.9939\n",
      "Epoch 4/5\n",
      "952/952 [==============================] - 3s 3ms/step - loss: 0.1191 - accuracy: 0.9941 - val_loss: 0.1629 - val_accuracy: 0.9848\n",
      "Epoch 5/5\n",
      "952/952 [==============================] - 3s 3ms/step - loss: 0.0819 - accuracy: 0.9966 - val_loss: 0.0898 - val_accuracy: 0.9967\n"
     ]
    },
    {
     "data": {
      "text/plain": [
       "<keras.callbacks.History at 0x213668049a0>"
      ]
     },
     "execution_count": 27,
     "metadata": {},
     "output_type": "execute_result"
    }
   ],
   "source": [
    "model = tuner.hypermodel.build(best_hps)\n",
    "model.fit(X_train, y_train, epochs=5, \\\n",
    "              validation_data=(X_test, y_test))"
   ]
  },
  {
   "cell_type": "code",
   "execution_count": null,
   "id": "9576b44a",
   "metadata": {},
   "outputs": [],
   "source": []
  }
 ],
 "metadata": {
  "kernelspec": {
   "display_name": "Python 3",
   "language": "python",
   "name": "python3"
  },
  "language_info": {
   "codemirror_mode": {
    "name": "ipython",
    "version": 3
   },
   "file_extension": ".py",
   "mimetype": "text/x-python",
   "name": "python",
   "nbconvert_exporter": "python",
   "pygments_lexer": "ipython3",
   "version": "3.9.6"
  }
 },
 "nbformat": 4,
 "nbformat_minor": 5
}
