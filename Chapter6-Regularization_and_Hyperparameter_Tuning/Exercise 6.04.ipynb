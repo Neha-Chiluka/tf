{
 "cells": [
  {
   "cell_type": "code",
   "execution_count": 1,
   "id": "755288fb",
   "metadata": {},
   "outputs": [],
   "source": [
    "import pandas as pd"
   ]
  },
  {
   "cell_type": "code",
   "execution_count": 2,
   "id": "6622f531",
   "metadata": {},
   "outputs": [
    {
     "data": {
      "text/html": [
       "<div>\n",
       "<style scoped>\n",
       "    .dataframe tbody tr th:only-of-type {\n",
       "        vertical-align: middle;\n",
       "    }\n",
       "\n",
       "    .dataframe tbody tr th {\n",
       "        vertical-align: top;\n",
       "    }\n",
       "\n",
       "    .dataframe thead th {\n",
       "        text-align: right;\n",
       "    }\n",
       "</style>\n",
       "<table border=\"1\" class=\"dataframe\">\n",
       "  <thead>\n",
       "    <tr style=\"text-align: right;\">\n",
       "      <th></th>\n",
       "      <th>0</th>\n",
       "      <th>1</th>\n",
       "      <th>2</th>\n",
       "      <th>3</th>\n",
       "      <th>4</th>\n",
       "      <th>5</th>\n",
       "      <th>6</th>\n",
       "      <th>7</th>\n",
       "      <th>8</th>\n",
       "      <th>9</th>\n",
       "    </tr>\n",
       "  </thead>\n",
       "  <tbody>\n",
       "    <tr>\n",
       "      <th>0</th>\n",
       "      <td>50</td>\n",
       "      <td>21</td>\n",
       "      <td>77</td>\n",
       "      <td>0</td>\n",
       "      <td>28</td>\n",
       "      <td>0</td>\n",
       "      <td>27</td>\n",
       "      <td>48</td>\n",
       "      <td>22</td>\n",
       "      <td>2</td>\n",
       "    </tr>\n",
       "    <tr>\n",
       "      <th>1</th>\n",
       "      <td>55</td>\n",
       "      <td>0</td>\n",
       "      <td>92</td>\n",
       "      <td>0</td>\n",
       "      <td>0</td>\n",
       "      <td>26</td>\n",
       "      <td>36</td>\n",
       "      <td>92</td>\n",
       "      <td>56</td>\n",
       "      <td>4</td>\n",
       "    </tr>\n",
       "    <tr>\n",
       "      <th>2</th>\n",
       "      <td>53</td>\n",
       "      <td>0</td>\n",
       "      <td>82</td>\n",
       "      <td>0</td>\n",
       "      <td>52</td>\n",
       "      <td>-5</td>\n",
       "      <td>29</td>\n",
       "      <td>30</td>\n",
       "      <td>2</td>\n",
       "      <td>1</td>\n",
       "    </tr>\n",
       "    <tr>\n",
       "      <th>3</th>\n",
       "      <td>37</td>\n",
       "      <td>0</td>\n",
       "      <td>76</td>\n",
       "      <td>0</td>\n",
       "      <td>28</td>\n",
       "      <td>18</td>\n",
       "      <td>40</td>\n",
       "      <td>48</td>\n",
       "      <td>8</td>\n",
       "      <td>1</td>\n",
       "    </tr>\n",
       "    <tr>\n",
       "      <th>4</th>\n",
       "      <td>37</td>\n",
       "      <td>0</td>\n",
       "      <td>79</td>\n",
       "      <td>0</td>\n",
       "      <td>34</td>\n",
       "      <td>-26</td>\n",
       "      <td>43</td>\n",
       "      <td>46</td>\n",
       "      <td>2</td>\n",
       "      <td>1</td>\n",
       "    </tr>\n",
       "  </tbody>\n",
       "</table>\n",
       "</div>"
      ],
      "text/plain": [
       "    0   1   2  3   4   5   6   7   8  9\n",
       "0  50  21  77  0  28   0  27  48  22  2\n",
       "1  55   0  92  0   0  26  36  92  56  4\n",
       "2  53   0  82  0  52  -5  29  30   2  1\n",
       "3  37   0  76  0  28  18  40  48   8  1\n",
       "4  37   0  79  0  34 -26  43  46   2  1"
      ]
     },
     "execution_count": 2,
     "metadata": {},
     "output_type": "execute_result"
    }
   ],
   "source": [
    "data_url = \"https://raw.githubusercontent.com/fenago/tf/main/Chapter6-Regularization_and_Hyperparameter_Tuning/dataset/shuttle.trn\"\n",
    "\n",
    "data = pd.read_table(data_url, header=None, sep=' ')\n",
    "data.head()"
   ]
  },
  {
   "cell_type": "code",
   "execution_count": 3,
   "id": "7bc9dc64",
   "metadata": {},
   "outputs": [],
   "source": [
    "y = data.pop(9)\n",
    "X = data.copy()"
   ]
  },
  {
   "cell_type": "code",
   "execution_count": 4,
   "id": "6e86106e",
   "metadata": {},
   "outputs": [],
   "source": [
    "from sklearn.model_selection import train_test_split"
   ]
  },
  {
   "cell_type": "code",
   "execution_count": 5,
   "id": "7da1b657",
   "metadata": {},
   "outputs": [],
   "source": [
    "X_train, X_test, y_train, y_test = train_test_split(X, y, test_size=0.30, stratify=y)"
   ]
  },
  {
   "cell_type": "code",
   "execution_count": 7,
   "id": "12c487a8",
   "metadata": {},
   "outputs": [],
   "source": [
    "import keras_tuner as kt"
   ]
  },
  {
   "cell_type": "code",
   "execution_count": 6,
   "id": "e951e3fb",
   "metadata": {},
   "outputs": [],
   "source": [
    "import tensorflow as tf\n",
    "from tensorflow.keras.layers import Dense"
   ]
  },
  {
   "cell_type": "code",
   "execution_count": 8,
   "id": "6b2a3606",
   "metadata": {},
   "outputs": [],
   "source": [
    "tf.random.set_seed(8)"
   ]
  },
  {
   "cell_type": "code",
   "execution_count": 9,
   "id": "415f020f",
   "metadata": {},
   "outputs": [],
   "source": [
    "def model_builder(hp):\n",
    "        model = tf.keras.Sequential()\n",
    "        hp_units = hp.Int('units', min_value=128, max_value=512, \\\n",
    "                          step=64)\n",
    "        reg_fc1 = Dense(hp_units, input_shape=(9,), \\\n",
    "                        activation='relu', \\\n",
    "                        kernel_regularizer=tf.keras.regularizers\\\n",
    "                                             .l2(l=0.0001))\n",
    "        reg_fc2 = Dense(512, activation='relu', \\\n",
    "                        kernel_regularizer=tf.keras.regularizers\\\n",
    "                                             .l2(l=0.0001))\n",
    "        reg_fc3 = Dense(128, activation='relu', \\\n",
    "                        kernel_regularizer=tf.keras.regularizers\\\n",
    "                                             .l2(l=0.0001))\n",
    "        reg_fc4 = Dense(128, activation='relu', \\\n",
    "                        kernel_regularizer=tf.keras.regularizers\\\n",
    "                                             .l2(l=0.0001))\n",
    "        reg_fc5 = Dense(8, activation='softmax')\n",
    "        model.add(reg_fc1)\n",
    "        model.add(reg_fc2)\n",
    "        model.add(reg_fc3)\n",
    "        model.add(reg_fc4)\n",
    "        model.add(reg_fc5)\n",
    "        loss = tf.keras.losses.SparseCategoricalCrossentropy()\n",
    "        hp_learning_rate = hp.Choice('learning_rate', \\\n",
    "                                     values = [0.01, 0.001, 0.0001])\n",
    "        optimizer = tf.keras.optimizers.Adam(hp_learning_rate)\n",
    "        model.compile(optimizer = optimizer, loss = loss, \\\n",
    "                      metrics = ['accuracy'])\n",
    "        return model"
   ]
  },
  {
   "cell_type": "code",
   "execution_count": 11,
   "id": "add8a0fe",
   "metadata": {},
   "outputs": [],
   "source": [
    "tuner = kt.Hyperband(model_builder, objective='val_accuracy', \\\n",
    "                            max_epochs=5, overwrite=True)"
   ]
  },
  {
   "cell_type": "code",
   "execution_count": 12,
   "id": "a9ccda8b",
   "metadata": {},
   "outputs": [
    {
     "name": "stdout",
     "output_type": "stream",
     "text": [
      "Trial 10 Complete [00h 00m 13s]\n",
      "val_accuracy: 0.9973946213722229\n",
      "\n",
      "Best val_accuracy So Far: 0.9973946213722229\n",
      "Total elapsed time: 00h 01m 24s\n",
      "INFO:tensorflow:Oracle triggered exit\n"
     ]
    }
   ],
   "source": [
    "tuner.search(X_train, y_train, validation_data=(X_test, y_test))"
   ]
  },
  {
   "cell_type": "code",
   "execution_count": 13,
   "id": "5e7ebb33",
   "metadata": {},
   "outputs": [],
   "source": [
    "best_hps = tuner.get_best_hyperparameters()[0]"
   ]
  },
  {
   "cell_type": "code",
   "execution_count": 14,
   "id": "8595d3b1",
   "metadata": {},
   "outputs": [
    {
     "data": {
      "text/plain": [
       "256"
      ]
     },
     "execution_count": 14,
     "metadata": {},
     "output_type": "execute_result"
    }
   ],
   "source": [
    "best_units = best_hps.get('units')\n",
    "best_units"
   ]
  },
  {
   "cell_type": "code",
   "execution_count": 15,
   "id": "b506d425",
   "metadata": {},
   "outputs": [
    {
     "data": {
      "text/plain": [
       "0.001"
      ]
     },
     "execution_count": 15,
     "metadata": {},
     "output_type": "execute_result"
    }
   ],
   "source": [
    "best_lr = best_hps.get('learning_rate')\n",
    "best_lr"
   ]
  },
  {
   "cell_type": "code",
   "execution_count": 19,
   "id": "325d5874",
   "metadata": {},
   "outputs": [
    {
     "name": "stdout",
     "output_type": "stream",
     "text": [
      "Epoch 1/5\n",
      "952/952 [==============================] - 3s 3ms/step - loss: 0.4206 - accuracy: 0.9781 - val_loss: 0.5081 - val_accuracy: 0.9800\n",
      "Epoch 2/5\n",
      "952/952 [==============================] - 3s 3ms/step - loss: 0.2781 - accuracy: 0.9913 - val_loss: 0.2035 - val_accuracy: 0.9959\n",
      "Epoch 3/5\n",
      "952/952 [==============================] - 2s 3ms/step - loss: 0.1463 - accuracy: 0.9956 - val_loss: 0.0727 - val_accuracy: 0.9969\n",
      "Epoch 4/5\n",
      "952/952 [==============================] - 2s 2ms/step - loss: 0.0804 - accuracy: 0.9968 - val_loss: 0.0880 - val_accuracy: 0.9970\n",
      "Epoch 5/5\n",
      "952/952 [==============================] - 2s 3ms/step - loss: 0.0876 - accuracy: 0.9939 - val_loss: 0.0522 - val_accuracy: 0.9967\n"
     ]
    },
    {
     "data": {
      "text/plain": [
       "<keras.callbacks.History at 0x19d1dbef520>"
      ]
     },
     "execution_count": 19,
     "metadata": {},
     "output_type": "execute_result"
    }
   ],
   "source": [
    "model = tuner.hypermodel.build(best_hps)\n",
    "model.fit(X_train, y_train, epochs=5, \\\n",
    "              validation_data=(X_test, y_test))"
   ]
  },
  {
   "cell_type": "code",
   "execution_count": null,
   "id": "9576b44a",
   "metadata": {},
   "outputs": [],
   "source": []
  }
 ],
 "metadata": {
  "kernelspec": {
   "display_name": "Python 3",
   "language": "python",
   "name": "python3"
  },
  "language_info": {
   "codemirror_mode": {
    "name": "ipython",
    "version": 3
   },
   "file_extension": ".py",
   "mimetype": "text/x-python",
   "name": "python",
   "nbconvert_exporter": "python",
   "pygments_lexer": "ipython3",
   "version": "3.9.6"
  }
 },
 "nbformat": 4,
 "nbformat_minor": 5
}
