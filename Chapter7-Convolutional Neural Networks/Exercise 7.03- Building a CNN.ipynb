{
 "cells": [
  {
   "cell_type": "code",
   "execution_count": 12,
   "id": "3f45fd56",
   "metadata": {},
   "outputs": [],
   "source": [
    "import os\n",
    "import matplotlib.pyplot\n",
    "import tensorflow as tf\n",
    "from tensorflow import keras\n",
    "from tensorflow.keras import layers\n",
    "import tensorflow_datasets as tfds\n",
    "from tensorflow.keras.layers import Input, Conv2D, Dense, Flatten, \\\n",
    "    Dropout, GlobalMaxPooling2D, Activation, Rescaling\n",
    "\n",
    "physical_devices = tf.config.list_physical_devices(\"GPU\")\n",
    "tf.config.experimental.set_memory_growth(physical_devices[0], True)"
   ]
  },
  {
   "cell_type": "code",
   "execution_count": 3,
   "id": "826c769f",
   "metadata": {},
   "outputs": [],
   "source": [
    "(ds_train, ds_test), ds_info = tfds.load(\n",
    "    \"mnist\",\n",
    "    split=[\"train\", \"test\"],\n",
    "    shuffle_files=True,\n",
    "    as_supervised=True,  # will return tuple (img, label) otherwise dict\n",
    "    with_info=True,  # able to get info about dataset\n",
    ")"
   ]
  },
  {
   "cell_type": "code",
   "execution_count": 10,
   "id": "94fa2c48",
   "metadata": {},
   "outputs": [
    {
     "name": "stdout",
     "output_type": "stream",
     "text": [
      "Shape of Images in the Dataset: \t(28, 28, 1)\n",
      "Number of Classes in the Dataset: \t10\n",
      "Names of Classes in the Dataset: \t['0', '1', '2', '3', '4', '5', '6', '7', '8', '9']\n",
      "\n",
      "Label for class           \"0\":  \t\t0\n",
      "Label for class           \"1\":  \t\t1\n",
      "Label for class           \"2\":  \t\t2\n",
      "Label for class           \"3\":  \t\t3\n",
      "Label for class           \"4\":  \t\t4\n",
      "Label for class           \"5\":  \t\t5\n",
      "Label for class           \"6\":  \t\t6\n",
      "Label for class           \"7\":  \t\t7\n",
      "Label for class           \"8\":  \t\t8\n",
      "Label for class           \"9\":  \t\t9\n"
     ]
    }
   ],
   "source": [
    "image_shape = ds_info.features[\"image\"].shape\n",
    "print(f'Shape of Images in the Dataset: \\t{image_shape}')\n",
    "\n",
    "num_classes = ds_info.features[\"label\"].num_classes\n",
    "print(f'Number of Classes in the Dataset: \\t{num_classes}')\n",
    "\n",
    "names_of_classes = ds_info.features[\"label\"].names\n",
    "print(f'Names of Classes in the Dataset: \\t{names_of_classes}\\n')\n",
    "\n",
    "for name in names_of_classes:\n",
    "    print(f'Label for class \\\n",
    "          \"{name}\":  \\t\\t{ds_info.features[\"label\"].str2int(name)}')"
   ]
  },
  {
   "cell_type": "code",
   "execution_count": 11,
   "id": "9f9f7f13",
   "metadata": {},
   "outputs": [
    {
     "name": "stdout",
     "output_type": "stream",
     "text": [
      "Total examples in Train Dataset:       \t60000\n",
      "Total examples in Test Dataset:       \t10000\n"
     ]
    }
   ],
   "source": [
    "print(f'Total examples in Train Dataset: \\\n",
    "      \\t{len(ds_train)}')\n",
    "print(f'Total examples in Test Dataset: \\\n",
    "      \\t{len(ds_test)}')"
   ]
  },
  {
   "cell_type": "code",
   "execution_count": 13,
   "id": "1c7026d1",
   "metadata": {},
   "outputs": [],
   "source": [
    "def normalize_img(image, label):\n",
    "    \"\"\"Normalizes images\"\"\"\n",
    "    return tf.cast(image, tf.float32) / 255.0, label"
   ]
  },
  {
   "cell_type": "code",
   "execution_count": 14,
   "id": "dd9eb52a",
   "metadata": {},
   "outputs": [],
   "source": [
    "AUTOTUNE = tf.data.experimental.AUTOTUNE\n",
    "BATCH_SIZE = 128"
   ]
  },
  {
   "cell_type": "code",
   "execution_count": 15,
   "id": "5e385479",
   "metadata": {},
   "outputs": [],
   "source": [
    "# Setup for train dataset\n",
    "ds_train = ds_train.map(normalize_img, num_parallel_calls=AUTOTUNE)\n",
    "ds_train = ds_train.cache()\n",
    "ds_train = ds_train.shuffle(ds_info.splits[\"train\"].num_examples)\n",
    "ds_train = ds_train.batch(BATCH_SIZE)\n",
    "ds_train = ds_train.prefetch(AUTOTUNE)"
   ]
  },
  {
   "cell_type": "code",
   "execution_count": 16,
   "id": "1f4cd4d9",
   "metadata": {},
   "outputs": [],
   "source": [
    "# Setup for test Dataset\n",
    "ds_test = ds_train.map(normalize_img, num_parallel_calls=AUTOTUNE)\n",
    "ds_test = ds_train.batch(128)\n",
    "ds_test = ds_train.prefetch(AUTOTUNE)"
   ]
  },
  {
   "cell_type": "code",
   "execution_count": 18,
   "id": "aa5bb8d4",
   "metadata": {},
   "outputs": [],
   "source": [
    "model = keras.Sequential(\n",
    "    [\n",
    "        keras.Input((28, 28, 1)),\n",
    "        layers.Conv2D(32, 3, activation=\"relu\", strides=2),\n",
    "        layers.Conv2D(64, 3, activation='relu', strides=2),\n",
    "        layers.Flatten(),\n",
    "        Dropout(rate=0.2),\n",
    "        layers.Dense(512, activation=\"relu\"),\n",
    "        Dropout(rate=0.2),\n",
    "        tf.keras.layers.Dense(10, activation=\"softmax\"),\n",
    "    ]\n",
    ")"
   ]
  },
  {
   "cell_type": "code",
   "execution_count": 19,
   "id": "ce8e1ff5",
   "metadata": {},
   "outputs": [],
   "source": [
    "model.compile(\n",
    "    optimizer=keras.optimizers.Adam(0.001),\n",
    "    loss=keras.losses.SparseCategoricalCrossentropy(),\n",
    "    metrics=[\"accuracy\"],\n",
    ")"
   ]
  },
  {
   "cell_type": "code",
   "execution_count": 20,
   "id": "24be3bbc",
   "metadata": {},
   "outputs": [
    {
     "name": "stdout",
     "output_type": "stream",
     "text": [
      "Epoch 1/15\n",
      "469/469 - 15s - loss: 0.2268 - accuracy: 0.9324 - val_loss: 0.0642 - val_accuracy: 0.9808 - 15s/epoch - 33ms/step\n",
      "Epoch 2/15\n",
      "469/469 - 1s - loss: 0.0691 - accuracy: 0.9786 - val_loss: 0.0354 - val_accuracy: 0.9894 - 1s/epoch - 3ms/step\n",
      "Epoch 3/15\n",
      "469/469 - 1s - loss: 0.0482 - accuracy: 0.9851 - val_loss: 0.0222 - val_accuracy: 0.9931 - 1s/epoch - 3ms/step\n",
      "Epoch 4/15\n",
      "469/469 - 2s - loss: 0.0356 - accuracy: 0.9885 - val_loss: 0.0158 - val_accuracy: 0.9954 - 2s/epoch - 3ms/step\n",
      "Epoch 5/15\n",
      "469/469 - 2s - loss: 0.0278 - accuracy: 0.9912 - val_loss: 0.0133 - val_accuracy: 0.9966 - 2s/epoch - 4ms/step\n",
      "Epoch 6/15\n",
      "469/469 - 2s - loss: 0.0232 - accuracy: 0.9921 - val_loss: 0.0104 - val_accuracy: 0.9969 - 2s/epoch - 4ms/step\n",
      "Epoch 7/15\n",
      "469/469 - 1s - loss: 0.0196 - accuracy: 0.9934 - val_loss: 0.0079 - val_accuracy: 0.9978 - 1s/epoch - 3ms/step\n",
      "Epoch 8/15\n",
      "469/469 - 1s - loss: 0.0172 - accuracy: 0.9942 - val_loss: 0.0073 - val_accuracy: 0.9978 - 1s/epoch - 3ms/step\n",
      "Epoch 9/15\n",
      "469/469 - 2s - loss: 0.0140 - accuracy: 0.9951 - val_loss: 0.0052 - val_accuracy: 0.9984 - 2s/epoch - 3ms/step\n",
      "Epoch 10/15\n",
      "469/469 - 2s - loss: 0.0140 - accuracy: 0.9952 - val_loss: 0.0038 - val_accuracy: 0.9990 - 2s/epoch - 4ms/step\n",
      "Epoch 11/15\n",
      "469/469 - 2s - loss: 0.0127 - accuracy: 0.9958 - val_loss: 0.0033 - val_accuracy: 0.9991 - 2s/epoch - 3ms/step\n",
      "Epoch 12/15\n",
      "469/469 - 2s - loss: 0.0108 - accuracy: 0.9962 - val_loss: 0.0038 - val_accuracy: 0.9990 - 2s/epoch - 4ms/step\n",
      "Epoch 13/15\n",
      "469/469 - 2s - loss: 0.0096 - accuracy: 0.9965 - val_loss: 0.0020 - val_accuracy: 0.9995 - 2s/epoch - 4ms/step\n",
      "Epoch 14/15\n",
      "469/469 - 2s - loss: 0.0101 - accuracy: 0.9967 - val_loss: 0.0027 - val_accuracy: 0.9992 - 2s/epoch - 3ms/step\n",
      "Epoch 15/15\n",
      "469/469 - 1s - loss: 0.0090 - accuracy: 0.9968 - val_loss: 0.0024 - val_accuracy: 0.9993 - 1s/epoch - 3ms/step\n"
     ]
    }
   ],
   "source": [
    "history = model.fit(ds_train, validation_data=ds_test, epochs=15, verbose=2)"
   ]
  },
  {
   "cell_type": "code",
   "execution_count": 24,
   "id": "bf7d5375",
   "metadata": {},
   "outputs": [
    {
     "data": {
      "image/png": "[encoded data removed]",
      "text/plain": [
       "<Figure size 432x288 with 1 Axes>"
      ]
     },
     "metadata": {
      "needs_background": "light"
     },
     "output_type": "display_data"
    },
    {
     "data": {
      "text/plain": [
       "<Figure size 432x288 with 0 Axes>"
      ]
     },
     "metadata": {},
     "output_type": "display_data"
    }
   ],
   "source": [
    "import matplotlib.pyplot as plt\n",
    "\n",
    "def plot_trend_by_epoch(tr_values, val_values, title):\n",
    "        epoch_number = range(len(tr_values))\n",
    "        plt.plot(epoch_number, tr_values, 'r')\n",
    "        plt.plot(epoch_number, val_values, 'b')\n",
    "        plt.title(title)\n",
    "        plt.xlabel('epochs')\n",
    "        plt.legend(['Training '+title, 'Validation '+title])\n",
    "        plt.figure()\n",
    "hist_dict = history.history\n",
    "tr_accuracy, val_accuracy = hist_dict['accuracy'], \\\n",
    "                                hist_dict['val_accuracy']\n",
    "plot_trend_by_epoch(tr_accuracy, val_accuracy, \"Accuracy\")"
   ]
  },
  {
   "cell_type": "code",
   "execution_count": 25,
   "id": "2736062a",
   "metadata": {},
   "outputs": [
    {
     "data": {
      "image/png": "[encoded data removed]",
      "text/plain": [
       "<Figure size 432x288 with 1 Axes>"
      ]
     },
     "metadata": {
      "needs_background": "light"
     },
     "output_type": "display_data"
    },
    {
     "data": {
      "text/plain": [
       "<Figure size 432x288 with 0 Axes>"
      ]
     },
     "metadata": {},
     "output_type": "display_data"
    }
   ],
   "source": [
    "tr_loss, val_loss = hist_dict['loss'], hist_dict['val_loss']\n",
    "plot_trend_by_epoch(tr_loss, val_loss, \"Loss\")"
   ]
  },
  {
   "cell_type": "code",
   "execution_count": null,
   "id": "af3ddeba",
   "metadata": {},
   "outputs": [],
   "source": []
  },
  {
   "cell_type": "code",
   "execution_count": null,
   "id": "206d7b1a",
   "metadata": {},
   "outputs": [],
   "source": []
  },
  {
   "cell_type": "code",
   "execution_count": null,
   "id": "0a903cfa",
   "metadata": {},
   "outputs": [],
   "source": []
  },
  {
   "cell_type": "code",
   "execution_count": null,
   "id": "52a36bb0",
   "metadata": {},
   "outputs": [],
   "source": []
  },
  {
   "cell_type": "code",
   "execution_count": null,
   "id": "6588e094",
   "metadata": {},
   "outputs": [],
   "source": []
  }
 ],
 "metadata": {
  "kernelspec": {
   "display_name": "Python 3",
   "language": "python",
   "name": "python3"
  },
  "language_info": {
   "codemirror_mode": {
    "name": "ipython",
    "version": 3
   },
   "file_extension": ".py",
   "mimetype": "text/x-python",
   "name": "python",
   "nbconvert_exporter": "python",
   "pygments_lexer": "ipython3",
   "version": "3.9.6"
  }
 },
 "nbformat": 4,
 "nbformat_minor": 5
}
