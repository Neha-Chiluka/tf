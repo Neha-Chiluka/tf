{
 "cells": [
  {
   "cell_type": "code",
   "execution_count": 1,
   "id": "aa1e382e",
   "metadata": {},
   "outputs": [],
   "source": [
    "import tensorflow as tf\n",
    "from tensorflow.keras import models, layers"
   ]
  },
  {
   "cell_type": "code",
   "execution_count": 2,
   "id": "ae98336f",
   "metadata": {},
   "outputs": [
    {
     "name": "stdout",
     "output_type": "stream",
     "text": [
      "2.7.0-dev20210801\n"
     ]
    }
   ],
   "source": [
    "print(tf.__version__)"
   ]
  },
  {
   "cell_type": "code",
   "execution_count": 4,
   "id": "22e7acb6",
   "metadata": {},
   "outputs": [],
   "source": [
    "image_shape = (300, 300, 3)\n",
    "our_first_layer = models.Sequential([layers.Conv2D\\\n",
    "                                        (filters = 16, \\\n",
    "                                        kernel_size = (3,3), \\\n",
    "                                        input_shape = image_shape), \\\n",
    "                                        layers.Activation('relu')])"
   ]
  },
  {
   "cell_type": "code",
   "execution_count": null,
   "id": "6f061522",
   "metadata": {},
   "outputs": [],
   "source": []
  }
 ],
 "metadata": {
  "kernelspec": {
   "display_name": "Python 3",
   "language": "python",
   "name": "python3"
  },
  "language_info": {
   "codemirror_mode": {
    "name": "ipython",
    "version": 3
   },
   "file_extension": ".py",
   "mimetype": "text/x-python",
   "name": "python",
   "nbconvert_exporter": "python",
   "pygments_lexer": "ipython3",
   "version": "3.9.6"
  }
 },
 "nbformat": 4,
 "nbformat_minor": 5
}
