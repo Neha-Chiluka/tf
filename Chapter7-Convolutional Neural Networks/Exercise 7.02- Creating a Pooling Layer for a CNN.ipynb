{
 "cells": [
  {
   "cell_type": "code",
   "execution_count": 1,
   "id": "a314b10e",
   "metadata": {},
   "outputs": [],
   "source": [
    "import tensorflow as tf\n",
    "from tensorflow.keras import models, layers"
   ]
  },
  {
   "cell_type": "code",
   "execution_count": 2,
   "id": "3d69532d",
   "metadata": {},
   "outputs": [],
   "source": [
    "image_shape = (300, 300, 3)\n",
    "our_first_model = models.Sequential([\n",
    "        layers.Conv2D(filters = 16, kernel_size = (3,3), \\\n",
    "                      input_shape = image_shape), \\\n",
    "        layers.Activation('relu')])"
   ]
  },
  {
   "cell_type": "code",
   "execution_count": 4,
   "id": "37059032",
   "metadata": {},
   "outputs": [],
   "source": [
    "our_first_model.add(layers.MaxPool2D(pool_size = (2, 2)))"
   ]
  },
  {
   "cell_type": "code",
   "execution_count": null,
   "id": "5cae5a31",
   "metadata": {},
   "outputs": [],
   "source": []
  }
 ],
 "metadata": {
  "kernelspec": {
   "display_name": "Python 3",
   "language": "python",
   "name": "python3"
  },
  "language_info": {
   "codemirror_mode": {
    "name": "ipython",
    "version": 3
   },
   "file_extension": ".py",
   "mimetype": "text/x-python",
   "name": "python",
   "nbconvert_exporter": "python",
   "pygments_lexer": "ipython3",
   "version": "3.9.6"
  }
 },
 "nbformat": 4,
 "nbformat_minor": 5
}
