{
 "cells": [
  {
   "cell_type": "code",
   "execution_count": null,
   "id": "df9e423a",
   "metadata": {},
   "outputs": [],
   "source": [
    "import tensorflow as tf"
   ]
  },
  {
   "cell_type": "code",
   "execution_count": null,
   "id": "ddc54adf",
   "metadata": {},
   "outputs": [],
   "source": [
    "file_url = 'https://storage.googleapis.com/ztm_tf_course/food_vision/pizza_steak.zip'"
   ]
  },
  {
   "cell_type": "code",
   "execution_count": null,
   "id": "aebef3ec",
   "metadata": {},
   "outputs": [],
   "source": [
    "zip_dir = tf.keras.utils.get_file('pizza_and_streak.zip', origin=file_url, extract=True)"
   ]
  },
  {
   "cell_type": "code",
   "execution_count": null,
   "id": "cf1c1646",
   "metadata": {},
   "outputs": [],
   "source": [
    "import pathlib"
   ]
  },
  {
   "cell_type": "code",
   "execution_count": null,
   "id": "867216a3",
   "metadata": {},
   "outputs": [],
   "source": [
    "path = pathlib.Path(zip_dir).parent / 'pizza_steak'"
   ]
  },
  {
   "cell_type": "code",
   "execution_count": null,
   "id": "d875091d",
   "metadata": {},
   "outputs": [],
   "source": [
    "train_dir = path / 'train'\n",
    "validation_dir = path / 'test'"
   ]
  },
  {
   "cell_type": "code",
   "execution_count": null,
   "id": "324a5789",
   "metadata": {},
   "outputs": [],
   "source": [
    "train_dir"
   ]
  },
  {
   "cell_type": "code",
   "execution_count": null,
   "id": "55236597",
   "metadata": {},
   "outputs": [],
   "source": [
    "train_pizza_dir = train_dir / 'pizza'\n",
    "train_steak_dir = train_dir /'steak'\n",
    "validation_pizza_dir = validation_dir / 'pizza'\n",
    "validation_steak_dir = validation_dir / 'steak'"
   ]
  },
  {
   "cell_type": "code",
   "execution_count": null,
   "id": "a60c8d33",
   "metadata": {},
   "outputs": [],
   "source": [
    "import os"
   ]
  },
  {
   "cell_type": "code",
   "execution_count": null,
   "id": "5e39a170",
   "metadata": {},
   "outputs": [],
   "source": [
    "total_train = len(os.listdir(train_pizza_dir)) + len(os.listdir(train_steak_dir))\n",
    "total_val = len(os.listdir(validation_pizza_dir)) + len(os.listdir(validation_steak_dir))"
   ]
  },
  {
   "cell_type": "code",
   "execution_count": null,
   "id": "39fc39f3",
   "metadata": {},
   "outputs": [],
   "source": [
    "from tensorflow.keras.preprocessing.image import ImageDataGenerator"
   ]
  },
  {
   "cell_type": "code",
   "execution_count": null,
   "id": "1ab8e392",
   "metadata": {},
   "outputs": [],
   "source": [
    "train_image_generator = ImageDataGenerator(rescale=1./255)\n",
    "validation_image_generator = ImageDataGenerator(rescale=1./255)"
   ]
  },
  {
   "cell_type": "code",
   "execution_count": null,
   "id": "9aa781ba",
   "metadata": {},
   "outputs": [],
   "source": [
    "batch_size = 16\n",
    "img_height = 224\n",
    "img_width = 224"
   ]
  },
  {
   "cell_type": "code",
   "execution_count": null,
   "id": "11ff51d3",
   "metadata": {},
   "outputs": [],
   "source": [
    "train_data_gen = train_image_generator.flow_from_directory(batch_size = batch_size,\n",
    "                                                           directory = train_dir,\n",
    "                                                           shuffle=True, \n",
    "                                                           target_size = (img_height, img_width),\n",
    "                                                           class_mode='binary')"
   ]
  },
  {
   "cell_type": "code",
   "execution_count": null,
   "id": "358dc3c8",
   "metadata": {},
   "outputs": [],
   "source": [
    "val_data_gen = validation_image_generator.flow_from_directory(batch_size = batch_size,\n",
    "                                                              directory = validation_dir,\n",
    "                                                              target_size=(img_height, img_width),\n",
    "                                                              class_mode='binary')"
   ]
  },
  {
   "cell_type": "code",
   "execution_count": null,
   "id": "409dd91c",
   "metadata": {},
   "outputs": [],
   "source": [
    "import numpy as np\n",
    "import tensorflow as tf\n",
    "from tensorflow.keras import layers"
   ]
  },
  {
   "cell_type": "code",
   "execution_count": null,
   "id": "480a7f1c",
   "metadata": {},
   "outputs": [],
   "source": [
    "np.random.seed(8)\n",
    "tf.random.set_seed(8)"
   ]
  },
  {
   "cell_type": "code",
   "execution_count": null,
   "id": "318b7200",
   "metadata": {},
   "outputs": [],
   "source": [
    "import tensorflow_hub as hub"
   ]
  },
  {
   "cell_type": "code",
   "execution_count": null,
   "id": "b8536e2e",
   "metadata": {},
   "outputs": [],
   "source": [
    "MODULE_HANDLE = 'https://tfhub.dev/google/efficientnet/b0/feature-vector/1'\n",
    "module = hub.load(MODULE_HANDLE)"
   ]
  },
  {
   "cell_type": "code",
   "execution_count": null,
   "id": "201dbd41",
   "metadata": {},
   "outputs": [],
   "source": [
    "model = tf.keras.Sequential([hub.KerasLayer(MODULE_HANDLE,input_shape=(224, 224, 3)),\n",
    "                             layers.Dense(500, activation='relu'),\n",
    "                             layers.Dense(1, activation='sigmoid')])"
   ]
  },
  {
   "cell_type": "code",
   "execution_count": null,
   "id": "7abde0ba",
   "metadata": {},
   "outputs": [],
   "source": [
    "model.compile(loss='binary_crossentropy',\n",
    "              optimizer=tf.keras.optimizers.Adam(0.001),\n",
    "              metrics=['accuracy'])"
   ]
  },
  {
   "cell_type": "code",
   "execution_count": null,
   "id": "72ad5754",
   "metadata": {},
   "outputs": [],
   "source": [
    "model.fit(train_data_gen,\n",
    "          steps_per_epoch = total_train // batch_size,\n",
    "          epochs=5,\n",
    "          validation_data=val_data_gen, \n",
    "          validation_steps=total_val // batch_size)"
   ]
  }
 ],
 "metadata": {
  "kernelspec": {
   "display_name": "Python 3",
   "language": "python",
   "name": "python3"
  },
  "language_info": {
   "codemirror_mode": {
    "name": "ipython",
    "version": 3
   },
   "file_extension": ".py",
   "mimetype": "text/x-python",
   "name": "python",
   "nbconvert_exporter": "python",
   "pygments_lexer": "ipython3",
   "version": "3.9.6"
  }
 },
 "nbformat": 4,
 "nbformat_minor": 5
}
