{
 "cells": [
  {
   "cell_type": "code",
   "execution_count": null,
   "id": "9b584552",
   "metadata": {},
   "outputs": [],
   "source": [
    "import tensorflow as tf"
   ]
  },
  {
   "cell_type": "code",
   "execution_count": null,
   "id": "4335bace",
   "metadata": {},
   "outputs": [],
   "source": [
    "file_url = \"https://storage.googleapis.com/ztm_tf_course/food_vision/10_food_classes_all_data.zip\""
   ]
  },
  {
   "cell_type": "code",
   "execution_count": null,
   "id": "e173d8d5",
   "metadata": {},
   "outputs": [],
   "source": [
    "zip_dir = tf.keras.utils.get_file('food10.zip', origin=file_url, extract=True)"
   ]
  },
  {
   "cell_type": "code",
   "execution_count": null,
   "id": "207b52ed",
   "metadata": {},
   "outputs": [],
   "source": [
    "import pathlib"
   ]
  },
  {
   "cell_type": "code",
   "execution_count": null,
   "id": "2226af7f",
   "metadata": {},
   "outputs": [],
   "source": [
    "path = pathlib.Path(zip_dir).parent / '10_food_classes_all_data'"
   ]
  },
  {
   "cell_type": "code",
   "execution_count": null,
   "id": "d150db9c",
   "metadata": {},
   "outputs": [],
   "source": [
    "train_dir = path / 'train'\n",
    "validation_dir = path / 'test'"
   ]
  },
  {
   "cell_type": "code",
   "execution_count": null,
   "id": "acf8f98e",
   "metadata": {},
   "outputs": [],
   "source": [
    "train_chicken_curry_dir = train_dir / 'chicken_curry'\n",
    "train_chicken_wings_dir = train_dir /'chicken_wings'\n",
    "train_fried_rice_dir = train_dir /'fried_rice'\n",
    "train_grilled_salmon_dir = train_dir /'grilled_salmon'\n",
    "train_hamburger_dir = train_dir /'hamburger'\n",
    "train_ice_cream_dir = train_dir /'ice_cream'\n",
    "train_pizza_dir = train_dir /'pizza'\n",
    "train_ramen_dir = train_dir /'ramen'\n",
    "train_steak_dir = train_dir /'steak'\n",
    "train_sushi_dir = train_dir /'sushi'\n",
    "\n",
    "validation_chicken_curry_dir = validation_dir / 'chicken_curry'\n",
    "validation_chicken_wings_dir = validation_dir /'chicken_wings'\n",
    "validation_fried_rice_dir = validation_dir /'fried_rice'\n",
    "validation_grilled_salmon_dir = validation_dir /'grilled_salmon'\n",
    "validation_hamburger_dir = validation_dir /'hamburger'\n",
    "validation_ice_cream_dir = validation_dir /'ice_cream'\n",
    "validation_pizza_dir = validation_dir /'pizza'\n",
    "validation_ramen_dir = validation_dir /'ramen'\n",
    "validation_steak_dir = validation_dir /'steak'\n",
    "validation_sushi_dir = validation_dir /'sushi'"
   ]
  },
  {
   "cell_type": "code",
   "execution_count": null,
   "id": "17db4883",
   "metadata": {},
   "outputs": [],
   "source": [
    "total_train = 7500\n",
    "total_val = 2500"
   ]
  },
  {
   "cell_type": "code",
   "execution_count": null,
   "id": "044dd326",
   "metadata": {},
   "outputs": [],
   "source": [
    "from tensorflow.keras.preprocessing.image import ImageDataGenerator"
   ]
  },
  {
   "cell_type": "code",
   "execution_count": null,
   "id": "376fa726",
   "metadata": {},
   "outputs": [],
   "source": [
    "train_image_generator = ImageDataGenerator(rescale=1./255,\n",
    "                                          rotation_range=40,\n",
    "                                          width_shift_range=0.1,\n",
    "                                          height_shift_range=0.1,\n",
    "                                          shear_range=0.2,\n",
    "                                          zoom_range=0.2,\n",
    "                                          horizontal_flip=True,\n",
    "                                          fill_mode='nearest')\n",
    "validation_image_generator = ImageDataGenerator(rescale=1./255)"
   ]
  },
  {
   "cell_type": "code",
   "execution_count": null,
   "id": "cc8e2a67",
   "metadata": {},
   "outputs": [],
   "source": [
    "batch_size = 32\n",
    "img_height = 224\n",
    "img_width = 224\n",
    "channel = 3"
   ]
  },
  {
   "cell_type": "code",
   "execution_count": null,
   "id": "b6b5c28b",
   "metadata": {},
   "outputs": [],
   "source": [
    "train_data_gen = train_image_generator.flow_from_directory(\n",
    "    batch_size = batch_size,\n",
    "    directory = train_dir,\n",
    "    shuffle=True,\n",
    "    target_size = (img_height, img_width),\n",
    "    class_mode='categorical')"
   ]
  },
  {
   "cell_type": "code",
   "execution_count": null,
   "id": "fde315c4",
   "metadata": {},
   "outputs": [],
   "source": [
    "val_data_gen = validation_image_generator.flow_from_directory(batch_size = batch_size,\n",
    "                                                              directory = validation_dir,\n",
    "                                                              target_size=(img_height, img_width),\n",
    "                                                              class_mode='categorical')"
   ]
  },
  {
   "cell_type": "code",
   "execution_count": null,
   "id": "a4aaac94",
   "metadata": {},
   "outputs": [],
   "source": [
    "import numpy as np\n",
    "import tensorflow as tf\n",
    "from tensorflow.keras import layers"
   ]
  },
  {
   "cell_type": "code",
   "execution_count": null,
   "id": "c3aba664",
   "metadata": {},
   "outputs": [],
   "source": [
    "np.random.seed(8)\n",
    "tf.random.set_seed(8)"
   ]
  },
  {
   "cell_type": "code",
   "execution_count": null,
   "id": "1c8b090f",
   "metadata": {},
   "outputs": [],
   "source": [
    "from tensorflow.keras.applications import NASNetMobile"
   ]
  },
  {
   "cell_type": "code",
   "execution_count": null,
   "id": "6c6b68a4",
   "metadata": {},
   "outputs": [],
   "source": [
    "base_model = NASNetMobile(input_shape=(img_height, img_width, channel), \n",
    "                          weights='imagenet', include_top=False)"
   ]
  },
  {
   "cell_type": "code",
   "execution_count": null,
   "id": "259f6263",
   "metadata": {},
   "outputs": [],
   "source": [
    "base_model.summary()"
   ]
  },
  {
   "cell_type": "code",
   "execution_count": null,
   "id": "09fc07ba",
   "metadata": {},
   "outputs": [],
   "source": [
    "model = tf.keras.Sequential([base_model,layers.Flatten(),\n",
    "                             layers.Dense(1000, activation='relu'), \n",
    "                             layers.Dense(10,activation='softmax')])"
   ]
  },
  {
   "cell_type": "code",
   "execution_count": null,
   "id": "610d2eda",
   "metadata": {},
   "outputs": [],
   "source": [
    "optimizer = tf.keras.optimizers.Adam(0.001)"
   ]
  },
  {
   "cell_type": "code",
   "execution_count": null,
   "id": "3fabb8ee",
   "metadata": {},
   "outputs": [],
   "source": [
    "model.compile(loss='categorical_crossentropy',\n",
    "              optimizer=optimizer, metrics=['accuracy'])"
   ]
  },
  {
   "cell_type": "code",
   "execution_count": null,
   "id": "7f8b1054",
   "metadata": {},
   "outputs": [],
   "source": [
    "model.fit(train_data_gen,\n",
    "          steps_per_epoch=total_train // batch_size,\n",
    "          epochs=5,\n",
    "          validation_data=val_data_gen,\n",
    "          validation_steps=total_val // batch_size)"
   ]
  }
 ],
 "metadata": {
  "kernelspec": {
   "display_name": "Python 3",
   "language": "python",
   "name": "python3"
  },
  "language_info": {
   "codemirror_mode": {
    "name": "ipython",
    "version": 3
   },
   "file_extension": ".py",
   "mimetype": "text/x-python",
   "name": "python",
   "nbconvert_exporter": "python",
   "pygments_lexer": "ipython3",
   "version": "3.9.6"
  }
 },
 "nbformat": 4,
 "nbformat_minor": 5
}
