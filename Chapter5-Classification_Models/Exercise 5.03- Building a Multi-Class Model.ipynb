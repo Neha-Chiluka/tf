{
 "cells": [
  {
   "cell_type": "code",
   "execution_count": 1,
   "id": "03a762f3",
   "metadata": {},
   "outputs": [],
   "source": [
    "import pandas as pd\n",
    "from sklearn.model_selection import train_test_split"
   ]
  },
  {
   "cell_type": "code",
   "execution_count": 2,
   "id": "aa895858",
   "metadata": {},
   "outputs": [
    {
     "data": {
      "text/html": [
       "<div>\n",
       "<style scoped>\n",
       "    .dataframe tbody tr th:only-of-type {\n",
       "        vertical-align: middle;\n",
       "    }\n",
       "\n",
       "    .dataframe tbody tr th {\n",
       "        vertical-align: top;\n",
       "    }\n",
       "\n",
       "    .dataframe thead th {\n",
       "        text-align: right;\n",
       "    }\n",
       "</style>\n",
       "<table border=\"1\" class=\"dataframe\">\n",
       "  <thead>\n",
       "    <tr style=\"text-align: right;\">\n",
       "      <th></th>\n",
       "      <th>X_Minimum</th>\n",
       "      <th>X_Maximum</th>\n",
       "      <th>Y_Minimum</th>\n",
       "      <th>Y_Maximum</th>\n",
       "      <th>Pixels_Areas</th>\n",
       "      <th>X_Perimeter</th>\n",
       "      <th>Y_Perimeter</th>\n",
       "      <th>Sum_of_Luminosity</th>\n",
       "      <th>Minimum_of_Luminosity</th>\n",
       "      <th>Maximum_of_Luminosity</th>\n",
       "      <th>...</th>\n",
       "      <th>Edges_X_Index</th>\n",
       "      <th>Edges_Y_Index</th>\n",
       "      <th>Outside_Global_Index</th>\n",
       "      <th>LogOfAreas</th>\n",
       "      <th>Log_X_Index</th>\n",
       "      <th>Log_Y_Index</th>\n",
       "      <th>Orientation_Index</th>\n",
       "      <th>Luminosity_Index</th>\n",
       "      <th>SigmoidOfAreas</th>\n",
       "      <th>target</th>\n",
       "    </tr>\n",
       "  </thead>\n",
       "  <tbody>\n",
       "    <tr>\n",
       "      <th>0</th>\n",
       "      <td>42</td>\n",
       "      <td>50.0</td>\n",
       "      <td>270900</td>\n",
       "      <td>270944</td>\n",
       "      <td>267</td>\n",
       "      <td>17</td>\n",
       "      <td>44</td>\n",
       "      <td>24220</td>\n",
       "      <td>76</td>\n",
       "      <td>108</td>\n",
       "      <td>...</td>\n",
       "      <td>0.4706</td>\n",
       "      <td>1.0000</td>\n",
       "      <td>1.0</td>\n",
       "      <td>2.4265</td>\n",
       "      <td>0.9031</td>\n",
       "      <td>1.6435</td>\n",
       "      <td>0.8182</td>\n",
       "      <td>-0.2913</td>\n",
       "      <td>0.5822</td>\n",
       "      <td>Pastry</td>\n",
       "    </tr>\n",
       "    <tr>\n",
       "      <th>1</th>\n",
       "      <td>645</td>\n",
       "      <td>651.0</td>\n",
       "      <td>2538079</td>\n",
       "      <td>2538108</td>\n",
       "      <td>108</td>\n",
       "      <td>10</td>\n",
       "      <td>30</td>\n",
       "      <td>11397</td>\n",
       "      <td>84</td>\n",
       "      <td>123</td>\n",
       "      <td>...</td>\n",
       "      <td>0.6000</td>\n",
       "      <td>0.9667</td>\n",
       "      <td>1.0</td>\n",
       "      <td>2.0334</td>\n",
       "      <td>0.7782</td>\n",
       "      <td>1.4624</td>\n",
       "      <td>0.7931</td>\n",
       "      <td>-0.1756</td>\n",
       "      <td>0.2984</td>\n",
       "      <td>Pastry</td>\n",
       "    </tr>\n",
       "    <tr>\n",
       "      <th>2</th>\n",
       "      <td>829</td>\n",
       "      <td>835.0</td>\n",
       "      <td>1553913</td>\n",
       "      <td>1553931</td>\n",
       "      <td>71</td>\n",
       "      <td>8</td>\n",
       "      <td>19</td>\n",
       "      <td>7972</td>\n",
       "      <td>99</td>\n",
       "      <td>125</td>\n",
       "      <td>...</td>\n",
       "      <td>0.7500</td>\n",
       "      <td>0.9474</td>\n",
       "      <td>1.0</td>\n",
       "      <td>1.8513</td>\n",
       "      <td>0.7782</td>\n",
       "      <td>1.2553</td>\n",
       "      <td>0.6667</td>\n",
       "      <td>-0.1228</td>\n",
       "      <td>0.2150</td>\n",
       "      <td>Pastry</td>\n",
       "    </tr>\n",
       "    <tr>\n",
       "      <th>3</th>\n",
       "      <td>853</td>\n",
       "      <td>860.0</td>\n",
       "      <td>369370</td>\n",
       "      <td>369415</td>\n",
       "      <td>176</td>\n",
       "      <td>13</td>\n",
       "      <td>45</td>\n",
       "      <td>18996</td>\n",
       "      <td>99</td>\n",
       "      <td>126</td>\n",
       "      <td>...</td>\n",
       "      <td>0.5385</td>\n",
       "      <td>1.0000</td>\n",
       "      <td>1.0</td>\n",
       "      <td>2.2455</td>\n",
       "      <td>0.8451</td>\n",
       "      <td>1.6532</td>\n",
       "      <td>0.8444</td>\n",
       "      <td>-0.1568</td>\n",
       "      <td>0.5212</td>\n",
       "      <td>Pastry</td>\n",
       "    </tr>\n",
       "    <tr>\n",
       "      <th>4</th>\n",
       "      <td>1289</td>\n",
       "      <td>1306.0</td>\n",
       "      <td>498078</td>\n",
       "      <td>498335</td>\n",
       "      <td>2409</td>\n",
       "      <td>60</td>\n",
       "      <td>260</td>\n",
       "      <td>246930</td>\n",
       "      <td>37</td>\n",
       "      <td>126</td>\n",
       "      <td>...</td>\n",
       "      <td>0.2833</td>\n",
       "      <td>0.9885</td>\n",
       "      <td>1.0</td>\n",
       "      <td>3.3818</td>\n",
       "      <td>1.2305</td>\n",
       "      <td>2.4099</td>\n",
       "      <td>0.9338</td>\n",
       "      <td>-0.1992</td>\n",
       "      <td>1.0000</td>\n",
       "      <td>Pastry</td>\n",
       "    </tr>\n",
       "  </tbody>\n",
       "</table>\n",
       "<p>5 rows × 28 columns</p>\n",
       "</div>"
      ],
      "text/plain": [
       "   X_Minimum  X_Maximum  Y_Minimum  Y_Maximum  Pixels_Areas  X_Perimeter  \\\n",
       "0         42       50.0     270900     270944           267           17   \n",
       "1        645      651.0    2538079    2538108           108           10   \n",
       "2        829      835.0    1553913    1553931            71            8   \n",
       "3        853      860.0     369370     369415           176           13   \n",
       "4       1289     1306.0     498078     498335          2409           60   \n",
       "\n",
       "   Y_Perimeter  Sum_of_Luminosity  Minimum_of_Luminosity  \\\n",
       "0           44              24220                     76   \n",
       "1           30              11397                     84   \n",
       "2           19               7972                     99   \n",
       "3           45              18996                     99   \n",
       "4          260             246930                     37   \n",
       "\n",
       "   Maximum_of_Luminosity  ...  Edges_X_Index  Edges_Y_Index  \\\n",
       "0                    108  ...         0.4706         1.0000   \n",
       "1                    123  ...         0.6000         0.9667   \n",
       "2                    125  ...         0.7500         0.9474   \n",
       "3                    126  ...         0.5385         1.0000   \n",
       "4                    126  ...         0.2833         0.9885   \n",
       "\n",
       "   Outside_Global_Index  LogOfAreas  Log_X_Index  Log_Y_Index  \\\n",
       "0                   1.0      2.4265       0.9031       1.6435   \n",
       "1                   1.0      2.0334       0.7782       1.4624   \n",
       "2                   1.0      1.8513       0.7782       1.2553   \n",
       "3                   1.0      2.2455       0.8451       1.6532   \n",
       "4                   1.0      3.3818       1.2305       2.4099   \n",
       "\n",
       "   Orientation_Index  Luminosity_Index  SigmoidOfAreas  target  \n",
       "0             0.8182           -0.2913          0.5822  Pastry  \n",
       "1             0.7931           -0.1756          0.2984  Pastry  \n",
       "2             0.6667           -0.1228          0.2150  Pastry  \n",
       "3             0.8444           -0.1568          0.5212  Pastry  \n",
       "4             0.9338           -0.1992          1.0000  Pastry  \n",
       "\n",
       "[5 rows x 28 columns]"
      ]
     },
     "execution_count": 2,
     "metadata": {},
     "output_type": "execute_result"
    }
   ],
   "source": [
    "data_url = \"https://github.com/fenago/tf/raw/main/Chapter5-Classification_Models/datasets/faults.csv\"\n",
    "\n",
    "data = pd.read_csv(data_url, sep=\",\")\n",
    "data.head()"
   ]
  },
  {
   "cell_type": "code",
   "execution_count": 3,
   "id": "f286af56",
   "metadata": {},
   "outputs": [
    {
     "data": {
      "text/plain": [
       "Other_Faults    673\n",
       "Bumps           402\n",
       "K_Scatch        391\n",
       "Z_Scratch       190\n",
       "Pastry          158\n",
       "Stains           72\n",
       "Dirtiness        55\n",
       "Name: target, dtype: int64"
      ]
     },
     "execution_count": 3,
     "metadata": {},
     "output_type": "execute_result"
    }
   ],
   "source": [
    "data['target'].value_counts()"
   ]
  },
  {
   "cell_type": "code",
   "execution_count": 4,
   "id": "f22311ba",
   "metadata": {},
   "outputs": [],
   "source": [
    "reduce_map = {\"target\": {'Pastry':0, 'Z_Scratch':1, 'K_Scatch':2, 'Stains':3, 'Dirtiness':4, 'Bumps':5,\n",
    "       'Other_Faults':6} }\n",
    "data.replace(reduce_map, inplace=True)"
   ]
  },
  {
   "cell_type": "code",
   "execution_count": 5,
   "id": "b2b0e4b2",
   "metadata": {},
   "outputs": [
    {
     "data": {
      "text/plain": [
       "6    673\n",
       "5    402\n",
       "2    391\n",
       "1    190\n",
       "0    158\n",
       "3     72\n",
       "4     55\n",
       "Name: target, dtype: int64"
      ]
     },
     "execution_count": 5,
     "metadata": {},
     "output_type": "execute_result"
    }
   ],
   "source": [
    "data['target'].value_counts()"
   ]
  },
  {
   "cell_type": "code",
   "execution_count": 6,
   "id": "bf7ba130",
   "metadata": {},
   "outputs": [],
   "source": [
    "data.dropna(inplace=True)"
   ]
  },
  {
   "cell_type": "code",
   "execution_count": 7,
   "id": "21cd84c5",
   "metadata": {},
   "outputs": [],
   "source": [
    "y = data.pop('target')\n",
    "X = data"
   ]
  },
  {
   "cell_type": "code",
   "execution_count": 8,
   "id": "3220e5b5",
   "metadata": {},
   "outputs": [],
   "source": [
    "X_train, X_test, y_train, y_test = train_test_split(X, y, test_size=0.30, \n",
    "                                                  stratify=y,random_state=42)"
   ]
  },
  {
   "cell_type": "code",
   "execution_count": 9,
   "id": "ab3e55a2",
   "metadata": {},
   "outputs": [
    {
     "name": "stdout",
     "output_type": "stream",
     "text": [
      "(1308, 27)\n",
      "(561, 27)\n",
      "(1308,)\n",
      "(561,)\n"
     ]
    }
   ],
   "source": [
    "print(X_train.shape)\n",
    "print(X_test.shape)\n",
    "print(y_train.shape)\n",
    "print(y_test.shape)"
   ]
  },
  {
   "cell_type": "code",
   "execution_count": 10,
   "id": "3d982107",
   "metadata": {},
   "outputs": [
    {
     "data": {
      "text/plain": [
       "459     2\n",
       "787     3\n",
       "1134    5\n",
       "1270    6\n",
       "704     2\n",
       "Name: target, dtype: int64"
      ]
     },
     "execution_count": 10,
     "metadata": {},
     "output_type": "execute_result"
    }
   ],
   "source": [
    "y_train.head()"
   ]
  },
  {
   "cell_type": "code",
   "execution_count": 11,
   "id": "ef190bfc",
   "metadata": {},
   "outputs": [],
   "source": [
    "import tensorflow as tf"
   ]
  },
  {
   "cell_type": "code",
   "execution_count": 12,
   "id": "830dbbb9",
   "metadata": {},
   "outputs": [],
   "source": [
    "tf.random.set_seed(8)"
   ]
  },
  {
   "cell_type": "code",
   "execution_count": 13,
   "id": "54c85f92",
   "metadata": {},
   "outputs": [],
   "source": [
    "model = tf.keras.Sequential()"
   ]
  },
  {
   "cell_type": "code",
   "execution_count": 14,
   "id": "5e9e43bd",
   "metadata": {},
   "outputs": [],
   "source": [
    "from tensorflow.keras.layers import Dense"
   ]
  },
  {
   "cell_type": "code",
   "execution_count": 15,
   "id": "a3d57efa",
   "metadata": {},
   "outputs": [],
   "source": [
    "fc1 = Dense(512, input_shape=(27,), activation='relu')"
   ]
  },
  {
   "cell_type": "code",
   "execution_count": 16,
   "id": "d84543b6",
   "metadata": {},
   "outputs": [],
   "source": [
    "fc2 = Dense(512, activation='relu')"
   ]
  },
  {
   "cell_type": "code",
   "execution_count": 17,
   "id": "0891d8f3",
   "metadata": {},
   "outputs": [],
   "source": [
    "fc3 = Dense(128, activation='relu')"
   ]
  },
  {
   "cell_type": "code",
   "execution_count": 18,
   "id": "b51992ef",
   "metadata": {},
   "outputs": [],
   "source": [
    "fc4 = Dense(128, activation='relu')"
   ]
  },
  {
   "cell_type": "code",
   "execution_count": 19,
   "id": "a566ec57",
   "metadata": {},
   "outputs": [],
   "source": [
    "fc5 = Dense(7, activation='softmax')"
   ]
  },
  {
   "cell_type": "code",
   "execution_count": 20,
   "id": "4ec8a15d",
   "metadata": {},
   "outputs": [],
   "source": [
    "model.add(fc1)\n",
    "model.add(fc2)\n",
    "model.add(fc3)\n",
    "model.add(fc4)\n",
    "model.add(fc5)"
   ]
  },
  {
   "cell_type": "code",
   "execution_count": 21,
   "id": "ca35b0cd",
   "metadata": {
    "scrolled": true
   },
   "outputs": [
    {
     "name": "stdout",
     "output_type": "stream",
     "text": [
      "Model: \"sequential\"\n",
      "_________________________________________________________________\n",
      "Layer (type)                 Output Shape              Param #   \n",
      "=================================================================\n",
      "dense (Dense)                (None, 512)               14336     \n",
      "_________________________________________________________________\n",
      "dense_1 (Dense)              (None, 512)               262656    \n",
      "_________________________________________________________________\n",
      "dense_2 (Dense)              (None, 128)               65664     \n",
      "_________________________________________________________________\n",
      "dense_3 (Dense)              (None, 128)               16512     \n",
      "_________________________________________________________________\n",
      "dense_4 (Dense)              (None, 7)                 903       \n",
      "=================================================================\n",
      "Total params: 360,071\n",
      "Trainable params: 360,071\n",
      "Non-trainable params: 0\n",
      "_________________________________________________________________\n"
     ]
    }
   ],
   "source": [
    "model.summary()"
   ]
  },
  {
   "cell_type": "code",
   "execution_count": 22,
   "id": "67abcdf9",
   "metadata": {},
   "outputs": [],
   "source": [
    "loss = tf.keras.losses.SparseCategoricalCrossentropy()"
   ]
  },
  {
   "cell_type": "code",
   "execution_count": 23,
   "id": "2ef892e0",
   "metadata": {},
   "outputs": [],
   "source": [
    "optimizer = tf.keras.optimizers.Adam(0.001)"
   ]
  },
  {
   "cell_type": "code",
   "execution_count": 24,
   "id": "03b28af5",
   "metadata": {},
   "outputs": [],
   "source": [
    "model.compile(optimizer=optimizer, loss=loss, \\\n",
    "                  metrics=['accuracy'])"
   ]
  },
  {
   "cell_type": "code",
   "execution_count": 25,
   "id": "56e68ee5",
   "metadata": {},
   "outputs": [
    {
     "name": "stdout",
     "output_type": "stream",
     "text": [
      "Epoch 1/50\n",
      "41/41 [==============================] - 1s 3ms/step - loss: 49464.6289 - accuracy: 0.3043\n",
      "Epoch 2/50\n",
      "41/41 [==============================] - 0s 2ms/step - loss: 9064.1504 - accuracy: 0.3287\n",
      "Epoch 3/50\n",
      "41/41 [==============================] - 0s 2ms/step - loss: 4661.5762 - accuracy: 0.3502\n",
      "Epoch 4/50\n",
      "41/41 [==============================] - 0s 2ms/step - loss: 2535.9060 - accuracy: 0.3532\n",
      "Epoch 5/50\n",
      "41/41 [==============================] - 0s 2ms/step - loss: 1962.9645 - accuracy: 0.3532\n",
      "Epoch 6/50\n",
      "41/41 [==============================] - 0s 2ms/step - loss: 1816.8761 - accuracy: 0.3471\n",
      "Epoch 7/50\n",
      "41/41 [==============================] - 0s 2ms/step - loss: 2037.4460 - accuracy: 0.3157\n",
      "Epoch 8/50\n",
      "41/41 [==============================] - 0s 2ms/step - loss: 1047.5796 - accuracy: 0.3318\n",
      "Epoch 9/50\n",
      "41/41 [==============================] - 0s 2ms/step - loss: 522.4092 - accuracy: 0.3364\n",
      "Epoch 10/50\n",
      "41/41 [==============================] - 0s 2ms/step - loss: 624.5777 - accuracy: 0.3089\n",
      "Epoch 11/50\n",
      "41/41 [==============================] - 0s 2ms/step - loss: 611.9686 - accuracy: 0.3471\n",
      "Epoch 12/50\n",
      "41/41 [==============================] - 0s 2ms/step - loss: 277.7330 - accuracy: 0.3693\n",
      "Epoch 13/50\n",
      "41/41 [==============================] - 0s 2ms/step - loss: 50.1651 - accuracy: 0.4021\n",
      "Epoch 14/50\n",
      "41/41 [==============================] - 0s 2ms/step - loss: 22.5798 - accuracy: 0.4258\n",
      "Epoch 15/50\n",
      "41/41 [==============================] - 0s 2ms/step - loss: 23.8738 - accuracy: 0.4235\n",
      "Epoch 16/50\n",
      "41/41 [==============================] - 0s 2ms/step - loss: 18.5660 - accuracy: 0.4197\n",
      "Epoch 17/50\n",
      "41/41 [==============================] - 0s 2ms/step - loss: 8.0369 - accuracy: 0.4228\n",
      "Epoch 18/50\n",
      "41/41 [==============================] - 0s 2ms/step - loss: 14.1544 - accuracy: 0.4159\n",
      "Epoch 19/50\n",
      "41/41 [==============================] - 0s 2ms/step - loss: 20.4630 - accuracy: 0.4350\n",
      "Epoch 20/50\n",
      "41/41 [==============================] - 0s 2ms/step - loss: 10.2491 - accuracy: 0.4358\n",
      "Epoch 21/50\n",
      "41/41 [==============================] - 0s 2ms/step - loss: 7.4012 - accuracy: 0.4235\n",
      "Epoch 22/50\n",
      "41/41 [==============================] - 0s 2ms/step - loss: 12.8335 - accuracy: 0.4320\n",
      "Epoch 23/50\n",
      "41/41 [==============================] - 0s 2ms/step - loss: 11.5047 - accuracy: 0.4213\n",
      "Epoch 24/50\n",
      "41/41 [==============================] - 0s 2ms/step - loss: 14.3554 - accuracy: 0.4151\n",
      "Epoch 25/50\n",
      "41/41 [==============================] - 0s 2ms/step - loss: 21.2979 - accuracy: 0.4029\n",
      "Epoch 26/50\n",
      "41/41 [==============================] - 0s 2ms/step - loss: 9.4023 - accuracy: 0.4121\n",
      "Epoch 27/50\n",
      "41/41 [==============================] - 0s 2ms/step - loss: 8.7615 - accuracy: 0.4090\n",
      "Epoch 28/50\n",
      "41/41 [==============================] - 0s 2ms/step - loss: 6.4887 - accuracy: 0.4159\n",
      "Epoch 29/50\n",
      "41/41 [==============================] - 0s 2ms/step - loss: 5.8545 - accuracy: 0.4144\n",
      "Epoch 30/50\n",
      "41/41 [==============================] - 0s 2ms/step - loss: 58.9658 - accuracy: 0.4029\n",
      "Epoch 31/50\n",
      "41/41 [==============================] - 0s 2ms/step - loss: 7.5420 - accuracy: 0.4113\n",
      "Epoch 32/50\n",
      "41/41 [==============================] - 0s 2ms/step - loss: 3.8627 - accuracy: 0.4113\n",
      "Epoch 33/50\n",
      "41/41 [==============================] - 0s 2ms/step - loss: 3.8448 - accuracy: 0.4021\n",
      "Epoch 34/50\n",
      "41/41 [==============================] - 0s 2ms/step - loss: 3.3777 - accuracy: 0.4014\n",
      "Epoch 35/50\n",
      "41/41 [==============================] - 0s 2ms/step - loss: 2.5796 - accuracy: 0.3945\n",
      "Epoch 36/50\n",
      "41/41 [==============================] - 0s 2ms/step - loss: 3.6337 - accuracy: 0.3922\n",
      "Epoch 37/50\n",
      "41/41 [==============================] - 0s 2ms/step - loss: 2.2428 - accuracy: 0.3983\n",
      "Epoch 38/50\n",
      "41/41 [==============================] - 0s 2ms/step - loss: 3.1990 - accuracy: 0.3945\n",
      "Epoch 39/50\n",
      "41/41 [==============================] - 0s 2ms/step - loss: 2.3606 - accuracy: 0.3807\n",
      "Epoch 40/50\n",
      "41/41 [==============================] - 0s 2ms/step - loss: 2.0784 - accuracy: 0.3830\n",
      "Epoch 41/50\n",
      "41/41 [==============================] - 0s 2ms/step - loss: 1.8196 - accuracy: 0.3754\n",
      "Epoch 42/50\n",
      "41/41 [==============================] - 0s 2ms/step - loss: 1.9464 - accuracy: 0.3761\n",
      "Epoch 43/50\n",
      "41/41 [==============================] - 0s 2ms/step - loss: 1.7915 - accuracy: 0.3754\n",
      "Epoch 44/50\n",
      "41/41 [==============================] - 0s 2ms/step - loss: 1.9057 - accuracy: 0.3716\n",
      "Epoch 45/50\n",
      "41/41 [==============================] - 0s 2ms/step - loss: 1.8387 - accuracy: 0.3739\n",
      "Epoch 46/50\n",
      "41/41 [==============================] - 0s 2ms/step - loss: 2.0250 - accuracy: 0.3754\n",
      "Epoch 47/50\n",
      "41/41 [==============================] - 0s 2ms/step - loss: 2.4333 - accuracy: 0.3723\n",
      "Epoch 48/50\n",
      "41/41 [==============================] - 0s 2ms/step - loss: 1.8332 - accuracy: 0.3708\n",
      "Epoch 49/50\n",
      "41/41 [==============================] - 0s 2ms/step - loss: 90.7524 - accuracy: 0.3624\n",
      "Epoch 50/50\n",
      "41/41 [==============================] - 0s 3ms/step - loss: 32.3294 - accuracy: 0.4006\n"
     ]
    },
    {
     "data": {
      "text/plain": [
       "<keras.callbacks.History at 0x2e007d15640>"
      ]
     },
     "execution_count": 25,
     "metadata": {},
     "output_type": "execute_result"
    }
   ],
   "source": [
    "model.fit(X_train, y_train, epochs=50)"
   ]
  },
  {
   "cell_type": "code",
   "execution_count": 26,
   "id": "852ff9bb",
   "metadata": {},
   "outputs": [
    {
     "name": "stdout",
     "output_type": "stream",
     "text": [
      "18/18 [==============================] - 0s 2ms/step - loss: 2.5628 - accuracy: 0.4492\n"
     ]
    },
    {
     "data": {
      "text/plain": [
       "[2.5627567768096924, 0.4491978585720062]"
      ]
     },
     "execution_count": 26,
     "metadata": {},
     "output_type": "execute_result"
    }
   ],
   "source": [
    "model.evaluate(X_test, y_test)"
   ]
  },
  {
   "cell_type": "code",
   "execution_count": null,
   "id": "e3644a68",
   "metadata": {},
   "outputs": [],
   "source": []
  },
  {
   "cell_type": "code",
   "execution_count": null,
   "id": "85798b42",
   "metadata": {},
   "outputs": [],
   "source": []
  }
 ],
 "metadata": {
  "kernelspec": {
   "display_name": "Python 3",
   "language": "python",
   "name": "python3"
  },
  "language_info": {
   "codemirror_mode": {
    "name": "ipython",
    "version": 3
   },
   "file_extension": ".py",
   "mimetype": "text/x-python",
   "name": "python",
   "nbconvert_exporter": "python",
   "pygments_lexer": "ipython3",
   "version": "3.9.6"
  }
 },
 "nbformat": 4,
 "nbformat_minor": 5
}
