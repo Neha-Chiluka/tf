{
 "cells": [
  {
   "cell_type": "code",
   "execution_count": 1,
   "id": "58a94848",
   "metadata": {},
   "outputs": [],
   "source": [
    "import numpy as np\n",
    "import matplotlib.pyplot as plt\n",
    "import pandas as pd\n",
    "from sklearn.preprocessing import StandardScaler, MinMaxScaler"
   ]
  },
  {
   "cell_type": "code",
   "execution_count": 13,
   "id": "894c9fb7",
   "metadata": {},
   "outputs": [],
   "source": [
    "import io\n",
    "path = \"https://raw.githubusercontent.com/fenago/tf/main/Chapter9-Recurrent%20Neural%20Networks/datasets/AAPL.csv\"\n",
    "data = pd.read_csv(path)"
   ]
  },
  {
   "cell_type": "code",
   "execution_count": 14,
   "id": "7910c8dd",
   "metadata": {},
   "outputs": [
    {
     "data": {
      "text/html": [
       "<div>\n",
       "<style scoped>\n",
       "    .dataframe tbody tr th:only-of-type {\n",
       "        vertical-align: middle;\n",
       "    }\n",
       "\n",
       "    .dataframe tbody tr th {\n",
       "        vertical-align: top;\n",
       "    }\n",
       "\n",
       "    .dataframe thead th {\n",
       "        text-align: right;\n",
       "    }\n",
       "</style>\n",
       "<table border=\"1\" class=\"dataframe\">\n",
       "  <thead>\n",
       "    <tr style=\"text-align: right;\">\n",
       "      <th></th>\n",
       "      <th>Date</th>\n",
       "      <th>Open</th>\n",
       "      <th>High</th>\n",
       "      <th>Low</th>\n",
       "      <th>Close</th>\n",
       "      <th>Adj Close</th>\n",
       "      <th>Volume</th>\n",
       "    </tr>\n",
       "  </thead>\n",
       "  <tbody>\n",
       "    <tr>\n",
       "      <th>0</th>\n",
       "      <td>2011-08-01</td>\n",
       "      <td>14.206429</td>\n",
       "      <td>14.267857</td>\n",
       "      <td>14.013214</td>\n",
       "      <td>14.169643</td>\n",
       "      <td>12.098496</td>\n",
       "      <td>612836000</td>\n",
       "    </tr>\n",
       "    <tr>\n",
       "      <th>1</th>\n",
       "      <td>2011-08-02</td>\n",
       "      <td>14.201786</td>\n",
       "      <td>14.210714</td>\n",
       "      <td>13.869643</td>\n",
       "      <td>13.889643</td>\n",
       "      <td>11.859419</td>\n",
       "      <td>639539600</td>\n",
       "    </tr>\n",
       "    <tr>\n",
       "      <th>2</th>\n",
       "      <td>2011-08-03</td>\n",
       "      <td>13.963571</td>\n",
       "      <td>14.055357</td>\n",
       "      <td>13.651429</td>\n",
       "      <td>14.020357</td>\n",
       "      <td>11.971028</td>\n",
       "      <td>732508000</td>\n",
       "    </tr>\n",
       "    <tr>\n",
       "      <th>3</th>\n",
       "      <td>2011-08-04</td>\n",
       "      <td>13.907500</td>\n",
       "      <td>13.975714</td>\n",
       "      <td>13.476786</td>\n",
       "      <td>13.477500</td>\n",
       "      <td>11.507519</td>\n",
       "      <td>871407600</td>\n",
       "    </tr>\n",
       "    <tr>\n",
       "      <th>4</th>\n",
       "      <td>2011-08-05</td>\n",
       "      <td>13.587143</td>\n",
       "      <td>13.696429</td>\n",
       "      <td>12.948929</td>\n",
       "      <td>13.343571</td>\n",
       "      <td>11.393167</td>\n",
       "      <td>1204590800</td>\n",
       "    </tr>\n",
       "  </tbody>\n",
       "</table>\n",
       "</div>"
      ],
      "text/plain": [
       "         Date       Open       High        Low      Close  Adj Close  \\\n",
       "0  2011-08-01  14.206429  14.267857  14.013214  14.169643  12.098496   \n",
       "1  2011-08-02  14.201786  14.210714  13.869643  13.889643  11.859419   \n",
       "2  2011-08-03  13.963571  14.055357  13.651429  14.020357  11.971028   \n",
       "3  2011-08-04  13.907500  13.975714  13.476786  13.477500  11.507519   \n",
       "4  2011-08-05  13.587143  13.696429  12.948929  13.343571  11.393167   \n",
       "\n",
       "       Volume  \n",
       "0   612836000  \n",
       "1   639539600  \n",
       "2   732508000  \n",
       "3   871407600  \n",
       "4  1204590800  "
      ]
     },
     "execution_count": 14,
     "metadata": {},
     "output_type": "execute_result"
    }
   ],
   "source": [
    "data.head()"
   ]
  },
  {
   "cell_type": "code",
   "execution_count": 4,
   "id": "8c51e81d",
   "metadata": {},
   "outputs": [
    {
     "data": {
      "text/html": [
       "<div>\n",
       "<style scoped>\n",
       "    .dataframe tbody tr th:only-of-type {\n",
       "        vertical-align: middle;\n",
       "    }\n",
       "\n",
       "    .dataframe tbody tr th {\n",
       "        vertical-align: top;\n",
       "    }\n",
       "\n",
       "    .dataframe thead th {\n",
       "        text-align: right;\n",
       "    }\n",
       "</style>\n",
       "<table border=\"1\" class=\"dataframe\">\n",
       "  <thead>\n",
       "    <tr style=\"text-align: right;\">\n",
       "      <th></th>\n",
       "      <th>Date</th>\n",
       "      <th>Open</th>\n",
       "      <th>High</th>\n",
       "      <th>Low</th>\n",
       "      <th>Close</th>\n",
       "      <th>Adj Close</th>\n",
       "      <th>Volume</th>\n",
       "    </tr>\n",
       "  </thead>\n",
       "  <tbody>\n",
       "    <tr>\n",
       "      <th>2763</th>\n",
       "      <td>2022-07-25</td>\n",
       "      <td>154.009995</td>\n",
       "      <td>155.039993</td>\n",
       "      <td>152.279999</td>\n",
       "      <td>152.949997</td>\n",
       "      <td>152.737839</td>\n",
       "      <td>53623900</td>\n",
       "    </tr>\n",
       "    <tr>\n",
       "      <th>2764</th>\n",
       "      <td>2022-07-26</td>\n",
       "      <td>152.259995</td>\n",
       "      <td>153.089996</td>\n",
       "      <td>150.800003</td>\n",
       "      <td>151.600006</td>\n",
       "      <td>151.389725</td>\n",
       "      <td>55138700</td>\n",
       "    </tr>\n",
       "    <tr>\n",
       "      <th>2765</th>\n",
       "      <td>2022-07-27</td>\n",
       "      <td>152.580002</td>\n",
       "      <td>157.330002</td>\n",
       "      <td>152.160004</td>\n",
       "      <td>156.789993</td>\n",
       "      <td>156.572510</td>\n",
       "      <td>78620700</td>\n",
       "    </tr>\n",
       "    <tr>\n",
       "      <th>2766</th>\n",
       "      <td>2022-07-28</td>\n",
       "      <td>156.979996</td>\n",
       "      <td>157.639999</td>\n",
       "      <td>154.410004</td>\n",
       "      <td>157.350006</td>\n",
       "      <td>157.131744</td>\n",
       "      <td>81378700</td>\n",
       "    </tr>\n",
       "    <tr>\n",
       "      <th>2767</th>\n",
       "      <td>2022-07-29</td>\n",
       "      <td>161.240005</td>\n",
       "      <td>163.630005</td>\n",
       "      <td>159.500000</td>\n",
       "      <td>162.509995</td>\n",
       "      <td>162.284576</td>\n",
       "      <td>101786900</td>\n",
       "    </tr>\n",
       "  </tbody>\n",
       "</table>\n",
       "</div>"
      ],
      "text/plain": [
       "            Date        Open        High         Low       Close   Adj Close  \\\n",
       "2763  2022-07-25  154.009995  155.039993  152.279999  152.949997  152.737839   \n",
       "2764  2022-07-26  152.259995  153.089996  150.800003  151.600006  151.389725   \n",
       "2765  2022-07-27  152.580002  157.330002  152.160004  156.789993  156.572510   \n",
       "2766  2022-07-28  156.979996  157.639999  154.410004  157.350006  157.131744   \n",
       "2767  2022-07-29  161.240005  163.630005  159.500000  162.509995  162.284576   \n",
       "\n",
       "         Volume  \n",
       "2763   53623900  \n",
       "2764   55138700  \n",
       "2765   78620700  \n",
       "2766   81378700  \n",
       "2767  101786900  "
      ]
     },
     "execution_count": 4,
     "metadata": {},
     "output_type": "execute_result"
    }
   ],
   "source": [
    "data.tail()"
   ]
  },
  {
   "cell_type": "code",
   "execution_count": 5,
   "id": "482449f6",
   "metadata": {},
   "outputs": [],
   "source": [
    "data_training = data[data['Date']<'2022-07-01'].copy()"
   ]
  },
  {
   "cell_type": "code",
   "execution_count": 6,
   "id": "f2719c63",
   "metadata": {},
   "outputs": [
    {
     "data": {
      "text/html": [
       "<div>\n",
       "<style scoped>\n",
       "    .dataframe tbody tr th:only-of-type {\n",
       "        vertical-align: middle;\n",
       "    }\n",
       "\n",
       "    .dataframe tbody tr th {\n",
       "        vertical-align: top;\n",
       "    }\n",
       "\n",
       "    .dataframe thead th {\n",
       "        text-align: right;\n",
       "    }\n",
       "</style>\n",
       "<table border=\"1\" class=\"dataframe\">\n",
       "  <thead>\n",
       "    <tr style=\"text-align: right;\">\n",
       "      <th></th>\n",
       "      <th>Date</th>\n",
       "      <th>Open</th>\n",
       "      <th>High</th>\n",
       "      <th>Low</th>\n",
       "      <th>Close</th>\n",
       "      <th>Adj Close</th>\n",
       "      <th>Volume</th>\n",
       "    </tr>\n",
       "  </thead>\n",
       "  <tbody>\n",
       "    <tr>\n",
       "      <th>0</th>\n",
       "      <td>2011-08-01</td>\n",
       "      <td>14.206429</td>\n",
       "      <td>14.267857</td>\n",
       "      <td>14.013214</td>\n",
       "      <td>14.169643</td>\n",
       "      <td>12.098496</td>\n",
       "      <td>612836000</td>\n",
       "    </tr>\n",
       "    <tr>\n",
       "      <th>1</th>\n",
       "      <td>2011-08-02</td>\n",
       "      <td>14.201786</td>\n",
       "      <td>14.210714</td>\n",
       "      <td>13.869643</td>\n",
       "      <td>13.889643</td>\n",
       "      <td>11.859419</td>\n",
       "      <td>639539600</td>\n",
       "    </tr>\n",
       "    <tr>\n",
       "      <th>2</th>\n",
       "      <td>2011-08-03</td>\n",
       "      <td>13.963571</td>\n",
       "      <td>14.055357</td>\n",
       "      <td>13.651429</td>\n",
       "      <td>14.020357</td>\n",
       "      <td>11.971028</td>\n",
       "      <td>732508000</td>\n",
       "    </tr>\n",
       "    <tr>\n",
       "      <th>3</th>\n",
       "      <td>2011-08-04</td>\n",
       "      <td>13.907500</td>\n",
       "      <td>13.975714</td>\n",
       "      <td>13.476786</td>\n",
       "      <td>13.477500</td>\n",
       "      <td>11.507519</td>\n",
       "      <td>871407600</td>\n",
       "    </tr>\n",
       "    <tr>\n",
       "      <th>4</th>\n",
       "      <td>2011-08-05</td>\n",
       "      <td>13.587143</td>\n",
       "      <td>13.696429</td>\n",
       "      <td>12.948929</td>\n",
       "      <td>13.343571</td>\n",
       "      <td>11.393167</td>\n",
       "      <td>1204590800</td>\n",
       "    </tr>\n",
       "  </tbody>\n",
       "</table>\n",
       "</div>"
      ],
      "text/plain": [
       "         Date       Open       High        Low      Close  Adj Close  \\\n",
       "0  2011-08-01  14.206429  14.267857  14.013214  14.169643  12.098496   \n",
       "1  2011-08-02  14.201786  14.210714  13.869643  13.889643  11.859419   \n",
       "2  2011-08-03  13.963571  14.055357  13.651429  14.020357  11.971028   \n",
       "3  2011-08-04  13.907500  13.975714  13.476786  13.477500  11.507519   \n",
       "4  2011-08-05  13.587143  13.696429  12.948929  13.343571  11.393167   \n",
       "\n",
       "       Volume  \n",
       "0   612836000  \n",
       "1   639539600  \n",
       "2   732508000  \n",
       "3   871407600  \n",
       "4  1204590800  "
      ]
     },
     "execution_count": 6,
     "metadata": {},
     "output_type": "execute_result"
    }
   ],
   "source": [
    "data_training.head()"
   ]
  },
  {
   "cell_type": "code",
   "execution_count": 7,
   "id": "b6903b4e",
   "metadata": {},
   "outputs": [],
   "source": [
    "data_test = data[data['Date']>='2022-07-01'].copy()"
   ]
  },
  {
   "cell_type": "code",
   "execution_count": 8,
   "id": "1df0bf53",
   "metadata": {},
   "outputs": [
    {
     "data": {
      "text/html": [
       "<div>\n",
       "<style scoped>\n",
       "    .dataframe tbody tr th:only-of-type {\n",
       "        vertical-align: middle;\n",
       "    }\n",
       "\n",
       "    .dataframe tbody tr th {\n",
       "        vertical-align: top;\n",
       "    }\n",
       "\n",
       "    .dataframe thead th {\n",
       "        text-align: right;\n",
       "    }\n",
       "</style>\n",
       "<table border=\"1\" class=\"dataframe\">\n",
       "  <thead>\n",
       "    <tr style=\"text-align: right;\">\n",
       "      <th></th>\n",
       "      <th>Date</th>\n",
       "      <th>Open</th>\n",
       "      <th>High</th>\n",
       "      <th>Low</th>\n",
       "      <th>Close</th>\n",
       "      <th>Adj Close</th>\n",
       "      <th>Volume</th>\n",
       "    </tr>\n",
       "  </thead>\n",
       "  <tbody>\n",
       "    <tr>\n",
       "      <th>2748</th>\n",
       "      <td>2022-07-01</td>\n",
       "      <td>136.039993</td>\n",
       "      <td>139.039993</td>\n",
       "      <td>135.660004</td>\n",
       "      <td>138.929993</td>\n",
       "      <td>138.737274</td>\n",
       "      <td>71051600</td>\n",
       "    </tr>\n",
       "    <tr>\n",
       "      <th>2749</th>\n",
       "      <td>2022-07-05</td>\n",
       "      <td>137.770004</td>\n",
       "      <td>141.610001</td>\n",
       "      <td>136.929993</td>\n",
       "      <td>141.559998</td>\n",
       "      <td>141.363632</td>\n",
       "      <td>73353800</td>\n",
       "    </tr>\n",
       "    <tr>\n",
       "      <th>2750</th>\n",
       "      <td>2022-07-06</td>\n",
       "      <td>141.350006</td>\n",
       "      <td>144.119995</td>\n",
       "      <td>141.080002</td>\n",
       "      <td>142.919998</td>\n",
       "      <td>142.721756</td>\n",
       "      <td>74064300</td>\n",
       "    </tr>\n",
       "    <tr>\n",
       "      <th>2751</th>\n",
       "      <td>2022-07-07</td>\n",
       "      <td>143.289993</td>\n",
       "      <td>146.550003</td>\n",
       "      <td>143.279999</td>\n",
       "      <td>146.350006</td>\n",
       "      <td>146.147003</td>\n",
       "      <td>66253700</td>\n",
       "    </tr>\n",
       "    <tr>\n",
       "      <th>2752</th>\n",
       "      <td>2022-07-08</td>\n",
       "      <td>145.259995</td>\n",
       "      <td>147.550003</td>\n",
       "      <td>145.000000</td>\n",
       "      <td>147.039993</td>\n",
       "      <td>146.836029</td>\n",
       "      <td>64547800</td>\n",
       "    </tr>\n",
       "  </tbody>\n",
       "</table>\n",
       "</div>"
      ],
      "text/plain": [
       "            Date        Open        High         Low       Close   Adj Close  \\\n",
       "2748  2022-07-01  136.039993  139.039993  135.660004  138.929993  138.737274   \n",
       "2749  2022-07-05  137.770004  141.610001  136.929993  141.559998  141.363632   \n",
       "2750  2022-07-06  141.350006  144.119995  141.080002  142.919998  142.721756   \n",
       "2751  2022-07-07  143.289993  146.550003  143.279999  146.350006  146.147003   \n",
       "2752  2022-07-08  145.259995  147.550003  145.000000  147.039993  146.836029   \n",
       "\n",
       "        Volume  \n",
       "2748  71051600  \n",
       "2749  73353800  \n",
       "2750  74064300  \n",
       "2751  66253700  \n",
       "2752  64547800  "
      ]
     },
     "execution_count": 8,
     "metadata": {},
     "output_type": "execute_result"
    }
   ],
   "source": [
    "data_test.head()"
   ]
  },
  {
   "cell_type": "code",
   "execution_count": 9,
   "id": "0717a7d1",
   "metadata": {},
   "outputs": [
    {
     "data": {
      "text/html": [
       "<div>\n",
       "<style scoped>\n",
       "    .dataframe tbody tr th:only-of-type {\n",
       "        vertical-align: middle;\n",
       "    }\n",
       "\n",
       "    .dataframe tbody tr th {\n",
       "        vertical-align: top;\n",
       "    }\n",
       "\n",
       "    .dataframe thead th {\n",
       "        text-align: right;\n",
       "    }\n",
       "</style>\n",
       "<table border=\"1\" class=\"dataframe\">\n",
       "  <thead>\n",
       "    <tr style=\"text-align: right;\">\n",
       "      <th></th>\n",
       "      <th>Open</th>\n",
       "      <th>High</th>\n",
       "      <th>Low</th>\n",
       "      <th>Close</th>\n",
       "      <th>Volume</th>\n",
       "    </tr>\n",
       "  </thead>\n",
       "  <tbody>\n",
       "    <tr>\n",
       "      <th>0</th>\n",
       "      <td>14.206429</td>\n",
       "      <td>14.267857</td>\n",
       "      <td>14.013214</td>\n",
       "      <td>14.169643</td>\n",
       "      <td>612836000</td>\n",
       "    </tr>\n",
       "    <tr>\n",
       "      <th>1</th>\n",
       "      <td>14.201786</td>\n",
       "      <td>14.210714</td>\n",
       "      <td>13.869643</td>\n",
       "      <td>13.889643</td>\n",
       "      <td>639539600</td>\n",
       "    </tr>\n",
       "    <tr>\n",
       "      <th>2</th>\n",
       "      <td>13.963571</td>\n",
       "      <td>14.055357</td>\n",
       "      <td>13.651429</td>\n",
       "      <td>14.020357</td>\n",
       "      <td>732508000</td>\n",
       "    </tr>\n",
       "    <tr>\n",
       "      <th>3</th>\n",
       "      <td>13.907500</td>\n",
       "      <td>13.975714</td>\n",
       "      <td>13.476786</td>\n",
       "      <td>13.477500</td>\n",
       "      <td>871407600</td>\n",
       "    </tr>\n",
       "    <tr>\n",
       "      <th>4</th>\n",
       "      <td>13.587143</td>\n",
       "      <td>13.696429</td>\n",
       "      <td>12.948929</td>\n",
       "      <td>13.343571</td>\n",
       "      <td>1204590800</td>\n",
       "    </tr>\n",
       "  </tbody>\n",
       "</table>\n",
       "</div>"
      ],
      "text/plain": [
       "        Open       High        Low      Close      Volume\n",
       "0  14.206429  14.267857  14.013214  14.169643   612836000\n",
       "1  14.201786  14.210714  13.869643  13.889643   639539600\n",
       "2  13.963571  14.055357  13.651429  14.020357   732508000\n",
       "3  13.907500  13.975714  13.476786  13.477500   871407600\n",
       "4  13.587143  13.696429  12.948929  13.343571  1204590800"
      ]
     },
     "execution_count": 9,
     "metadata": {},
     "output_type": "execute_result"
    }
   ],
   "source": [
    "training_data = data_training.drop(['Date', 'Adj Close'], axis=1)\n",
    "training_data.head()"
   ]
  },
  {
   "cell_type": "code",
   "execution_count": 10,
   "id": "91773b8d",
   "metadata": {},
   "outputs": [
    {
     "data": {
      "text/plain": [
       "array([[0.00788499, 0.00727702, 0.00843997, 0.00917971, 0.39029977],\n",
       "       [0.00785764, 0.0069407 , 0.00757774, 0.00752677, 0.40852599],\n",
       "       [0.00645441, 0.00602635, 0.00626724, 0.00829842, 0.47198045],\n",
       "       ...,\n",
       "       [0.76143092, 0.7674043 , 0.74896732, 0.73688775, 0.01780291],\n",
       "       [0.73392185, 0.75121912, 0.74506365, 0.74745471, 0.0172289 ],\n",
       "       [0.73268479, 0.73768241, 0.72764754, 0.73263733, 0.03956297]])"
      ]
     },
     "execution_count": 10,
     "metadata": {},
     "output_type": "execute_result"
    }
   ],
   "source": [
    "scaler = MinMaxScaler()\n",
    "training_data = scaler.fit_transform(training_data)\n",
    "training_data"
   ]
  },
  {
   "cell_type": "code",
   "execution_count": 11,
   "id": "11ce9d32",
   "metadata": {},
   "outputs": [],
   "source": [
    "X_train = []\n",
    "y_train = []"
   ]
  },
  {
   "cell_type": "code",
   "execution_count": 12,
   "id": "74848691",
   "metadata": {},
   "outputs": [
    {
     "data": {
      "text/plain": [
       "2748"
      ]
     },
     "execution_count": 12,
     "metadata": {},
     "output_type": "execute_result"
    }
   ],
   "source": [
    "training_data.shape[0]"
   ]
  },
  {
   "cell_type": "code",
   "execution_count": 13,
   "id": "f4c4c20e",
   "metadata": {},
   "outputs": [],
   "source": [
    "for i in range(60, training_data.shape[0]):\n",
    "    X_train.append(training_data[i-60:i])\n",
    "    y_train.append(training_data[i, 0])"
   ]
  },
  {
   "cell_type": "code",
   "execution_count": 14,
   "id": "9a61851b",
   "metadata": {},
   "outputs": [],
   "source": [
    "X_train, y_train = np.array(X_train), np.array(y_train)"
   ]
  },
  {
   "cell_type": "code",
   "execution_count": 15,
   "id": "a18d2a55",
   "metadata": {},
   "outputs": [
    {
     "data": {
      "text/plain": [
       "((2688, 60, 5), (2688,))"
      ]
     },
     "execution_count": 15,
     "metadata": {},
     "output_type": "execute_result"
    }
   ],
   "source": [
    "X_train.shape, y_train.shape"
   ]
  },
  {
   "cell_type": "code",
   "execution_count": 16,
   "id": "e542a9f4",
   "metadata": {},
   "outputs": [
    {
     "data": {
      "text/plain": [
       "(2688, 300)"
      ]
     },
     "execution_count": 16,
     "metadata": {},
     "output_type": "execute_result"
    }
   ],
   "source": [
    "X_old_shape = X_train.shape\n",
    "X_train = X_train.reshape(X_old_shape[0], \\\n",
    "                          X_old_shape[1]*X_old_shape[2]) \n",
    "X_train.shape"
   ]
  },
  {
   "cell_type": "code",
   "execution_count": 17,
   "id": "e89fd6b5",
   "metadata": {},
   "outputs": [],
   "source": [
    "from tensorflow.keras import Sequential\n",
    "from tensorflow.keras.layers import Input, Dense, Dropout"
   ]
  },
  {
   "cell_type": "code",
   "execution_count": 18,
   "id": "a0159d3a",
   "metadata": {},
   "outputs": [],
   "source": [
    "regressor_ann = Sequential()"
   ]
  },
  {
   "cell_type": "code",
   "execution_count": 19,
   "id": "deb463f7",
   "metadata": {},
   "outputs": [],
   "source": [
    "regressor_ann.add(Input(shape = (300,)))"
   ]
  },
  {
   "cell_type": "code",
   "execution_count": 20,
   "id": "89eadf45",
   "metadata": {},
   "outputs": [],
   "source": [
    "regressor_ann.add(Dense(units = 512, activation = 'relu'))\n",
    "regressor_ann.add(Dropout(0.2))"
   ]
  },
  {
   "cell_type": "code",
   "execution_count": 21,
   "id": "4cf0cd2e",
   "metadata": {},
   "outputs": [],
   "source": [
    "regressor_ann.add(Dense(units = 128, activation = 'relu'))\n",
    "regressor_ann.add(Dropout(0.3))"
   ]
  },
  {
   "cell_type": "code",
   "execution_count": 22,
   "id": "0468ec5c",
   "metadata": {},
   "outputs": [],
   "source": [
    "regressor_ann.add(Dense(units = 64, activation = 'relu'))\n",
    "regressor_ann.add(Dropout(0.4))"
   ]
  },
  {
   "cell_type": "code",
   "execution_count": 23,
   "id": "764c3f28",
   "metadata": {},
   "outputs": [],
   "source": [
    "regressor_ann.add(Dense(units = 16, activation = 'relu'))\n",
    "regressor_ann.add(Dropout(0.5))"
   ]
  },
  {
   "cell_type": "code",
   "execution_count": 24,
   "id": "6c660652",
   "metadata": {},
   "outputs": [],
   "source": [
    "regressor_ann.add(Dense(units = 1))"
   ]
  },
  {
   "cell_type": "code",
   "execution_count": 25,
   "id": "aa61ca13",
   "metadata": {},
   "outputs": [
    {
     "name": "stdout",
     "output_type": "stream",
     "text": [
      "Model: \"sequential\"\n",
      "_________________________________________________________________\n",
      "Layer (type)                 Output Shape              Param #   \n",
      "=================================================================\n",
      "dense (Dense)                (None, 512)               154112    \n",
      "_________________________________________________________________\n",
      "dropout (Dropout)            (None, 512)               0         \n",
      "_________________________________________________________________\n",
      "dense_1 (Dense)              (None, 128)               65664     \n",
      "_________________________________________________________________\n",
      "dropout_1 (Dropout)          (None, 128)               0         \n",
      "_________________________________________________________________\n",
      "dense_2 (Dense)              (None, 64)                8256      \n",
      "_________________________________________________________________\n",
      "dropout_2 (Dropout)          (None, 64)                0         \n",
      "_________________________________________________________________\n",
      "dense_3 (Dense)              (None, 16)                1040      \n",
      "_________________________________________________________________\n",
      "dropout_3 (Dropout)          (None, 16)                0         \n",
      "_________________________________________________________________\n",
      "dense_4 (Dense)              (None, 1)                 17        \n",
      "=================================================================\n",
      "Total params: 229,089\n",
      "Trainable params: 229,089\n",
      "Non-trainable params: 0\n",
      "_________________________________________________________________\n"
     ]
    }
   ],
   "source": [
    "regressor_ann.summary()"
   ]
  },
  {
   "cell_type": "code",
   "execution_count": 26,
   "id": "bbe9bc2c",
   "metadata": {},
   "outputs": [],
   "source": [
    "regressor_ann.compile(optimizer='adam', \\\n",
    "                      loss = 'mean_squared_error')"
   ]
  },
  {
   "cell_type": "code",
   "execution_count": 27,
   "id": "b28c5409",
   "metadata": {},
   "outputs": [
    {
     "name": "stdout",
     "output_type": "stream",
     "text": [
      "Epoch 1/10\n",
      "84/84 [==============================] - 3s 3ms/step - loss: 0.0781\n",
      "Epoch 2/10\n",
      "84/84 [==============================] - 0s 2ms/step - loss: 0.0353\n",
      "Epoch 3/10\n",
      "84/84 [==============================] - 0s 2ms/step - loss: 0.0256\n",
      "Epoch 4/10\n",
      "84/84 [==============================] - 0s 2ms/step - loss: 0.0251\n",
      "Epoch 5/10\n",
      "84/84 [==============================] - 0s 2ms/step - loss: 0.0241\n",
      "Epoch 6/10\n",
      "84/84 [==============================] - 0s 2ms/step - loss: 0.0217\n",
      "Epoch 7/10\n",
      "84/84 [==============================] - 0s 2ms/step - loss: 0.0205\n",
      "Epoch 8/10\n",
      "84/84 [==============================] - 0s 1ms/step - loss: 0.0194\n",
      "Epoch 9/10\n",
      "84/84 [==============================] - 0s 1ms/step - loss: 0.0182\n",
      "Epoch 10/10\n",
      "84/84 [==============================] - 0s 2ms/step - loss: 0.0175\n"
     ]
    },
    {
     "data": {
      "text/plain": [
       "<keras.callbacks.History at 0x26a345c5520>"
      ]
     },
     "execution_count": 27,
     "metadata": {},
     "output_type": "execute_result"
    }
   ],
   "source": [
    "regressor_ann.fit(X_train, y_train, epochs=10, batch_size=32)"
   ]
  },
  {
   "cell_type": "code",
   "execution_count": 28,
   "id": "63dd8e2f",
   "metadata": {},
   "outputs": [
    {
     "data": {
      "text/html": [
       "<div>\n",
       "<style scoped>\n",
       "    .dataframe tbody tr th:only-of-type {\n",
       "        vertical-align: middle;\n",
       "    }\n",
       "\n",
       "    .dataframe tbody tr th {\n",
       "        vertical-align: top;\n",
       "    }\n",
       "\n",
       "    .dataframe thead th {\n",
       "        text-align: right;\n",
       "    }\n",
       "</style>\n",
       "<table border=\"1\" class=\"dataframe\">\n",
       "  <thead>\n",
       "    <tr style=\"text-align: right;\">\n",
       "      <th></th>\n",
       "      <th>Date</th>\n",
       "      <th>Open</th>\n",
       "      <th>High</th>\n",
       "      <th>Low</th>\n",
       "      <th>Close</th>\n",
       "      <th>Adj Close</th>\n",
       "      <th>Volume</th>\n",
       "    </tr>\n",
       "  </thead>\n",
       "  <tbody>\n",
       "    <tr>\n",
       "      <th>2748</th>\n",
       "      <td>2022-07-01</td>\n",
       "      <td>136.039993</td>\n",
       "      <td>139.039993</td>\n",
       "      <td>135.660004</td>\n",
       "      <td>138.929993</td>\n",
       "      <td>138.737274</td>\n",
       "      <td>71051600</td>\n",
       "    </tr>\n",
       "    <tr>\n",
       "      <th>2749</th>\n",
       "      <td>2022-07-05</td>\n",
       "      <td>137.770004</td>\n",
       "      <td>141.610001</td>\n",
       "      <td>136.929993</td>\n",
       "      <td>141.559998</td>\n",
       "      <td>141.363632</td>\n",
       "      <td>73353800</td>\n",
       "    </tr>\n",
       "    <tr>\n",
       "      <th>2750</th>\n",
       "      <td>2022-07-06</td>\n",
       "      <td>141.350006</td>\n",
       "      <td>144.119995</td>\n",
       "      <td>141.080002</td>\n",
       "      <td>142.919998</td>\n",
       "      <td>142.721756</td>\n",
       "      <td>74064300</td>\n",
       "    </tr>\n",
       "    <tr>\n",
       "      <th>2751</th>\n",
       "      <td>2022-07-07</td>\n",
       "      <td>143.289993</td>\n",
       "      <td>146.550003</td>\n",
       "      <td>143.279999</td>\n",
       "      <td>146.350006</td>\n",
       "      <td>146.147003</td>\n",
       "      <td>66253700</td>\n",
       "    </tr>\n",
       "    <tr>\n",
       "      <th>2752</th>\n",
       "      <td>2022-07-08</td>\n",
       "      <td>145.259995</td>\n",
       "      <td>147.550003</td>\n",
       "      <td>145.000000</td>\n",
       "      <td>147.039993</td>\n",
       "      <td>146.836029</td>\n",
       "      <td>64547800</td>\n",
       "    </tr>\n",
       "  </tbody>\n",
       "</table>\n",
       "</div>"
      ],
      "text/plain": [
       "            Date        Open        High         Low       Close   Adj Close  \\\n",
       "2748  2022-07-01  136.039993  139.039993  135.660004  138.929993  138.737274   \n",
       "2749  2022-07-05  137.770004  141.610001  136.929993  141.559998  141.363632   \n",
       "2750  2022-07-06  141.350006  144.119995  141.080002  142.919998  142.721756   \n",
       "2751  2022-07-07  143.289993  146.550003  143.279999  146.350006  146.147003   \n",
       "2752  2022-07-08  145.259995  147.550003  145.000000  147.039993  146.836029   \n",
       "\n",
       "        Volume  \n",
       "2748  71051600  \n",
       "2749  73353800  \n",
       "2750  74064300  \n",
       "2751  66253700  \n",
       "2752  64547800  "
      ]
     },
     "execution_count": 28,
     "metadata": {},
     "output_type": "execute_result"
    }
   ],
   "source": [
    "data_test.head()"
   ]
  },
  {
   "cell_type": "code",
   "execution_count": 29,
   "id": "74201f44",
   "metadata": {},
   "outputs": [],
   "source": [
    "past_60_days = data_training.tail(60)\n",
    "df = past_60_days.append(data_test, ignore_index = True)"
   ]
  },
  {
   "cell_type": "code",
   "execution_count": 30,
   "id": "4d3f165f",
   "metadata": {},
   "outputs": [
    {
     "data": {
      "text/plain": [
       "((20, 300), (20,))"
      ]
     },
     "execution_count": 30,
     "metadata": {},
     "output_type": "execute_result"
    }
   ],
   "source": [
    "df = df.drop(['Date', 'Adj Close'], axis = 1)\n",
    "inputs = scaler.transform(df) \n",
    "X_test = []\n",
    "y_test = []\n",
    "for i in range(60, inputs.shape[0]):\n",
    "    X_test.append(inputs[i-60:i])\n",
    "    y_test.append(inputs[i, 0])\n",
    "X_test, y_test = np.array(X_test), np.array(y_test)\n",
    "X_old_shape = X_test.shape\n",
    "X_test = X_test.reshape(X_old_shape[0], \\\n",
    "                        X_old_shape[1] * X_old_shape[2])\n",
    "X_test.shape, y_test.shape"
   ]
  },
  {
   "cell_type": "code",
   "execution_count": 31,
   "id": "9d53a768",
   "metadata": {},
   "outputs": [],
   "source": [
    "y_pred = regressor_ann.predict(X_test)"
   ]
  },
  {
   "cell_type": "code",
   "execution_count": 32,
   "id": "f2c2aa73",
   "metadata": {},
   "outputs": [
    {
     "data": {
      "text/plain": [
       "array([5.89059465e-03, 5.88551821e-03, 6.00556819e-03, 5.90334970e-03,\n",
       "       6.82537949e-10])"
      ]
     },
     "execution_count": 32,
     "metadata": {},
     "output_type": "execute_result"
    }
   ],
   "source": [
    "scaler.scale_"
   ]
  },
  {
   "cell_type": "code",
   "execution_count": 33,
   "id": "4c1cb4b1",
   "metadata": {},
   "outputs": [
    {
     "data": {
      "text/plain": [
       "270.0700067909643"
      ]
     },
     "execution_count": 33,
     "metadata": {},
     "output_type": "execute_result"
    }
   ],
   "source": [
    "scale = 1/3.70274364e-03\n",
    "scale "
   ]
  },
  {
   "cell_type": "code",
   "execution_count": 34,
   "id": "7b3afcba",
   "metadata": {},
   "outputs": [],
   "source": [
    "y_pred = y_pred*scale\n",
    "y_test = y_test*scale"
   ]
  },
  {
   "cell_type": "code",
   "execution_count": 35,
   "id": "4751f02b",
   "metadata": {
    "scrolled": true
   },
   "outputs": [
    {
     "data": {
      "image/png": "[encoded data removed]",
      "text/plain": [
       "<Figure size 1008x360 with 1 Axes>"
      ]
     },
     "metadata": {
      "needs_background": "light"
     },
     "output_type": "display_data"
    }
   ],
   "source": [
    "plt.figure(figsize=(14,5))\n",
    "plt.plot(y_test, color = 'black', label = \"Real Apple Stock Price\")\n",
    "plt.plot(y_pred, color = 'gray',\\\n",
    "         label = 'Predicted Apple Stock Price')\n",
    "plt.title('Apple Stock Price Prediction')\n",
    "plt.xlabel('time')\n",
    "plt.ylabel('Apple Stock Price')\n",
    "plt.legend()\n",
    "plt.show()"
   ]
  },
  {
   "cell_type": "code",
   "execution_count": null,
   "id": "abbcdacc",
   "metadata": {},
   "outputs": [],
   "source": []
  },
  {
   "cell_type": "code",
   "execution_count": null,
   "id": "8a6429f2",
   "metadata": {},
   "outputs": [],
   "source": []
  },
  {
   "cell_type": "code",
   "execution_count": null,
   "id": "61995504",
   "metadata": {},
   "outputs": [],
   "source": []
  },
  {
   "cell_type": "code",
   "execution_count": null,
   "id": "4e87f7dc",
   "metadata": {},
   "outputs": [],
   "source": []
  },
  {
   "cell_type": "code",
   "execution_count": null,
   "id": "15cbffcf",
   "metadata": {},
   "outputs": [],
   "source": []
  },
  {
   "cell_type": "code",
   "execution_count": null,
   "id": "788b65eb",
   "metadata": {},
   "outputs": [],
   "source": []
  },
  {
   "cell_type": "code",
   "execution_count": null,
   "id": "185da4a3",
   "metadata": {},
   "outputs": [],
   "source": []
  }
 ],
 "metadata": {
  "kernelspec": {
   "display_name": "Python 3",
   "language": "python",
   "name": "python3"
  },
  "language_info": {
   "codemirror_mode": {
    "name": "ipython",
    "version": 3
   },
   "file_extension": ".py",
   "mimetype": "text/x-python",
   "name": "python",
   "nbconvert_exporter": "python",
   "pygments_lexer": "ipython3",
   "version": "3.9.6"
  }
 },
 "nbformat": 4,
 "nbformat_minor": 5
}
