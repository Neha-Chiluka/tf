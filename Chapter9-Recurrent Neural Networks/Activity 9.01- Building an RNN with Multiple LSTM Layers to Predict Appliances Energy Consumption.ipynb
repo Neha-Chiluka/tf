{
 "cells": [
  {
   "cell_type": "code",
   "execution_count": null,
   "id": "b12f229b",
   "metadata": {},
   "outputs": [],
   "source": [
    "import pandas as pd\n",
    "import matplotlib as mpl\n",
    "import matplotlib.pyplot as plt\n",
    "from sklearn.model_selection import train_test_split\n",
    "from tensorflow.keras.preprocessing.sequence import TimeseriesGenerator\n",
    "from sklearn.preprocessing import MinMaxScaler, StandardScaler\n",
    "import tensorflow as tf\n",
    "\n",
    "mpl.rcParams['figure.figsize'] = (10, 8)\n",
    "mpl.rcParams['axes.grid'] = False"
   ]
  },
  {
   "cell_type": "code",
   "execution_count": null,
   "id": "7008dcfb",
   "metadata": {},
   "outputs": [],
   "source": [
    "path = \"https://raw.githubusercontent.com/fenago/tf/main/Chapter9-Recurrent%20Neural%20Networks/datasets/energydata_complete.csv\""
   ]
  },
  {
   "cell_type": "code",
   "execution_count": null,
   "id": "6560998d",
   "metadata": {},
   "outputs": [],
   "source": [
    "df = pd.read_csv(path)"
   ]
  },
  {
   "cell_type": "code",
   "execution_count": null,
   "id": "dcbcac50",
   "metadata": {},
   "outputs": [],
   "source": [
    "df.head()"
   ]
  },
  {
   "cell_type": "code",
   "execution_count": null,
   "id": "b6ad29fe",
   "metadata": {},
   "outputs": [],
   "source": [
    "df.drop(columns='Unnamed: 0', inplace=True)"
   ]
  },
  {
   "cell_type": "code",
   "execution_count": null,
   "id": "55530890",
   "metadata": {},
   "outputs": [],
   "source": [
    "df.info()"
   ]
  },
  {
   "cell_type": "code",
   "execution_count": null,
   "id": "07a8dcbc",
   "metadata": {},
   "outputs": [],
   "source": [
    "df['date'] = pd.to_datetime(df['date'], infer_datetime_format=True)"
   ]
  },
  {
   "cell_type": "code",
   "execution_count": null,
   "id": "b194d1bc",
   "metadata": {},
   "outputs": [],
   "source": [
    "df.set_index('date')[['Appliances', 'lights', 'T_out', 'RH_1', 'Visibility']].plot(subplots=True)"
   ]
  },
  {
   "cell_type": "code",
   "execution_count": null,
   "id": "51b64173",
   "metadata": {},
   "outputs": [],
   "source": [
    "df_input = df[['Appliances', 'lights', 'T_out', 'RH_1', 'Visibility']]"
   ]
  },
  {
   "cell_type": "code",
   "execution_count": null,
   "id": "cbe63cff",
   "metadata": {},
   "outputs": [],
   "source": [
    "df_input.head()"
   ]
  },
  {
   "cell_type": "code",
   "execution_count": null,
   "id": "39c7ca58",
   "metadata": {},
   "outputs": [],
   "source": [
    "df_input.describe()"
   ]
  },
  {
   "cell_type": "code",
   "execution_count": null,
   "id": "5967e075",
   "metadata": {},
   "outputs": [],
   "source": [
    "df_input.query('Appliances > 500')"
   ]
  },
  {
   "cell_type": "code",
   "execution_count": null,
   "id": "00366126",
   "metadata": {},
   "outputs": [],
   "source": [
    "scaler = MinMaxScaler()\n",
    "scaled_data = scaler.fit_transform(df_input)"
   ]
  },
  {
   "cell_type": "code",
   "execution_count": null,
   "id": "34daaa53",
   "metadata": {},
   "outputs": [],
   "source": [
    "X = []\n",
    "y = []"
   ]
  },
  {
   "cell_type": "code",
   "execution_count": null,
   "id": "08babf53",
   "metadata": {},
   "outputs": [],
   "source": [
    "for i in range(60, scaled_data.shape[0]):\n",
    "    X.append(scaled_data [i-60:i])\n",
    "    y.append(scaled_data [i, 0])"
   ]
  },
  {
   "cell_type": "code",
   "execution_count": null,
   "id": "217addaa",
   "metadata": {},
   "outputs": [],
   "source": [
    "import numpy as np\n",
    "\n",
    "X, y = np.array(X), np.array(y)"
   ]
  },
  {
   "cell_type": "code",
   "execution_count": null,
   "id": "2f79a77b",
   "metadata": {},
   "outputs": [],
   "source": [
    "X_train = X[:19000]\n",
    "y_train = y[:19000]\n",
    "X_test = X[19000:]\n",
    "y_test = y[19000:]"
   ]
  },
  {
   "cell_type": "code",
   "execution_count": null,
   "id": "6f7954fd",
   "metadata": {},
   "outputs": [],
   "source": [
    "from tensorflow.keras import Sequential\n",
    "from tensorflow.keras.layers import Dense, LSTM, Dropout"
   ]
  },
  {
   "cell_type": "code",
   "execution_count": null,
   "id": "ba19f767",
   "metadata": {},
   "outputs": [],
   "source": [
    "regressor = Sequential()\n",
    "regressor.add(LSTM(units= 20, activation = 'relu',\\\n",
    "                   return_sequences = True,\\\n",
    "                   input_shape = (X_train.shape[1], X_train.shape[2])))\n",
    "regressor.add(Dropout(0.5))\n",
    "regressor.add(LSTM(units= 40, \\\n",
    "                   activation = 'relu', \\\n",
    "                   return_sequences = True))\n",
    "regressor.add(Dropout(0.5))\n",
    "regressor.add(LSTM(units= 80, \\\n",
    "                   activation = 'relu'))\n",
    "regressor.add(Dropout(0.5))\n",
    "regressor.add(Dense(units = 1))  "
   ]
  },
  {
   "cell_type": "code",
   "execution_count": null,
   "id": "5fa9bbb7",
   "metadata": {},
   "outputs": [],
   "source": [
    "regressor.summary()"
   ]
  },
  {
   "cell_type": "code",
   "execution_count": null,
   "id": "b5a582c1",
   "metadata": {},
   "outputs": [],
   "source": [
    "regressor.compile(optimizer='adam', loss = 'mean_squared_error')"
   ]
  },
  {
   "cell_type": "code",
   "execution_count": null,
   "id": "13adb1de",
   "metadata": {},
   "outputs": [],
   "source": [
    "regressor.fit(X_train, y_train, epochs=2, batch_size=32)"
   ]
  },
  {
   "cell_type": "code",
   "execution_count": null,
   "id": "3b916962",
   "metadata": {},
   "outputs": [],
   "source": [
    "y_pred = regressor.predict(X_test)"
   ]
  },
  {
   "cell_type": "code",
   "execution_count": null,
   "id": "8a8e930a",
   "metadata": {},
   "outputs": [],
   "source": [
    "plt.figure(figsize=(14,5))\n",
    "plt.plot(y_test[-60:], color = 'black', \\\n",
    "         label = \"Real Appliance Energy Consumption\")\n",
    "plt.plot(y_pred[-60:], color = 'gray', \\\n",
    "         label = 'Predicted Appliance Energy Consumption')\n",
    "plt.title('Appliance Energy Consumption Prediction')\n",
    "plt.xlabel('time')\n",
    "plt.ylabel('Appliance Energy Consumption')\n",
    "plt.legend()\n",
    "plt.show()"
   ]
  }
 ],
 "metadata": {
  "kernelspec": {
   "display_name": "Python 3",
   "language": "python",
   "name": "python3"
  },
  "language_info": {
   "codemirror_mode": {
    "name": "ipython",
    "version": 3
   },
   "file_extension": ".py",
   "mimetype": "text/x-python",
   "name": "python",
   "nbconvert_exporter": "python",
   "pygments_lexer": "ipython3",
   "version": "3.9.6"
  }
 },
 "nbformat": 4,
 "nbformat_minor": 5
}
