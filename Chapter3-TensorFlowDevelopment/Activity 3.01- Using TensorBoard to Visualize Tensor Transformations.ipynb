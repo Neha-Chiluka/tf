{
 "cells": [
  {
   "cell_type": "code",
   "execution_count": 1,
   "id": "53859600",
   "metadata": {},
   "outputs": [],
   "source": [
    "import tensorflow as tf\n",
    "tf.random.set_seed(10)"
   ]
  },
  {
   "cell_type": "code",
   "execution_count": 2,
   "id": "5490f495",
   "metadata": {},
   "outputs": [],
   "source": [
    "logdir = 'logs/'\n",
    "writer = tf.summary.create_file_writer(logdir)"
   ]
  },
  {
   "cell_type": "code",
   "execution_count": 3,
   "id": "59f3916b",
   "metadata": {},
   "outputs": [],
   "source": [
    "@tf.function\n",
    "def my_fun(x, y):\n",
    "        r1 = tf.matmul(x, y)\n",
    "        r2 = r1 + tf.ones_like(r1)\n",
    "        r3 = tf.keras.activations.sigmoid(r2)\n",
    "        return r3"
   ]
  },
  {
   "cell_type": "code",
   "execution_count": 4,
   "id": "afa093e4",
   "metadata": {},
   "outputs": [],
   "source": [
    "x = tf.random.uniform((7, 7, 7))\n",
    "y = tf.random.uniform((7, 7, 7))"
   ]
  },
  {
   "cell_type": "code",
   "execution_count": 5,
   "id": "9b2d74d6",
   "metadata": {},
   "outputs": [
    {
     "name": "stdout",
     "output_type": "stream",
     "text": [
      "WARNING:tensorflow:From C:\\Users\\Bhara\\anaconda3\\envs\\tf_ws\\lib\\site-packages\\tensorflow\\python\\ops\\summary_ops_v2.py:1305: start (from tensorflow.python.eager.profiler) is deprecated and will be removed after 2020-07-01.\n",
      "Instructions for updating:\n",
      "use `tf.profiler.experimental.start` instead.\n"
     ]
    }
   ],
   "source": [
    "tf.summary.trace_on(graph=True, profiler=True)"
   ]
  },
  {
   "cell_type": "code",
   "execution_count": 7,
   "id": "bc73eeca",
   "metadata": {},
   "outputs": [
    {
     "name": "stdout",
     "output_type": "stream",
     "text": [
      "WARNING:tensorflow:From C:\\Users\\Bhara\\anaconda3\\envs\\tf_ws\\lib\\site-packages\\tensorflow\\python\\ops\\summary_ops_v2.py:1355: stop (from tensorflow.python.eager.profiler) is deprecated and will be removed after 2020-07-01.\n",
      "Instructions for updating:\n",
      "use `tf.profiler.experimental.stop` instead.\n",
      "WARNING:tensorflow:From C:\\Users\\Bhara\\anaconda3\\envs\\tf_ws\\lib\\site-packages\\tensorflow\\python\\ops\\summary_ops_v2.py:1355: save (from tensorflow.python.eager.profiler) is deprecated and will be removed after 2020-07-01.\n",
      "Instructions for updating:\n",
      "`tf.python.eager.profiler` has deprecated, use `tf.profiler` instead.\n",
      "WARNING:tensorflow:From C:\\Users\\Bhara\\anaconda3\\envs\\tf_ws\\lib\\site-packages\\tensorflow\\python\\eager\\profiler.py:151: maybe_create_event_file (from tensorflow.python.eager.profiler) is deprecated and will be removed after 2020-07-01.\n",
      "Instructions for updating:\n",
      "`tf.python.eager.profiler` has deprecated, use `tf.profiler` instead.\n"
     ]
    }
   ],
   "source": [
    "z = my_fun(x, y)\n",
    "with writer.as_default():\n",
    "        tf.summary.trace_export(name=\"my_fun_trace\",\\\n",
    "                                step=0,\\\n",
    "                                profiler_outdir=logdir)"
   ]
  },
  {
   "cell_type": "code",
   "execution_count": 8,
   "id": "418a9ed1",
   "metadata": {},
   "outputs": [
    {
     "data": {
      "text/plain": [
       "Reusing TensorBoard on port 6006 (pid 5776), started 0:33:28 ago. (Use '!kill 5776' to kill it.)"
      ]
     },
     "metadata": {},
     "output_type": "display_data"
    },
    {
     "data": {
      "text/html": [
       "\n",
       "      <iframe id=\"tensorboard-frame-69eb5daf4be1057f\" width=\"100%\" height=\"800\" frameborder=\"0\">\n",
       "      </iframe>\n",
       "      <script>\n",
       "        (function() {\n",
       "          const frame = document.getElementById(\"tensorboard-frame-69eb5daf4be1057f\");\n",
       "          const url = new URL(\"/\", window.location);\n",
       "          const port = 6006;\n",
       "          if (port) {\n",
       "            url.port = port;\n",
       "          }\n",
       "          frame.src = url;\n",
       "        })();\n",
       "      </script>\n",
       "    "
      ],
      "text/plain": [
       "<IPython.core.display.HTML object>"
      ]
     },
     "metadata": {},
     "output_type": "display_data"
    }
   ],
   "source": [
    "%load_ext tensorboard\n",
    "%tensorboard --host 0.0.0.0 --logdir=\"logs\""
   ]
  }
 ],
 "metadata": {
  "kernelspec": {
   "display_name": "Python 3",
   "language": "python",
   "name": "python3"
  },
  "language_info": {
   "codemirror_mode": {
    "name": "ipython",
    "version": 3
   },
   "file_extension": ".py",
   "mimetype": "text/x-python",
   "name": "python",
   "nbconvert_exporter": "python",
   "pygments_lexer": "ipython3",
   "version": "3.9.6"
  }
 },
 "nbformat": 4,
 "nbformat_minor": 5
}
