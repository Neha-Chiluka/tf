{
 "cells": [
  {
   "cell_type": "code",
   "execution_count": 1,
   "id": "abfb1a54",
   "metadata": {},
   "outputs": [],
   "source": [
    "import tensorflow as tf\n",
    "from tensorflow.keras.preprocessing.image import ImageDataGenerator"
   ]
  },
  {
   "cell_type": "code",
   "execution_count": 2,
   "id": "f1e58727",
   "metadata": {},
   "outputs": [],
   "source": [
    "logdir = 'logs/'\n",
    "writer = tf.summary.create_file_writer(logdir)"
   ]
  },
  {
   "cell_type": "code",
   "execution_count": 3,
   "id": "713987ec",
   "metadata": {},
   "outputs": [],
   "source": [
    "train_datagen = ImageDataGenerator(rescale = 1./255)"
   ]
  },
  {
   "cell_type": "code",
   "execution_count": 4,
   "id": "56de78c3",
   "metadata": {},
   "outputs": [
    {
     "name": "stdout",
     "output_type": "stream",
     "text": [
      "Found 15 images belonging to 2 classes.\n"
     ]
    }
   ],
   "source": [
    "batch_size = 3\n",
    "training_set = train_datagen.flow_from_directory(r'dataset/image_data', \n",
    "                target_size = (224, 224),\n",
    "                batch_size = batch_size,\n",
    "                class_mode = 'binary') "
   ]
  },
  {
   "cell_type": "code",
   "execution_count": 7,
   "id": "7b58ce38",
   "metadata": {},
   "outputs": [],
   "source": [
    "with writer.as_default():\n",
    "    tf.summary.image(\"Traning data\",\n",
    "                    next(training_set)[0],\n",
    "                    max_outputs=batch_size,\n",
    "                    step=0)"
   ]
  },
  {
   "cell_type": "code",
   "execution_count": 9,
   "id": "5d1cbc6f",
   "metadata": {
    "scrolled": true
   },
   "outputs": [
    {
     "data": {
      "text/plain": [
       "Reusing TensorBoard on port 6006 (pid 5776), started 1 day, 20:12:52 ago. (Use '!kill 5776' to kill it.)"
      ]
     },
     "metadata": {},
     "output_type": "display_data"
    },
    {
     "data": {
      "text/html": [
       "\n",
       "      <iframe id=\"tensorboard-frame-70cd79c6f75e38a5\" width=\"100%\" height=\"800\" frameborder=\"0\">\n",
       "      </iframe>\n",
       "      <script>\n",
       "        (function() {\n",
       "          const frame = document.getElementById(\"tensorboard-frame-70cd79c6f75e38a5\");\n",
       "          const url = new URL(\"/\", window.location);\n",
       "          const port = 6006;\n",
       "          if (port) {\n",
       "            url.port = port;\n",
       "          }\n",
       "          frame.src = url;\n",
       "        })();\n",
       "      </script>\n",
       "    "
      ],
      "text/plain": [
       "<IPython.core.display.HTML object>"
      ]
     },
     "metadata": {},
     "output_type": "display_data"
    }
   ],
   "source": [
    "%load_ext tensorboard\n",
    "%tensorboard --host 0.0.0.0 --logdir=\"logs\""
   ]
  }
 ],
 "metadata": {
  "kernelspec": {
   "display_name": "Python 3",
   "language": "python",
   "name": "python3"
  },
  "language_info": {
   "codemirror_mode": {
    "name": "ipython",
    "version": 3
   },
   "file_extension": ".py",
   "mimetype": "text/x-python",
   "name": "python",
   "nbconvert_exporter": "python",
   "pygments_lexer": "ipython3",
   "version": "3.8.8"
  }
 },
 "nbformat": 4,
 "nbformat_minor": 5
}
