{
 "cells": [
  {
   "cell_type": "code",
   "execution_count": null,
   "id": "2db1b7db",
   "metadata": {},
   "outputs": [],
   "source": [
    "import tensorflow as tf\n",
    "import tensorflow_hub as hub\n",
    "from tensorflow.python.client import session\n",
    "from tensorflow.python.summary import summary\n",
    "from tensorflow.python.framework import ops"
   ]
  },
  {
   "cell_type": "code",
   "execution_count": null,
   "id": "633e5ffd",
   "metadata": {},
   "outputs": [],
   "source": [
    "logdir = 'logs/'"
   ]
  },
  {
   "cell_type": "code",
   "execution_count": null,
   "id": "f2bbb5b5",
   "metadata": {},
   "outputs": [],
   "source": [
    "module = hub.load('https://tfhub.dev/google/imagenet/'\n",
    "                  \\'inception_resnet_v2/classification/5')"
   ]
  },
  {
   "cell_type": "code",
   "execution_count": null,
   "id": "fa2d7a29",
   "metadata": {},
   "outputs": [],
   "source": [
    "model = module.signatures['serving_default']"
   ]
  },
  {
   "cell_type": "code",
   "execution_count": null,
   "id": "ba3bec75",
   "metadata": {},
   "outputs": [],
   "source": [
    "with session.Session(graph=ops.Graph()) as sess:\n",
    "        file_writer = summary.FileWriter(logdir)\n",
    "        file_writer.add_graph(model.graph)"
   ]
  },
  {
   "cell_type": "code",
   "execution_count": null,
   "id": "aeb33b64",
   "metadata": {},
   "outputs": [],
   "source": [
    "%load_ext tensorboard\n",
    "%tensorboard --host 0.0.0.0 --logdir=\"logs\""
   ]
  }
 ],
 "metadata": {
  "kernelspec": {
   "display_name": "Python 3",
   "language": "python",
   "name": "python3"
  },
  "language_info": {
   "codemirror_mode": {
    "name": "ipython",
    "version": 3
   },
   "file_extension": ".py",
   "mimetype": "text/x-python",
   "name": "python",
   "nbconvert_exporter": "python",
   "pygments_lexer": "ipython3",
   "version": "3.9.6"
  }
 },
 "nbformat": 4,
 "nbformat_minor": 5
}
