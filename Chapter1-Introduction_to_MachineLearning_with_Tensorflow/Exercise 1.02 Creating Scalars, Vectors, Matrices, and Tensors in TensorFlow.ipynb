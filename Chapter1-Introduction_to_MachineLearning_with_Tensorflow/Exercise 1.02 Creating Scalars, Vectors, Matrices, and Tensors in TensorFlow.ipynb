{
 "cells": [
  {
   "cell_type": "code",
   "execution_count": 1,
   "id": "08c6f5e5",
   "metadata": {},
   "outputs": [],
   "source": [
    "import tensorflow as tf"
   ]
  },
  {
   "cell_type": "code",
   "execution_count": 2,
   "id": "b53dd9f5",
   "metadata": {},
   "outputs": [
    {
     "data": {
      "text/plain": [
       "<tf.Variable 'Variable:0' shape=() dtype=int32, numpy=365>"
      ]
     },
     "execution_count": 2,
     "metadata": {},
     "output_type": "execute_result"
    }
   ],
   "source": [
    "int_variable = tf.Variable(365, tf.int16)\n",
    "int_variable"
   ]
  },
  {
   "cell_type": "code",
   "execution_count": 3,
   "id": "ccef4264",
   "metadata": {},
   "outputs": [
    {
     "data": {
      "text/plain": [
       "<tf.Tensor: shape=(), dtype=int32, numpy=0>"
      ]
     },
     "execution_count": 3,
     "metadata": {},
     "output_type": "execute_result"
    }
   ],
   "source": [
    "tf.rank(int_variable)"
   ]
  },
  {
   "cell_type": "code",
   "execution_count": 4,
   "id": "18e5f4dd",
   "metadata": {},
   "outputs": [
    {
     "data": {
      "text/plain": [
       "0"
      ]
     },
     "execution_count": 4,
     "metadata": {},
     "output_type": "execute_result"
    }
   ],
   "source": [
    "tf.rank(int_variable).numpy()"
   ]
  },
  {
   "cell_type": "code",
   "execution_count": 5,
   "id": "3067ef3b",
   "metadata": {},
   "outputs": [
    {
     "data": {
      "text/plain": [
       "TensorShape([])"
      ]
     },
     "execution_count": 5,
     "metadata": {},
     "output_type": "execute_result"
    }
   ],
   "source": [
    "int_variable.shape"
   ]
  },
  {
   "cell_type": "code",
   "execution_count": 6,
   "id": "54b1a67d",
   "metadata": {},
   "outputs": [
    {
     "data": {
      "text/plain": [
       "[]"
      ]
     },
     "execution_count": 6,
     "metadata": {},
     "output_type": "execute_result"
    }
   ],
   "source": [
    "int_variable.shape.as_list()"
   ]
  },
  {
   "cell_type": "code",
   "execution_count": 8,
   "id": "a2965cde",
   "metadata": {},
   "outputs": [
    {
     "data": {
      "text/plain": [
       "<tf.Variable 'Variable:0' shape=(3,) dtype=float32, numpy=array([0.23, 0.42, 0.35], dtype=float32)>"
      ]
     },
     "execution_count": 8,
     "metadata": {},
     "output_type": "execute_result"
    }
   ],
   "source": [
    "vector_variable = tf.Variable([0.23, 0.42, 0.35], \\\n",
    "                              tf.float32)\n",
    "vector_variable"
   ]
  },
  {
   "cell_type": "code",
   "execution_count": 9,
   "id": "ae750f18",
   "metadata": {},
   "outputs": [
    {
     "data": {
      "text/plain": [
       "1"
      ]
     },
     "execution_count": 9,
     "metadata": {},
     "output_type": "execute_result"
    }
   ],
   "source": [
    "tf.rank(vector_variable).numpy()"
   ]
  },
  {
   "cell_type": "code",
   "execution_count": 10,
   "id": "f69ff134",
   "metadata": {},
   "outputs": [
    {
     "data": {
      "text/plain": [
       "[3]"
      ]
     },
     "execution_count": 10,
     "metadata": {},
     "output_type": "execute_result"
    }
   ],
   "source": [
    "vector_variable.shape.as_list()"
   ]
  },
  {
   "cell_type": "code",
   "execution_count": 11,
   "id": "d496f2ff",
   "metadata": {},
   "outputs": [
    {
     "data": {
      "text/plain": [
       "<tf.Variable 'Variable:0' shape=(2, 3) dtype=int32, numpy=\n",
       "array([[41, 75, 62],\n",
       "       [38, 67, 69]])>"
      ]
     },
     "execution_count": 11,
     "metadata": {},
     "output_type": "execute_result"
    }
   ],
   "source": [
    "matrix_variable = tf.Variable([[41, 75, 62], \\\n",
    "                               [38, 67, 69]], \\\n",
    "                              tf.int32)\n",
    "matrix_variable"
   ]
  },
  {
   "cell_type": "code",
   "execution_count": 12,
   "id": "47a9fb8f",
   "metadata": {},
   "outputs": [
    {
     "data": {
      "text/plain": [
       "2"
      ]
     },
     "execution_count": 12,
     "metadata": {},
     "output_type": "execute_result"
    }
   ],
   "source": [
    "tf.rank(matrix_variable).numpy()"
   ]
  },
  {
   "cell_type": "code",
   "execution_count": 13,
   "id": "b34108ad",
   "metadata": {},
   "outputs": [
    {
     "data": {
      "text/plain": [
       "[2, 3]"
      ]
     },
     "execution_count": 13,
     "metadata": {},
     "output_type": "execute_result"
    }
   ],
   "source": [
    "matrix_variable.shape.as_list()"
   ]
  },
  {
   "cell_type": "code",
   "execution_count": 21,
   "id": "88b97d6c",
   "metadata": {},
   "outputs": [
    {
     "data": {
      "text/plain": [
       "<tf.Variable 'Variable:0' shape=(3, 2, 3) dtype=int32, numpy=\n",
       "array([[[41, 75, 62],\n",
       "        [38, 67, 69]],\n",
       "\n",
       "       [[51, 70, 65],\n",
       "        [36, 59, 62]],\n",
       "\n",
       "       [[95, 78, 98],\n",
       "        [80, 45, 48]]])>"
      ]
     },
     "execution_count": 21,
     "metadata": {},
     "output_type": "execute_result"
    }
   ],
   "source": [
    "tensor_variable = tf.Variable([[[41, 75, 62], \\\n",
    "                                  [38, 67, 69]], \\\n",
    "                                  [[51, 70, 65], \\\n",
    "                                    [36, 59, 62]], \\\n",
    "                                   [[95, 78, 98], \\\n",
    "                                    [80, 45, 48]]])\n",
    "tensor_variable"
   ]
  },
  {
   "cell_type": "code",
   "execution_count": 22,
   "id": "dab669d2",
   "metadata": {},
   "outputs": [
    {
     "data": {
      "text/plain": [
       "3"
      ]
     },
     "execution_count": 22,
     "metadata": {},
     "output_type": "execute_result"
    }
   ],
   "source": [
    "tf.rank(tensor_variable).numpy()"
   ]
  },
  {
   "cell_type": "code",
   "execution_count": 23,
   "id": "5f8dade5",
   "metadata": {},
   "outputs": [
    {
     "data": {
      "text/plain": [
       "[3, 2, 3]"
      ]
     },
     "execution_count": 23,
     "metadata": {},
     "output_type": "execute_result"
    }
   ],
   "source": [
    "tensor_variable.shape.as_list()"
   ]
  },
  {
   "cell_type": "code",
   "execution_count": null,
   "id": "2198b752",
   "metadata": {},
   "outputs": [],
   "source": []
  },
  {
   "cell_type": "code",
   "execution_count": null,
   "id": "f652f578",
   "metadata": {},
   "outputs": [],
   "source": []
  }
 ],
 "metadata": {
  "kernelspec": {
   "display_name": "Python 3",
   "language": "python",
   "name": "python3"
  },
  "language_info": {
   "codemirror_mode": {
    "name": "ipython",
    "version": 3
   },
   "file_extension": ".py",
   "mimetype": "text/x-python",
   "name": "python",
   "nbconvert_exporter": "python",
   "pygments_lexer": "ipython3",
   "version": "3.9.6"
  }
 },
 "nbformat": 4,
 "nbformat_minor": 5
}
